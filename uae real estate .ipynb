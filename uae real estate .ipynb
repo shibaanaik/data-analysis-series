{
 "cells": [
  {
   "cell_type": "code",
   "execution_count": 99,
   "id": "9469f65e",
   "metadata": {},
   "outputs": [],
   "source": [
    "import pandas as pd \n",
    "import numpy as np\n",
    "import matplotlib.pyplot as plt \n",
    "import seaborn as sns "
   ]
  },
  {
   "cell_type": "code",
   "execution_count": 235,
   "id": "40ea6219",
   "metadata": {},
   "outputs": [],
   "source": [
    "df=pd.read_csv('uae-housing_dataset.csv')"
   ]
  },
  {
   "cell_type": "code",
   "execution_count": 236,
   "id": "9a3a2b53",
   "metadata": {},
   "outputs": [
    {
     "data": {
      "text/html": [
       "<div>\n",
       "<style scoped>\n",
       "    .dataframe tbody tr th:only-of-type {\n",
       "        vertical-align: middle;\n",
       "    }\n",
       "\n",
       "    .dataframe tbody tr th {\n",
       "        vertical-align: top;\n",
       "    }\n",
       "\n",
       "    .dataframe thead th {\n",
       "        text-align: right;\n",
       "    }\n",
       "</style>\n",
       "<table border=\"1\" class=\"dataframe\">\n",
       "  <thead>\n",
       "    <tr style=\"text-align: right;\">\n",
       "      <th></th>\n",
       "      <th>price</th>\n",
       "      <th>bedroom</th>\n",
       "      <th>bathroom</th>\n",
       "      <th>area(sqft)</th>\n",
       "      <th>country</th>\n",
       "      <th>city</th>\n",
       "      <th>address</th>\n",
       "      <th>propert_type</th>\n",
       "      <th>purpose</th>\n",
       "      <th>furnishing</th>\n",
       "      <th>completion_status</th>\n",
       "      <th>handover</th>\n",
       "      <th>project_name</th>\n",
       "    </tr>\n",
       "  </thead>\n",
       "  <tbody>\n",
       "    <tr>\n",
       "      <th>0</th>\n",
       "      <td>1,800,000</td>\n",
       "      <td>3 beds</td>\n",
       "      <td>4 baths</td>\n",
       "      <td>1,208 sqft</td>\n",
       "      <td>UAE</td>\n",
       "      <td>Dubai</td>\n",
       "      <td>DAMAC Hills 2 (Akoya by DAMAC)</td>\n",
       "      <td>Townhouse</td>\n",
       "      <td>Sale</td>\n",
       "      <td>Unfurnished</td>\n",
       "      <td>Off-Plan</td>\n",
       "      <td>Q2 2025</td>\n",
       "      <td>Camelia Villas</td>\n",
       "    </tr>\n",
       "    <tr>\n",
       "      <th>1</th>\n",
       "      <td>325,000</td>\n",
       "      <td>Studio</td>\n",
       "      <td>1 bath</td>\n",
       "      <td>483 sqft</td>\n",
       "      <td>UAE</td>\n",
       "      <td>Dubai</td>\n",
       "      <td>International City</td>\n",
       "      <td>Apartment</td>\n",
       "      <td>Sale</td>\n",
       "      <td>Unfurnished</td>\n",
       "      <td>Ready</td>\n",
       "      <td>Q2 2025</td>\n",
       "      <td>Camelia Villas</td>\n",
       "    </tr>\n",
       "    <tr>\n",
       "      <th>2</th>\n",
       "      <td>470,000</td>\n",
       "      <td>Studio</td>\n",
       "      <td>1 bath</td>\n",
       "      <td>428 sqft</td>\n",
       "      <td>UAE</td>\n",
       "      <td>Dubai</td>\n",
       "      <td>Arjan</td>\n",
       "      <td>Apartment</td>\n",
       "      <td>Sale</td>\n",
       "      <td>Furnished</td>\n",
       "      <td>Ready</td>\n",
       "      <td>Q2 2025</td>\n",
       "      <td>Camelia Villas</td>\n",
       "    </tr>\n",
       "    <tr>\n",
       "      <th>3</th>\n",
       "      <td>1,120,000</td>\n",
       "      <td>1 bed</td>\n",
       "      <td>1 bath</td>\n",
       "      <td>706 sqft</td>\n",
       "      <td>UAE</td>\n",
       "      <td>Dubai</td>\n",
       "      <td>Dubai South</td>\n",
       "      <td>Apartment</td>\n",
       "      <td>Sale</td>\n",
       "      <td>Unfurnished</td>\n",
       "      <td>Off-Plan</td>\n",
       "      <td>Q3 2029</td>\n",
       "      <td>Camelia Villas</td>\n",
       "    </tr>\n",
       "    <tr>\n",
       "      <th>4</th>\n",
       "      <td>2,127,888</td>\n",
       "      <td>2 beds</td>\n",
       "      <td>2 baths</td>\n",
       "      <td>1,149 sqft</td>\n",
       "      <td>UAE</td>\n",
       "      <td>Dubai</td>\n",
       "      <td>Dubai South</td>\n",
       "      <td>Apartment</td>\n",
       "      <td>Sale</td>\n",
       "      <td>Unfurnished</td>\n",
       "      <td>Off-Plan</td>\n",
       "      <td>Q3 2029</td>\n",
       "      <td>Camelia Villas</td>\n",
       "    </tr>\n",
       "  </tbody>\n",
       "</table>\n",
       "</div>"
      ],
      "text/plain": [
       "       price bedroom bathroom  area(sqft) country    city  \\\n",
       "0  1,800,000  3 beds  4 baths  1,208 sqft     UAE   Dubai   \n",
       "1    325,000  Studio   1 bath    483 sqft     UAE   Dubai   \n",
       "2    470,000  Studio   1 bath    428 sqft     UAE   Dubai   \n",
       "3  1,120,000   1 bed   1 bath    706 sqft     UAE   Dubai   \n",
       "4  2,127,888  2 beds  2 baths  1,149 sqft     UAE   Dubai   \n",
       "\n",
       "                           address propert_type purpose   furnishing  \\\n",
       "0   DAMAC Hills 2 (Akoya by DAMAC)    Townhouse    Sale  Unfurnished   \n",
       "1               International City    Apartment    Sale  Unfurnished   \n",
       "2                            Arjan    Apartment    Sale    Furnished   \n",
       "3                      Dubai South    Apartment    Sale  Unfurnished   \n",
       "4                      Dubai South    Apartment    Sale  Unfurnished   \n",
       "\n",
       "  completion_status handover    project_name  \n",
       "0          Off-Plan  Q2 2025  Camelia Villas  \n",
       "1             Ready  Q2 2025  Camelia Villas  \n",
       "2             Ready  Q2 2025  Camelia Villas  \n",
       "3          Off-Plan  Q3 2029  Camelia Villas  \n",
       "4          Off-Plan  Q3 2029  Camelia Villas  "
      ]
     },
     "execution_count": 236,
     "metadata": {},
     "output_type": "execute_result"
    }
   ],
   "source": [
    "df.head()"
   ]
  },
  {
   "cell_type": "code",
   "execution_count": 237,
   "id": "bd26ded1",
   "metadata": {},
   "outputs": [
    {
     "data": {
      "text/plain": [
       "(5380, 13)"
      ]
     },
     "execution_count": 237,
     "metadata": {},
     "output_type": "execute_result"
    }
   ],
   "source": [
    "df.shape"
   ]
  },
  {
   "cell_type": "code",
   "execution_count": 238,
   "id": "c99a8160",
   "metadata": {},
   "outputs": [
    {
     "name": "stdout",
     "output_type": "stream",
     "text": [
      "<class 'pandas.core.frame.DataFrame'>\n",
      "RangeIndex: 5380 entries, 0 to 5379\n",
      "Data columns (total 13 columns):\n",
      " #   Column             Non-Null Count  Dtype \n",
      "---  ------             --------------  ----- \n",
      " 0   price              5380 non-null   object\n",
      " 1   bedroom            5380 non-null   object\n",
      " 2   bathroom           5380 non-null   object\n",
      " 3   area(sqft)         5380 non-null   object\n",
      " 4   country            5380 non-null   object\n",
      " 5   city               5380 non-null   object\n",
      " 6   address            5380 non-null   object\n",
      " 7   propert_type       5380 non-null   object\n",
      " 8   purpose            5380 non-null   object\n",
      " 9   furnishing         5380 non-null   object\n",
      " 10  completion_status  5380 non-null   object\n",
      " 11  handover           5380 non-null   object\n",
      " 12  project_name       5380 non-null   object\n",
      "dtypes: object(13)\n",
      "memory usage: 546.5+ KB\n"
     ]
    }
   ],
   "source": [
    "df.info()"
   ]
  },
  {
   "cell_type": "code",
   "execution_count": 239,
   "id": "1f956893",
   "metadata": {},
   "outputs": [
    {
     "data": {
      "text/html": [
       "<div>\n",
       "<style scoped>\n",
       "    .dataframe tbody tr th:only-of-type {\n",
       "        vertical-align: middle;\n",
       "    }\n",
       "\n",
       "    .dataframe tbody tr th {\n",
       "        vertical-align: top;\n",
       "    }\n",
       "\n",
       "    .dataframe thead th {\n",
       "        text-align: right;\n",
       "    }\n",
       "</style>\n",
       "<table border=\"1\" class=\"dataframe\">\n",
       "  <thead>\n",
       "    <tr style=\"text-align: right;\">\n",
       "      <th></th>\n",
       "      <th>price</th>\n",
       "      <th>bedroom</th>\n",
       "      <th>bathroom</th>\n",
       "      <th>area(sqft)</th>\n",
       "      <th>country</th>\n",
       "      <th>city</th>\n",
       "      <th>address</th>\n",
       "      <th>propert_type</th>\n",
       "      <th>purpose</th>\n",
       "      <th>furnishing</th>\n",
       "      <th>completion_status</th>\n",
       "      <th>handover</th>\n",
       "      <th>project_name</th>\n",
       "    </tr>\n",
       "  </thead>\n",
       "  <tbody>\n",
       "    <tr>\n",
       "      <th>count</th>\n",
       "      <td>5380</td>\n",
       "      <td>5380</td>\n",
       "      <td>5380</td>\n",
       "      <td>5380</td>\n",
       "      <td>5380</td>\n",
       "      <td>5380</td>\n",
       "      <td>5380</td>\n",
       "      <td>5380</td>\n",
       "      <td>5380</td>\n",
       "      <td>5380</td>\n",
       "      <td>5380</td>\n",
       "      <td>5380</td>\n",
       "      <td>5380</td>\n",
       "    </tr>\n",
       "    <tr>\n",
       "      <th>unique</th>\n",
       "      <td>1315</td>\n",
       "      <td>11</td>\n",
       "      <td>12</td>\n",
       "      <td>1601</td>\n",
       "      <td>1</td>\n",
       "      <td>1</td>\n",
       "      <td>119</td>\n",
       "      <td>6</td>\n",
       "      <td>1</td>\n",
       "      <td>2</td>\n",
       "      <td>2</td>\n",
       "      <td>25</td>\n",
       "      <td>868</td>\n",
       "    </tr>\n",
       "    <tr>\n",
       "      <th>top</th>\n",
       "      <td>1,800,000</td>\n",
       "      <td>1 bed</td>\n",
       "      <td>2 baths</td>\n",
       "      <td>792 sqft</td>\n",
       "      <td>UAE</td>\n",
       "      <td>Dubai</td>\n",
       "      <td>Business Bay</td>\n",
       "      <td>Apartment</td>\n",
       "      <td>Sale</td>\n",
       "      <td>Unfurnished</td>\n",
       "      <td>Ready</td>\n",
       "      <td>Q4 2026</td>\n",
       "      <td>The Cosmopolitan (Damac Maison)</td>\n",
       "    </tr>\n",
       "    <tr>\n",
       "      <th>freq</th>\n",
       "      <td>70</td>\n",
       "      <td>1811</td>\n",
       "      <td>1739</td>\n",
       "      <td>26</td>\n",
       "      <td>5380</td>\n",
       "      <td>5380</td>\n",
       "      <td>585</td>\n",
       "      <td>4404</td>\n",
       "      <td>5380</td>\n",
       "      <td>3821</td>\n",
       "      <td>2758</td>\n",
       "      <td>723</td>\n",
       "      <td>94</td>\n",
       "    </tr>\n",
       "  </tbody>\n",
       "</table>\n",
       "</div>"
      ],
      "text/plain": [
       "            price bedroom bathroom area(sqft) country    city        address  \\\n",
       "count        5380    5380     5380       5380    5380    5380           5380   \n",
       "unique       1315      11       12       1601       1       1            119   \n",
       "top     1,800,000   1 bed  2 baths   792 sqft     UAE   Dubai   Business Bay   \n",
       "freq           70    1811     1739         26    5380    5380            585   \n",
       "\n",
       "       propert_type purpose   furnishing completion_status handover  \\\n",
       "count          5380    5380         5380              5380     5380   \n",
       "unique            6       1            2                 2       25   \n",
       "top       Apartment    Sale  Unfurnished             Ready  Q4 2026   \n",
       "freq           4404    5380         3821              2758      723   \n",
       "\n",
       "                           project_name  \n",
       "count                              5380  \n",
       "unique                              868  \n",
       "top     The Cosmopolitan (Damac Maison)  \n",
       "freq                                 94  "
      ]
     },
     "execution_count": 239,
     "metadata": {},
     "output_type": "execute_result"
    }
   ],
   "source": [
    "df.describe()"
   ]
  },
  {
   "cell_type": "code",
   "execution_count": 240,
   "id": "9229cbd4",
   "metadata": {},
   "outputs": [
    {
     "data": {
      "text/plain": [
       "price                0\n",
       "bedroom              0\n",
       "bathroom             0\n",
       "area(sqft)           0\n",
       "country              0\n",
       "city                 0\n",
       "address              0\n",
       "propert_type         0\n",
       "purpose              0\n",
       "furnishing           0\n",
       "completion_status    0\n",
       "handover             0\n",
       "project_name         0\n",
       "dtype: int64"
      ]
     },
     "execution_count": 240,
     "metadata": {},
     "output_type": "execute_result"
    }
   ],
   "source": [
    "df.isnull().sum()"
   ]
  },
  {
   "cell_type": "markdown",
   "id": "b421362f",
   "metadata": {},
   "source": [
    "# Market Trends and Price Analysis\n"
   ]
  },
  {
   "cell_type": "code",
   "execution_count": 241,
   "id": "725dfcd8",
   "metadata": {},
   "outputs": [
    {
     "data": {
      "text/html": [
       "<div>\n",
       "<style scoped>\n",
       "    .dataframe tbody tr th:only-of-type {\n",
       "        vertical-align: middle;\n",
       "    }\n",
       "\n",
       "    .dataframe tbody tr th {\n",
       "        vertical-align: top;\n",
       "    }\n",
       "\n",
       "    .dataframe thead th {\n",
       "        text-align: right;\n",
       "    }\n",
       "</style>\n",
       "<table border=\"1\" class=\"dataframe\">\n",
       "  <thead>\n",
       "    <tr style=\"text-align: right;\">\n",
       "      <th></th>\n",
       "      <th>price</th>\n",
       "      <th>bedroom</th>\n",
       "      <th>bathroom</th>\n",
       "      <th>area(sqft)</th>\n",
       "      <th>country</th>\n",
       "      <th>city</th>\n",
       "      <th>address</th>\n",
       "      <th>propert_type</th>\n",
       "      <th>purpose</th>\n",
       "      <th>furnishing</th>\n",
       "      <th>completion_status</th>\n",
       "      <th>handover</th>\n",
       "      <th>project_name</th>\n",
       "    </tr>\n",
       "  </thead>\n",
       "  <tbody>\n",
       "    <tr>\n",
       "      <th>0</th>\n",
       "      <td>1,800,000</td>\n",
       "      <td>3 beds</td>\n",
       "      <td>4 baths</td>\n",
       "      <td>1,208 sqft</td>\n",
       "      <td>UAE</td>\n",
       "      <td>Dubai</td>\n",
       "      <td>DAMAC Hills 2 (Akoya by DAMAC)</td>\n",
       "      <td>Townhouse</td>\n",
       "      <td>Sale</td>\n",
       "      <td>Unfurnished</td>\n",
       "      <td>Off-Plan</td>\n",
       "      <td>Q2 2025</td>\n",
       "      <td>Camelia Villas</td>\n",
       "    </tr>\n",
       "    <tr>\n",
       "      <th>1</th>\n",
       "      <td>325,000</td>\n",
       "      <td>Studio</td>\n",
       "      <td>1 bath</td>\n",
       "      <td>483 sqft</td>\n",
       "      <td>UAE</td>\n",
       "      <td>Dubai</td>\n",
       "      <td>International City</td>\n",
       "      <td>Apartment</td>\n",
       "      <td>Sale</td>\n",
       "      <td>Unfurnished</td>\n",
       "      <td>Ready</td>\n",
       "      <td>Q2 2025</td>\n",
       "      <td>Camelia Villas</td>\n",
       "    </tr>\n",
       "    <tr>\n",
       "      <th>2</th>\n",
       "      <td>470,000</td>\n",
       "      <td>Studio</td>\n",
       "      <td>1 bath</td>\n",
       "      <td>428 sqft</td>\n",
       "      <td>UAE</td>\n",
       "      <td>Dubai</td>\n",
       "      <td>Arjan</td>\n",
       "      <td>Apartment</td>\n",
       "      <td>Sale</td>\n",
       "      <td>Furnished</td>\n",
       "      <td>Ready</td>\n",
       "      <td>Q2 2025</td>\n",
       "      <td>Camelia Villas</td>\n",
       "    </tr>\n",
       "    <tr>\n",
       "      <th>3</th>\n",
       "      <td>1,120,000</td>\n",
       "      <td>1 bed</td>\n",
       "      <td>1 bath</td>\n",
       "      <td>706 sqft</td>\n",
       "      <td>UAE</td>\n",
       "      <td>Dubai</td>\n",
       "      <td>Dubai South</td>\n",
       "      <td>Apartment</td>\n",
       "      <td>Sale</td>\n",
       "      <td>Unfurnished</td>\n",
       "      <td>Off-Plan</td>\n",
       "      <td>Q3 2029</td>\n",
       "      <td>Camelia Villas</td>\n",
       "    </tr>\n",
       "    <tr>\n",
       "      <th>4</th>\n",
       "      <td>2,127,888</td>\n",
       "      <td>2 beds</td>\n",
       "      <td>2 baths</td>\n",
       "      <td>1,149 sqft</td>\n",
       "      <td>UAE</td>\n",
       "      <td>Dubai</td>\n",
       "      <td>Dubai South</td>\n",
       "      <td>Apartment</td>\n",
       "      <td>Sale</td>\n",
       "      <td>Unfurnished</td>\n",
       "      <td>Off-Plan</td>\n",
       "      <td>Q3 2029</td>\n",
       "      <td>Camelia Villas</td>\n",
       "    </tr>\n",
       "  </tbody>\n",
       "</table>\n",
       "</div>"
      ],
      "text/plain": [
       "       price bedroom bathroom  area(sqft) country    city  \\\n",
       "0  1,800,000  3 beds  4 baths  1,208 sqft     UAE   Dubai   \n",
       "1    325,000  Studio   1 bath    483 sqft     UAE   Dubai   \n",
       "2    470,000  Studio   1 bath    428 sqft     UAE   Dubai   \n",
       "3  1,120,000   1 bed   1 bath    706 sqft     UAE   Dubai   \n",
       "4  2,127,888  2 beds  2 baths  1,149 sqft     UAE   Dubai   \n",
       "\n",
       "                           address propert_type purpose   furnishing  \\\n",
       "0   DAMAC Hills 2 (Akoya by DAMAC)    Townhouse    Sale  Unfurnished   \n",
       "1               International City    Apartment    Sale  Unfurnished   \n",
       "2                            Arjan    Apartment    Sale    Furnished   \n",
       "3                      Dubai South    Apartment    Sale  Unfurnished   \n",
       "4                      Dubai South    Apartment    Sale  Unfurnished   \n",
       "\n",
       "  completion_status handover    project_name  \n",
       "0          Off-Plan  Q2 2025  Camelia Villas  \n",
       "1             Ready  Q2 2025  Camelia Villas  \n",
       "2             Ready  Q2 2025  Camelia Villas  \n",
       "3          Off-Plan  Q3 2029  Camelia Villas  \n",
       "4          Off-Plan  Q3 2029  Camelia Villas  "
      ]
     },
     "execution_count": 241,
     "metadata": {},
     "output_type": "execute_result"
    }
   ],
   "source": [
    "df.head()"
   ]
  },
  {
   "cell_type": "code",
   "execution_count": 242,
   "id": "7decfa30",
   "metadata": {},
   "outputs": [
    {
     "data": {
      "text/plain": [
       "Index(['price', 'bedroom', 'bathroom', 'area(sqft)', 'country', 'city',\n",
       "       'address', 'propert_type', 'purpose', 'furnishing', 'completion_status',\n",
       "       'handover', 'project_name'],\n",
       "      dtype='object')"
      ]
     },
     "execution_count": 242,
     "metadata": {},
     "output_type": "execute_result"
    }
   ],
   "source": [
    "df.columns"
   ]
  },
  {
   "cell_type": "code",
   "execution_count": 243,
   "id": "28830dbf",
   "metadata": {},
   "outputs": [],
   "source": [
    "#What is the average property price per square foot for dubai?\n",
    "df['price'] = df['price'].str.replace(',', '').astype(float)"
   ]
  },
  {
   "cell_type": "code",
   "execution_count": 244,
   "id": "30123edb",
   "metadata": {},
   "outputs": [],
   "source": [
    "df['area(sqft)'] = df['area(sqft)'].str.replace(',', '').str.replace(' sqft', '').astype(float)"
   ]
  },
  {
   "cell_type": "code",
   "execution_count": 245,
   "id": "f6259b38",
   "metadata": {},
   "outputs": [],
   "source": [
    "df['price_per_sqft']=df['price']/df['area(sqft)']"
   ]
  },
  {
   "cell_type": "code",
   "execution_count": 246,
   "id": "80690238",
   "metadata": {},
   "outputs": [
    {
     "data": {
      "text/plain": [
       "city\n",
       "Dubai    2002.1\n",
       "Name: price_per_sqft, dtype: float64"
      ]
     },
     "execution_count": 246,
     "metadata": {},
     "output_type": "execute_result"
    }
   ],
   "source": [
    "df.groupby('city')['price_per_sqft'].mean().round(2)"
   ]
  },
  {
   "cell_type": "markdown",
   "id": "e56ff452",
   "metadata": {},
   "source": [
    "means avg price per sqft is around 2002 AED"
   ]
  },
  {
   "cell_type": "code",
   "execution_count": 247,
   "id": "8030400c",
   "metadata": {},
   "outputs": [
    {
     "data": {
      "text/plain": [
       "propert_type\n",
       "Apartment               4404\n",
       "Villa                    584\n",
       "Townhouse                364\n",
       "Penthouse                 23\n",
       "Residential Building       3\n",
       "Villa Compound             2\n",
       "Name: count, dtype: int64"
      ]
     },
     "execution_count": 247,
     "metadata": {},
     "output_type": "execute_result"
    }
   ],
   "source": [
    "#How do property prices vary by property type (Apartment vs. Villa vs. Townhouse)?\n",
    "df['propert_type'].value_counts()"
   ]
  },
  {
   "cell_type": "code",
   "execution_count": 248,
   "id": "7789770c",
   "metadata": {},
   "outputs": [
    {
     "data": {
      "text/plain": [
       "([0, 1, 2, 3, 4, 5],\n",
       " [Text(0, 0, 'Townhouse'),\n",
       "  Text(1, 0, 'Apartment'),\n",
       "  Text(2, 0, 'Villa'),\n",
       "  Text(3, 0, 'Penthouse'),\n",
       "  Text(4, 0, 'Villa Compound'),\n",
       "  Text(5, 0, 'Residential Building')])"
      ]
     },
     "execution_count": 248,
     "metadata": {},
     "output_type": "execute_result"
    },
    {
     "data": {
      "image/png": "[encoded data removed]",
      "text/plain": [
       "<Figure size 640x480 with 1 Axes>"
      ]
     },
     "metadata": {},
     "output_type": "display_data"
    }
   ],
   "source": [
    "sns.countplot(data=df,x='propert_type')\n",
    "plt.xticks(rotation=90)"
   ]
  },
  {
   "cell_type": "markdown",
   "id": "13c5f901",
   "metadata": {},
   "source": [
    "clearly we can see in dubai most of the projects are for apartments followed by townhouse then by villa"
   ]
  },
  {
   "cell_type": "code",
   "execution_count": 249,
   "id": "26eae767",
   "metadata": {},
   "outputs": [
    {
     "data": {
      "text/plain": [
       "array([' DAMAC Hills 2 (Akoya by DAMAC)', ' International City', ' Arjan',\n",
       "       ' Dubai South', ' Jumeirah Village Circle (JVC)', ' Business Bay',\n",
       "       ' Dubai Islands', ' Dubai Investment Park (DIP)',\n",
       "       ' Sobha Hartland', ' Al Jaddaf', ' Dubai Land Residence Complex',\n",
       "       ' Majan', ' Discovery Gardens', ' Dubai Sports City',\n",
       "       ' Jumeirah Village Triangle (JVT)',\n",
       "       ' Culture Village (Jaddaf Waterfront)', ' Dubai Hills Estate',\n",
       "       ' Town Square', ' Jumeirah Beach Residence (JBR)', ' Expo City',\n",
       "       ' DAMAC Lagoons', ' Green Community', ' Ras Al Khor',\n",
       "       ' Umm Suqeim', ' Tilal Al Ghaf', ' Al Furjan', ' Dubailand',\n",
       "       ' Dubai Science Park', ' Downtown Dubai', ' Remraam',\n",
       "       ' Dubai Silicon Oasis (DSO)', ' Al Barari', ' Al Barsha',\n",
       "       ' The Valley by Emaar', ' Dubai Creek Harbour', ' Dubai Harbour',\n",
       "       ' Mina Rashid', ' The Oasis by Emaar', ' Palm Jebel Ali',\n",
       "       ' Dubai Production City (IMPZ)', ' Al Wasl', ' Dubai Marina',\n",
       "       ' Al Satwa', ' Mudon', ' Arabian Ranches', ' Al Sufouh', ' Liwan',\n",
       "       ' Arabian Ranches 3', ' Jumeirah Lake Towers (JLT)',\n",
       "       ' Palm Jumeirah', ' Jebel Ali', ' Jumeirah Islands',\n",
       "       ' Mohammed Bin Rashid City', 'Dubai Marina',\n",
       "       'Jumeirah Lake Towers (JLT)', 'Motor City', ' Motor City',\n",
       "       ' Bur Dubai', ' Dubai Studio City', ' Dubai Maritime City',\n",
       "       ' World Trade Centre', 'Barsha Heights (Tecom)', ' DAMAC Hills',\n",
       "       ' Bukadra', ' Emirates Hills', ' Meydan City', ' DIFC',\n",
       "       ' Barsha Heights (Tecom)', ' Nad Al Sheba', 'Jumeirah Park',\n",
       "       ' Arabian Ranches 2', ' The Lakes', ' The Springs', ' The Villa',\n",
       "       ' Jumeirah Golf Estates', \" Za'abeel\", 'Al Wasl', ' Wasl Gate',\n",
       "       'Al Mamzar', ' Dubai Festival City', ' The Views',\n",
       "       ' Falcon City of Wonders', ' The Meadows', ' Athlon by Aldar',\n",
       "       ' Dubai Design District', ' The Greens', ' Al Mina',\n",
       "       'Dubai Sports City', 'Business Bay', ' Al Quoz', ' Reem',\n",
       "       ' Dubai World Central', ' Dubai Industrial City', ' The Acres',\n",
       "       ' Nad Al Hamar', ' The World Islands', 'Remraam', ' Deira',\n",
       "       'The Oasis by Emaar', 'Palm Jumeirah', ' Mirdif',\n",
       "       'Dubai Internet City', ' Living Legends', 'Majan', 'Al Furjan',\n",
       "       ' Bluewaters Island', ' Jumeirah', ' Dubai Internet City',\n",
       "       ' Dubai Media City', ' Dubai Waterfront', 'Dubai Hills Estate',\n",
       "       ' City of Arabia', 'The Acres', ' Jumeirah Park',\n",
       "       'Dubai Creek Harbour', 'DAMAC Hills', ' Liwan 2',\n",
       "       ' Sheikh Zayed Road', ' Serena'], dtype=object)"
      ]
     },
     "execution_count": 249,
     "metadata": {},
     "output_type": "execute_result"
    }
   ],
   "source": [
    "#What are the top 5 most expensive and least expensive neighborhoods/addresses in terms of price per sqft?\n",
    "df['address'].unique()"
   ]
  },
  {
   "cell_type": "code",
   "execution_count": 250,
   "id": "859a7deb",
   "metadata": {},
   "outputs": [
    {
     "name": "stderr",
     "output_type": "stream",
     "text": [
      "C:\\Users\\KIIT\\AppData\\Local\\Temp\\ipykernel_21380\\2488070745.py:1: FutureWarning: A value is trying to be set on a copy of a DataFrame or Series through chained assignment using an inplace method.\n",
      "The behavior will change in pandas 3.0. This inplace method will never work because the intermediate object on which we are setting values always behaves as a copy.\n",
      "\n",
      "For example, when doing 'df[col].method(value, inplace=True)', try using 'df.method({col: value}, inplace=True)' or df[col] = df[col].method(value) instead, to perform the operation inplace on the original object.\n",
      "\n",
      "\n",
      "  df['address'].replace({' Palm Jumeirah':'Palm Jumeirah'},inplace=True)\n"
     ]
    }
   ],
   "source": [
    "df['address'].replace({' Palm Jumeirah':'Palm Jumeirah'},inplace=True)"
   ]
  },
  {
   "cell_type": "code",
   "execution_count": null,
   "id": "64dafad0",
   "metadata": {},
   "outputs": [],
   "source": []
  },
  {
   "cell_type": "code",
   "execution_count": 251,
   "id": "ce86d83b",
   "metadata": {},
   "outputs": [
    {
     "data": {
      "text/html": [
       "<div>\n",
       "<style scoped>\n",
       "    .dataframe tbody tr th:only-of-type {\n",
       "        vertical-align: middle;\n",
       "    }\n",
       "\n",
       "    .dataframe tbody tr th {\n",
       "        vertical-align: top;\n",
       "    }\n",
       "\n",
       "    .dataframe thead th {\n",
       "        text-align: right;\n",
       "    }\n",
       "</style>\n",
       "<table border=\"1\" class=\"dataframe\">\n",
       "  <thead>\n",
       "    <tr style=\"text-align: right;\">\n",
       "      <th></th>\n",
       "      <th>price</th>\n",
       "      <th>bedroom</th>\n",
       "      <th>bathroom</th>\n",
       "      <th>area(sqft)</th>\n",
       "      <th>country</th>\n",
       "      <th>city</th>\n",
       "      <th>address</th>\n",
       "      <th>propert_type</th>\n",
       "      <th>purpose</th>\n",
       "      <th>furnishing</th>\n",
       "      <th>completion_status</th>\n",
       "      <th>handover</th>\n",
       "      <th>project_name</th>\n",
       "      <th>price_per_sqft</th>\n",
       "    </tr>\n",
       "  </thead>\n",
       "  <tbody>\n",
       "    <tr>\n",
       "      <th>0</th>\n",
       "      <td>1800000.0</td>\n",
       "      <td>3 beds</td>\n",
       "      <td>4 baths</td>\n",
       "      <td>1208.0</td>\n",
       "      <td>UAE</td>\n",
       "      <td>Dubai</td>\n",
       "      <td>DAMAC Hills 2 (Akoya by DAMAC)</td>\n",
       "      <td>Townhouse</td>\n",
       "      <td>Sale</td>\n",
       "      <td>Unfurnished</td>\n",
       "      <td>Off-Plan</td>\n",
       "      <td>Q2 2025</td>\n",
       "      <td>Camelia Villas</td>\n",
       "      <td>1490.066225</td>\n",
       "    </tr>\n",
       "    <tr>\n",
       "      <th>1</th>\n",
       "      <td>325000.0</td>\n",
       "      <td>Studio</td>\n",
       "      <td>1 bath</td>\n",
       "      <td>483.0</td>\n",
       "      <td>UAE</td>\n",
       "      <td>Dubai</td>\n",
       "      <td>International City</td>\n",
       "      <td>Apartment</td>\n",
       "      <td>Sale</td>\n",
       "      <td>Unfurnished</td>\n",
       "      <td>Ready</td>\n",
       "      <td>Q2 2025</td>\n",
       "      <td>Camelia Villas</td>\n",
       "      <td>672.877847</td>\n",
       "    </tr>\n",
       "    <tr>\n",
       "      <th>2</th>\n",
       "      <td>470000.0</td>\n",
       "      <td>Studio</td>\n",
       "      <td>1 bath</td>\n",
       "      <td>428.0</td>\n",
       "      <td>UAE</td>\n",
       "      <td>Dubai</td>\n",
       "      <td>Arjan</td>\n",
       "      <td>Apartment</td>\n",
       "      <td>Sale</td>\n",
       "      <td>Furnished</td>\n",
       "      <td>Ready</td>\n",
       "      <td>Q2 2025</td>\n",
       "      <td>Camelia Villas</td>\n",
       "      <td>1098.130841</td>\n",
       "    </tr>\n",
       "    <tr>\n",
       "      <th>3</th>\n",
       "      <td>1120000.0</td>\n",
       "      <td>1 bed</td>\n",
       "      <td>1 bath</td>\n",
       "      <td>706.0</td>\n",
       "      <td>UAE</td>\n",
       "      <td>Dubai</td>\n",
       "      <td>Dubai South</td>\n",
       "      <td>Apartment</td>\n",
       "      <td>Sale</td>\n",
       "      <td>Unfurnished</td>\n",
       "      <td>Off-Plan</td>\n",
       "      <td>Q3 2029</td>\n",
       "      <td>Camelia Villas</td>\n",
       "      <td>1586.402266</td>\n",
       "    </tr>\n",
       "    <tr>\n",
       "      <th>4</th>\n",
       "      <td>2127888.0</td>\n",
       "      <td>2 beds</td>\n",
       "      <td>2 baths</td>\n",
       "      <td>1149.0</td>\n",
       "      <td>UAE</td>\n",
       "      <td>Dubai</td>\n",
       "      <td>Dubai South</td>\n",
       "      <td>Apartment</td>\n",
       "      <td>Sale</td>\n",
       "      <td>Unfurnished</td>\n",
       "      <td>Off-Plan</td>\n",
       "      <td>Q3 2029</td>\n",
       "      <td>Camelia Villas</td>\n",
       "      <td>1851.947781</td>\n",
       "    </tr>\n",
       "  </tbody>\n",
       "</table>\n",
       "</div>"
      ],
      "text/plain": [
       "       price bedroom bathroom  area(sqft) country    city  \\\n",
       "0  1800000.0  3 beds  4 baths      1208.0     UAE   Dubai   \n",
       "1   325000.0  Studio   1 bath       483.0     UAE   Dubai   \n",
       "2   470000.0  Studio   1 bath       428.0     UAE   Dubai   \n",
       "3  1120000.0   1 bed   1 bath       706.0     UAE   Dubai   \n",
       "4  2127888.0  2 beds  2 baths      1149.0     UAE   Dubai   \n",
       "\n",
       "                           address propert_type purpose   furnishing  \\\n",
       "0   DAMAC Hills 2 (Akoya by DAMAC)    Townhouse    Sale  Unfurnished   \n",
       "1               International City    Apartment    Sale  Unfurnished   \n",
       "2                            Arjan    Apartment    Sale    Furnished   \n",
       "3                      Dubai South    Apartment    Sale  Unfurnished   \n",
       "4                      Dubai South    Apartment    Sale  Unfurnished   \n",
       "\n",
       "  completion_status handover    project_name  price_per_sqft  \n",
       "0          Off-Plan  Q2 2025  Camelia Villas     1490.066225  \n",
       "1             Ready  Q2 2025  Camelia Villas      672.877847  \n",
       "2             Ready  Q2 2025  Camelia Villas     1098.130841  \n",
       "3          Off-Plan  Q3 2029  Camelia Villas     1586.402266  \n",
       "4          Off-Plan  Q3 2029  Camelia Villas     1851.947781  "
      ]
     },
     "execution_count": 251,
     "metadata": {},
     "output_type": "execute_result"
    }
   ],
   "source": [
    "df.head()"
   ]
  },
  {
   "cell_type": "code",
   "execution_count": 252,
   "id": "083a4888",
   "metadata": {},
   "outputs": [
    {
     "name": "stdout",
     "output_type": "stream",
     "text": [
      "address\n",
      " Sheikh Zayed Road    10957.692308\n",
      " Bluewaters Island     5233.772242\n",
      "Palm Jumeirah          4721.110343\n",
      " The World Islands     4509.075910\n",
      " Dubai Harbour         4312.650366\n",
      "Name: price_per_sqft, dtype: float64\n"
     ]
    }
   ],
   "source": [
    "top_5_locations=df.groupby('address')['price_per_sqft'].mean().sort_values(ascending=False).head(5)\n",
    "print(top_5_locations)"
   ]
  },
  {
   "cell_type": "code",
   "execution_count": 253,
   "id": "992c979d",
   "metadata": {},
   "outputs": [
    {
     "data": {
      "text/plain": [
       "Text(0, 0.5, 'avg price/sqft')"
      ]
     },
     "execution_count": 253,
     "metadata": {},
     "output_type": "execute_result"
    },
    {
     "data": {
      "image/png": "[encoded data removed]",
      "text/plain": [
       "<Figure size 640x480 with 1 Axes>"
      ]
     },
     "metadata": {},
     "output_type": "display_data"
    }
   ],
   "source": [
    "top_5_locations.plot(kind='bar',color='red',edgecolor='black')\n",
    "plt.xticks(rotation=45)\n",
    "plt.title('top 5 locations by avg price/sqft')\n",
    "plt.xlabel('locations')\n",
    "plt.ylabel('avg price/sqft')"
   ]
  },
  {
   "cell_type": "code",
   "execution_count": 254,
   "id": "cc76b62f",
   "metadata": {},
   "outputs": [],
   "source": [
    "df['address'].replace({\n",
    "    ' Remraam':'Remraam'\n",
    "},inplace=True)"
   ]
  },
  {
   "cell_type": "code",
   "execution_count": 255,
   "id": "5adfb21a",
   "metadata": {},
   "outputs": [
    {
     "name": "stdout",
     "output_type": "stream",
     "text": [
      "address\n",
      " Nad Al Hamar          714.285714\n",
      " International City    865.037508\n",
      "Remraam                877.849804\n",
      " Al Quoz               934.328296\n",
      " Discovery Gardens     971.160443\n",
      "Name: price_per_sqft, dtype: float64\n"
     ]
    }
   ],
   "source": [
    "Least_expensive_locations=df.groupby('address')['price_per_sqft'].mean().sort_values().head(5)\n",
    "print(Least_expensive_locations)"
   ]
  },
  {
   "cell_type": "code",
   "execution_count": 256,
   "id": "75c506a7",
   "metadata": {},
   "outputs": [
    {
     "data": {
      "text/plain": [
       "Text(0, 0.5, 'avg price/sqft')"
      ]
     },
     "execution_count": 256,
     "metadata": {},
     "output_type": "execute_result"
    },
    {
     "data": {
      "image/png": "[encoded data removed]",
      "text/plain": [
       "<Figure size 640x480 with 1 Axes>"
      ]
     },
     "metadata": {},
     "output_type": "display_data"
    }
   ],
   "source": [
    "Least_expensive_locations.plot(kind='bar',color='green',edgecolor='black')\n",
    "plt.xticks(rotation=45)\n",
    "plt.title('Least expensive locations by avg price/sqft')\n",
    "plt.xlabel('locations')\n",
    "plt.ylabel('avg price/sqft')"
   ]
  },
  {
   "cell_type": "code",
   "execution_count": 257,
   "id": "89ecf11c",
   "metadata": {},
   "outputs": [
    {
     "data": {
      "text/plain": [
       "completion_status\n",
       "Off-Plan    3604148.73\n",
       "Ready       3632558.98\n",
       "Name: price, dtype: float64"
      ]
     },
     "execution_count": 257,
     "metadata": {},
     "output_type": "execute_result"
    }
   ],
   "source": [
    "#What is the price distribution for off-plan vs. ready properties? Are off-plan properties significantly cheaper\n",
    "df.groupby('completion_status')['price'].mean().round(2)"
   ]
  },
  {
   "cell_type": "markdown",
   "id": "e983ffa9",
   "metadata": {},
   "source": [
    "means off-plan properties are cheaper then that of ready i.e around (28,410) AED"
   ]
  },
  {
   "cell_type": "code",
   "execution_count": 258,
   "id": "f9d7c080",
   "metadata": {},
   "outputs": [],
   "source": [
    "df[['quater','year']]=df['handover'].str.split(' ',expand=True)"
   ]
  },
  {
   "cell_type": "code",
   "execution_count": 259,
   "id": "bb6c544b",
   "metadata": {},
   "outputs": [
    {
     "data": {
      "text/html": [
       "<div>\n",
       "<style scoped>\n",
       "    .dataframe tbody tr th:only-of-type {\n",
       "        vertical-align: middle;\n",
       "    }\n",
       "\n",
       "    .dataframe tbody tr th {\n",
       "        vertical-align: top;\n",
       "    }\n",
       "\n",
       "    .dataframe thead th {\n",
       "        text-align: right;\n",
       "    }\n",
       "</style>\n",
       "<table border=\"1\" class=\"dataframe\">\n",
       "  <thead>\n",
       "    <tr style=\"text-align: right;\">\n",
       "      <th></th>\n",
       "      <th>price</th>\n",
       "      <th>bedroom</th>\n",
       "      <th>bathroom</th>\n",
       "      <th>area(sqft)</th>\n",
       "      <th>country</th>\n",
       "      <th>city</th>\n",
       "      <th>address</th>\n",
       "      <th>propert_type</th>\n",
       "      <th>purpose</th>\n",
       "      <th>furnishing</th>\n",
       "      <th>completion_status</th>\n",
       "      <th>handover</th>\n",
       "      <th>project_name</th>\n",
       "      <th>price_per_sqft</th>\n",
       "      <th>quater</th>\n",
       "      <th>year</th>\n",
       "    </tr>\n",
       "  </thead>\n",
       "  <tbody>\n",
       "    <tr>\n",
       "      <th>0</th>\n",
       "      <td>1800000.0</td>\n",
       "      <td>3 beds</td>\n",
       "      <td>4 baths</td>\n",
       "      <td>1208.0</td>\n",
       "      <td>UAE</td>\n",
       "      <td>Dubai</td>\n",
       "      <td>DAMAC Hills 2 (Akoya by DAMAC)</td>\n",
       "      <td>Townhouse</td>\n",
       "      <td>Sale</td>\n",
       "      <td>Unfurnished</td>\n",
       "      <td>Off-Plan</td>\n",
       "      <td>Q2 2025</td>\n",
       "      <td>Camelia Villas</td>\n",
       "      <td>1490.066225</td>\n",
       "      <td>Q2</td>\n",
       "      <td>2025</td>\n",
       "    </tr>\n",
       "    <tr>\n",
       "      <th>1</th>\n",
       "      <td>325000.0</td>\n",
       "      <td>Studio</td>\n",
       "      <td>1 bath</td>\n",
       "      <td>483.0</td>\n",
       "      <td>UAE</td>\n",
       "      <td>Dubai</td>\n",
       "      <td>International City</td>\n",
       "      <td>Apartment</td>\n",
       "      <td>Sale</td>\n",
       "      <td>Unfurnished</td>\n",
       "      <td>Ready</td>\n",
       "      <td>Q2 2025</td>\n",
       "      <td>Camelia Villas</td>\n",
       "      <td>672.877847</td>\n",
       "      <td>Q2</td>\n",
       "      <td>2025</td>\n",
       "    </tr>\n",
       "    <tr>\n",
       "      <th>2</th>\n",
       "      <td>470000.0</td>\n",
       "      <td>Studio</td>\n",
       "      <td>1 bath</td>\n",
       "      <td>428.0</td>\n",
       "      <td>UAE</td>\n",
       "      <td>Dubai</td>\n",
       "      <td>Arjan</td>\n",
       "      <td>Apartment</td>\n",
       "      <td>Sale</td>\n",
       "      <td>Furnished</td>\n",
       "      <td>Ready</td>\n",
       "      <td>Q2 2025</td>\n",
       "      <td>Camelia Villas</td>\n",
       "      <td>1098.130841</td>\n",
       "      <td>Q2</td>\n",
       "      <td>2025</td>\n",
       "    </tr>\n",
       "    <tr>\n",
       "      <th>3</th>\n",
       "      <td>1120000.0</td>\n",
       "      <td>1 bed</td>\n",
       "      <td>1 bath</td>\n",
       "      <td>706.0</td>\n",
       "      <td>UAE</td>\n",
       "      <td>Dubai</td>\n",
       "      <td>Dubai South</td>\n",
       "      <td>Apartment</td>\n",
       "      <td>Sale</td>\n",
       "      <td>Unfurnished</td>\n",
       "      <td>Off-Plan</td>\n",
       "      <td>Q3 2029</td>\n",
       "      <td>Camelia Villas</td>\n",
       "      <td>1586.402266</td>\n",
       "      <td>Q3</td>\n",
       "      <td>2029</td>\n",
       "    </tr>\n",
       "    <tr>\n",
       "      <th>4</th>\n",
       "      <td>2127888.0</td>\n",
       "      <td>2 beds</td>\n",
       "      <td>2 baths</td>\n",
       "      <td>1149.0</td>\n",
       "      <td>UAE</td>\n",
       "      <td>Dubai</td>\n",
       "      <td>Dubai South</td>\n",
       "      <td>Apartment</td>\n",
       "      <td>Sale</td>\n",
       "      <td>Unfurnished</td>\n",
       "      <td>Off-Plan</td>\n",
       "      <td>Q3 2029</td>\n",
       "      <td>Camelia Villas</td>\n",
       "      <td>1851.947781</td>\n",
       "      <td>Q3</td>\n",
       "      <td>2029</td>\n",
       "    </tr>\n",
       "  </tbody>\n",
       "</table>\n",
       "</div>"
      ],
      "text/plain": [
       "       price bedroom bathroom  area(sqft) country    city  \\\n",
       "0  1800000.0  3 beds  4 baths      1208.0     UAE   Dubai   \n",
       "1   325000.0  Studio   1 bath       483.0     UAE   Dubai   \n",
       "2   470000.0  Studio   1 bath       428.0     UAE   Dubai   \n",
       "3  1120000.0   1 bed   1 bath       706.0     UAE   Dubai   \n",
       "4  2127888.0  2 beds  2 baths      1149.0     UAE   Dubai   \n",
       "\n",
       "                           address propert_type purpose   furnishing  \\\n",
       "0   DAMAC Hills 2 (Akoya by DAMAC)    Townhouse    Sale  Unfurnished   \n",
       "1               International City    Apartment    Sale  Unfurnished   \n",
       "2                            Arjan    Apartment    Sale    Furnished   \n",
       "3                      Dubai South    Apartment    Sale  Unfurnished   \n",
       "4                      Dubai South    Apartment    Sale  Unfurnished   \n",
       "\n",
       "  completion_status handover    project_name  price_per_sqft quater  year  \n",
       "0          Off-Plan  Q2 2025  Camelia Villas     1490.066225     Q2  2025  \n",
       "1             Ready  Q2 2025  Camelia Villas      672.877847     Q2  2025  \n",
       "2             Ready  Q2 2025  Camelia Villas     1098.130841     Q2  2025  \n",
       "3          Off-Plan  Q3 2029  Camelia Villas     1586.402266     Q3  2029  \n",
       "4          Off-Plan  Q3 2029  Camelia Villas     1851.947781     Q3  2029  "
      ]
     },
     "execution_count": 259,
     "metadata": {},
     "output_type": "execute_result"
    }
   ],
   "source": [
    "df.head()"
   ]
  },
  {
   "cell_type": "code",
   "execution_count": 260,
   "id": "f799549c",
   "metadata": {},
   "outputs": [
    {
     "data": {
      "text/plain": [
       "quater\n",
       "Q4    2282\n",
       "Q2    1306\n",
       "Q1     967\n",
       "Q3     825\n",
       "Name: count, dtype: int64"
      ]
     },
     "execution_count": 260,
     "metadata": {},
     "output_type": "execute_result"
    }
   ],
   "source": [
    "#Is there any seasonal trend or specific handover quarter where properties are more expensive?\n",
    "df['quater'].value_counts()"
   ]
  },
  {
   "cell_type": "code",
   "execution_count": 261,
   "id": "60b38b36",
   "metadata": {},
   "outputs": [
    {
     "data": {
      "text/plain": [
       "<Axes: xlabel='quater', ylabel='count'>"
      ]
     },
     "execution_count": 261,
     "metadata": {},
     "output_type": "execute_result"
    },
    {
     "data": {
      "image/png": "[encoded data removed]",
      "text/plain": [
       "<Figure size 640x480 with 1 Axes>"
      ]
     },
     "metadata": {},
     "output_type": "display_data"
    }
   ],
   "source": [
    "sns.countplot(data=df,x='quater')"
   ]
  },
  {
   "cell_type": "code",
   "execution_count": 262,
   "id": "86a82a35",
   "metadata": {},
   "outputs": [
    {
     "data": {
      "text/html": [
       "<div>\n",
       "<style scoped>\n",
       "    .dataframe tbody tr th:only-of-type {\n",
       "        vertical-align: middle;\n",
       "    }\n",
       "\n",
       "    .dataframe tbody tr th {\n",
       "        vertical-align: top;\n",
       "    }\n",
       "\n",
       "    .dataframe thead th {\n",
       "        text-align: right;\n",
       "    }\n",
       "</style>\n",
       "<table border=\"1\" class=\"dataframe\">\n",
       "  <thead>\n",
       "    <tr style=\"text-align: right;\">\n",
       "      <th></th>\n",
       "      <th>quater</th>\n",
       "      <th>price</th>\n",
       "    </tr>\n",
       "  </thead>\n",
       "  <tbody>\n",
       "    <tr>\n",
       "      <th>0</th>\n",
       "      <td>Q1</td>\n",
       "      <td>3125849.13</td>\n",
       "    </tr>\n",
       "    <tr>\n",
       "      <th>1</th>\n",
       "      <td>Q2</td>\n",
       "      <td>3280552.66</td>\n",
       "    </tr>\n",
       "    <tr>\n",
       "      <th>2</th>\n",
       "      <td>Q3</td>\n",
       "      <td>3526006.14</td>\n",
       "    </tr>\n",
       "    <tr>\n",
       "      <th>3</th>\n",
       "      <td>Q4</td>\n",
       "      <td>4054611.17</td>\n",
       "    </tr>\n",
       "  </tbody>\n",
       "</table>\n",
       "</div>"
      ],
      "text/plain": [
       "  quater       price\n",
       "0     Q1  3125849.13\n",
       "1     Q2  3280552.66\n",
       "2     Q3  3526006.14\n",
       "3     Q4  4054611.17"
      ]
     },
     "execution_count": 262,
     "metadata": {},
     "output_type": "execute_result"
    }
   ],
   "source": [
    "df.groupby('quater')['price'].mean().round(2).sort_values().reset_index()"
   ]
  },
  {
   "cell_type": "markdown",
   "id": "29854fe2",
   "metadata": {},
   "source": [
    "means at the starting of the year the price is relatively less . and it becomes expensive as you go towards the Q4 of the year "
   ]
  },
  {
   "cell_type": "markdown",
   "id": "fda36be7",
   "metadata": {},
   "source": [
    "# City and Project Level \n"
   ]
  },
  {
   "cell_type": "code",
   "execution_count": 263,
   "id": "5820aa91",
   "metadata": {},
   "outputs": [
    {
     "name": "stdout",
     "output_type": "stream",
     "text": [
      "                                  project_name  price_per_sqft\n",
      "160       Burj Binghatti Jacob & Co Residences    14838.053247\n",
      "159                                 Burj Azizi     9388.783657\n",
      "74                     Armani Beach Residences     6312.822624\n",
      "443  Marbella Resort Hotel Vignette Collection     6063.507853\n",
      "474                       Mercedes-Benz Places     5991.285403\n",
      "157            Bugatti Residences by Binghatti     5911.259122\n",
      "401                    Kempinski The Boulevard     5861.165190\n",
      "391               Jumeirah Living Business Bay     5508.582639\n",
      "199                            Como Residences     5400.719205\n",
      "508                                Ocean House     5359.797769\n"
     ]
    }
   ],
   "source": [
    "#Which projects have the highest average price per sqft? Which are emerging as affordable luxury?\n",
    "project_prices = df.groupby('project_name')['price_per_sqft'].mean().reset_index()\n",
    "\n",
    "most_expensive_projects = project_prices.sort_values(by='price_per_sqft', ascending=False)\n",
    "\n",
    "print(most_expensive_projects.head(10))"
   ]
  },
  {
   "cell_type": "code",
   "execution_count": 264,
   "id": "3ac8855e",
   "metadata": {},
   "outputs": [],
   "source": [
    "overall_avg_price_per_sqft = df['price_per_sqft'].mean()"
   ]
  },
  {
   "cell_type": "code",
   "execution_count": 265,
   "id": "71297520",
   "metadata": {},
   "outputs": [
    {
     "name": "stdout",
     "output_type": "stream",
     "text": [
      "                                          project_name  price_per_sqft\n",
      "162                                       Burj Khalifa     3055.303232\n",
      "170                                      Canal Heights     3047.166096\n",
      "763                                      The Meadows 3     3045.836960\n",
      "624                                          Safa Gate     3041.232357\n",
      "233  DAMAC Paramount Tower (Midtown) Hotel And Resi...     3036.780342\n",
      "772                                       The Pinnacle     3019.321256\n",
      "4                                           25H Heimat     2997.448889\n",
      "544                       Palace Residences Creek Blue     2964.959569\n",
      "176                                      Cavalli Tower     2961.798383\n",
      "247                                  District One West     2957.232596\n"
     ]
    }
   ],
   "source": [
    "affordable_luxury = project_prices[\n",
    "    (project_prices['price_per_sqft'] > overall_avg_price_per_sqft) &\n",
    "    (project_prices['price_per_sqft'] < most_expensive_projects['price_per_sqft'].quantile(0.90))\n",
    "].sort_values(by='price_per_sqft', ascending=False)\n",
    "\n",
    "print(affordable_luxury.head(10)) "
   ]
  },
  {
   "cell_type": "markdown",
   "id": "31e41578",
   "metadata": {},
   "source": [
    "these property are expensive enough to be premium but still affordable compared to top most properties ."
   ]
  },
  {
   "cell_type": "code",
   "execution_count": 266,
   "id": "e94a13f1",
   "metadata": {},
   "outputs": [
    {
     "name": "stdout",
     "output_type": "stream",
     "text": [
      "                           address  furnished_count\n",
      "11                    Business Bay              306\n",
      "47   Jumeirah Village Circle (JVC)              172\n",
      "19                  Downtown Dubai               89\n",
      "27                    Dubai Marina               79\n",
      "72                   Palm Jumeirah               79\n",
      "34               Dubai Sports City               62\n",
      "50                           Majan               52\n",
      "7                            Arjan               50\n",
      "30    Dubai Production City (IMPZ)               34\n",
      "2                        Al Furjan               34\n"
     ]
    }
   ],
   "source": [
    "#Which areas offer the most furnished properties, and how does furnishing impact price?\n",
    "furnished_count = df[df['furnishing'] == 'Furnished'].groupby('address').size().reset_index(name='furnished_count')\n",
    "furnished_count = furnished_count.sort_values(by='furnished_count', ascending=False).head(10)\n",
    "print(furnished_count)"
   ]
  },
  {
   "cell_type": "code",
   "execution_count": 267,
   "id": "cb235b55",
   "metadata": {},
   "outputs": [
    {
     "data": {
      "text/plain": [
       "<Axes: >"
      ]
     },
     "execution_count": 267,
     "metadata": {},
     "output_type": "execute_result"
    },
    {
     "data": {
      "image/png": "[encoded data removed]",
      "text/plain": [
       "<Figure size 640x480 with 1 Axes>"
      ]
     },
     "metadata": {},
     "output_type": "display_data"
    }
   ],
   "source": [
    "furnished_count.plot(kind='bar',color='red',edgecolor='black')"
   ]
  },
  {
   "cell_type": "code",
   "execution_count": 268,
   "id": "089800ca",
   "metadata": {},
   "outputs": [
    {
     "name": "stdout",
     "output_type": "stream",
     "text": [
      "    furnishing  price_per_sqft\n",
      "0    Furnished     2208.195587\n",
      "1  Unfurnished     1918.012657\n"
     ]
    }
   ],
   "source": [
    "furnishing_price = df.groupby('furnishing')['price_per_sqft'].mean().reset_index()\n",
    "\n",
    "print(furnishing_price)"
   ]
  },
  {
   "cell_type": "markdown",
   "id": "63fde310",
   "metadata": {},
   "source": [
    "furnished type price per sqft is more as you can see from the unfurnished one ."
   ]
  },
  {
   "cell_type": "code",
   "execution_count": 269,
   "id": "115f8c68",
   "metadata": {},
   "outputs": [
    {
     "name": "stdout",
     "output_type": "stream",
     "text": [
      "                            address propert_type  property_count\n",
      "26                     Business Bay    Apartment             580\n",
      "101   Jumeirah Village Circle (JVC)    Apartment             550\n",
      "61                     Dubai Marina    Apartment             206\n",
      "42                   Downtown Dubai    Apartment             206\n",
      "18                            Arjan    Apartment             149\n",
      "72                Dubai Sports City    Apartment             147\n",
      "23                          Bukadra    Apartment             123\n",
      "60     Dubai Land Residence Complex    Apartment             122\n",
      "66     Dubai Production City (IMPZ)    Apartment             121\n",
      "180                   Palm Jumeirah    Apartment             104\n",
      "50               Dubai Hills Estate    Apartment              99\n",
      "44              Dubai Creek Harbour    Apartment              96\n",
      "4                         Al Furjan    Apartment              90\n",
      "137                  Sobha Hartland    Apartment              90\n",
      "111                           Majan    Apartment              89\n",
      "98       Jumeirah Lake Towers (JLT)    Apartment              83\n",
      "112                     Meydan City    Apartment              76\n",
      "69                      Dubai South    Apartment              70\n",
      "39                             DIFC    Apartment              70\n",
      "49                    Dubai Harbour    Apartment              66\n"
     ]
    }
   ],
   "source": [
    "#Are there any cities where specific property types dominate.\n",
    "property_distribution = df.groupby(['address', 'propert_type']).size().reset_index(name='property_count')\n",
    "\n",
    "print(property_distribution.sort_values(by='property_count', ascending=False).head(20))"
   ]
  },
  {
   "cell_type": "markdown",
   "id": "66bb7702",
   "metadata": {},
   "source": [
    "most of them are apartments that , Business bay has the most number of apartments ."
   ]
  },
  {
   "cell_type": "markdown",
   "id": "ef21c385",
   "metadata": {},
   "source": [
    "# Supply and Demand Signals"
   ]
  },
  {
   "cell_type": "code",
   "execution_count": 270,
   "id": "d7ccb744",
   "metadata": {},
   "outputs": [
    {
     "data": {
      "text/html": [
       "<div>\n",
       "<style scoped>\n",
       "    .dataframe tbody tr th:only-of-type {\n",
       "        vertical-align: middle;\n",
       "    }\n",
       "\n",
       "    .dataframe tbody tr th {\n",
       "        vertical-align: top;\n",
       "    }\n",
       "\n",
       "    .dataframe thead th {\n",
       "        text-align: right;\n",
       "    }\n",
       "</style>\n",
       "<table border=\"1\" class=\"dataframe\">\n",
       "  <thead>\n",
       "    <tr style=\"text-align: right;\">\n",
       "      <th></th>\n",
       "      <th>price</th>\n",
       "      <th>bedroom</th>\n",
       "      <th>bathroom</th>\n",
       "      <th>area(sqft)</th>\n",
       "      <th>country</th>\n",
       "      <th>city</th>\n",
       "      <th>address</th>\n",
       "      <th>propert_type</th>\n",
       "      <th>purpose</th>\n",
       "      <th>furnishing</th>\n",
       "      <th>completion_status</th>\n",
       "      <th>handover</th>\n",
       "      <th>project_name</th>\n",
       "      <th>price_per_sqft</th>\n",
       "      <th>quater</th>\n",
       "      <th>year</th>\n",
       "    </tr>\n",
       "  </thead>\n",
       "  <tbody>\n",
       "    <tr>\n",
       "      <th>0</th>\n",
       "      <td>1800000.0</td>\n",
       "      <td>3 beds</td>\n",
       "      <td>4 baths</td>\n",
       "      <td>1208.0</td>\n",
       "      <td>UAE</td>\n",
       "      <td>Dubai</td>\n",
       "      <td>DAMAC Hills 2 (Akoya by DAMAC)</td>\n",
       "      <td>Townhouse</td>\n",
       "      <td>Sale</td>\n",
       "      <td>Unfurnished</td>\n",
       "      <td>Off-Plan</td>\n",
       "      <td>Q2 2025</td>\n",
       "      <td>Camelia Villas</td>\n",
       "      <td>1490.066225</td>\n",
       "      <td>Q2</td>\n",
       "      <td>2025</td>\n",
       "    </tr>\n",
       "    <tr>\n",
       "      <th>1</th>\n",
       "      <td>325000.0</td>\n",
       "      <td>Studio</td>\n",
       "      <td>1 bath</td>\n",
       "      <td>483.0</td>\n",
       "      <td>UAE</td>\n",
       "      <td>Dubai</td>\n",
       "      <td>International City</td>\n",
       "      <td>Apartment</td>\n",
       "      <td>Sale</td>\n",
       "      <td>Unfurnished</td>\n",
       "      <td>Ready</td>\n",
       "      <td>Q2 2025</td>\n",
       "      <td>Camelia Villas</td>\n",
       "      <td>672.877847</td>\n",
       "      <td>Q2</td>\n",
       "      <td>2025</td>\n",
       "    </tr>\n",
       "    <tr>\n",
       "      <th>2</th>\n",
       "      <td>470000.0</td>\n",
       "      <td>Studio</td>\n",
       "      <td>1 bath</td>\n",
       "      <td>428.0</td>\n",
       "      <td>UAE</td>\n",
       "      <td>Dubai</td>\n",
       "      <td>Arjan</td>\n",
       "      <td>Apartment</td>\n",
       "      <td>Sale</td>\n",
       "      <td>Furnished</td>\n",
       "      <td>Ready</td>\n",
       "      <td>Q2 2025</td>\n",
       "      <td>Camelia Villas</td>\n",
       "      <td>1098.130841</td>\n",
       "      <td>Q2</td>\n",
       "      <td>2025</td>\n",
       "    </tr>\n",
       "    <tr>\n",
       "      <th>3</th>\n",
       "      <td>1120000.0</td>\n",
       "      <td>1 bed</td>\n",
       "      <td>1 bath</td>\n",
       "      <td>706.0</td>\n",
       "      <td>UAE</td>\n",
       "      <td>Dubai</td>\n",
       "      <td>Dubai South</td>\n",
       "      <td>Apartment</td>\n",
       "      <td>Sale</td>\n",
       "      <td>Unfurnished</td>\n",
       "      <td>Off-Plan</td>\n",
       "      <td>Q3 2029</td>\n",
       "      <td>Camelia Villas</td>\n",
       "      <td>1586.402266</td>\n",
       "      <td>Q3</td>\n",
       "      <td>2029</td>\n",
       "    </tr>\n",
       "    <tr>\n",
       "      <th>4</th>\n",
       "      <td>2127888.0</td>\n",
       "      <td>2 beds</td>\n",
       "      <td>2 baths</td>\n",
       "      <td>1149.0</td>\n",
       "      <td>UAE</td>\n",
       "      <td>Dubai</td>\n",
       "      <td>Dubai South</td>\n",
       "      <td>Apartment</td>\n",
       "      <td>Sale</td>\n",
       "      <td>Unfurnished</td>\n",
       "      <td>Off-Plan</td>\n",
       "      <td>Q3 2029</td>\n",
       "      <td>Camelia Villas</td>\n",
       "      <td>1851.947781</td>\n",
       "      <td>Q3</td>\n",
       "      <td>2029</td>\n",
       "    </tr>\n",
       "  </tbody>\n",
       "</table>\n",
       "</div>"
      ],
      "text/plain": [
       "       price bedroom bathroom  area(sqft) country    city  \\\n",
       "0  1800000.0  3 beds  4 baths      1208.0     UAE   Dubai   \n",
       "1   325000.0  Studio   1 bath       483.0     UAE   Dubai   \n",
       "2   470000.0  Studio   1 bath       428.0     UAE   Dubai   \n",
       "3  1120000.0   1 bed   1 bath       706.0     UAE   Dubai   \n",
       "4  2127888.0  2 beds  2 baths      1149.0     UAE   Dubai   \n",
       "\n",
       "                           address propert_type purpose   furnishing  \\\n",
       "0   DAMAC Hills 2 (Akoya by DAMAC)    Townhouse    Sale  Unfurnished   \n",
       "1               International City    Apartment    Sale  Unfurnished   \n",
       "2                            Arjan    Apartment    Sale    Furnished   \n",
       "3                      Dubai South    Apartment    Sale  Unfurnished   \n",
       "4                      Dubai South    Apartment    Sale  Unfurnished   \n",
       "\n",
       "  completion_status handover    project_name  price_per_sqft quater  year  \n",
       "0          Off-Plan  Q2 2025  Camelia Villas     1490.066225     Q2  2025  \n",
       "1             Ready  Q2 2025  Camelia Villas      672.877847     Q2  2025  \n",
       "2             Ready  Q2 2025  Camelia Villas     1098.130841     Q2  2025  \n",
       "3          Off-Plan  Q3 2029  Camelia Villas     1586.402266     Q3  2029  \n",
       "4          Off-Plan  Q3 2029  Camelia Villas     1851.947781     Q3  2029  "
      ]
     },
     "execution_count": 270,
     "metadata": {},
     "output_type": "execute_result"
    }
   ],
   "source": [
    "df.head()"
   ]
  },
  {
   "cell_type": "code",
   "execution_count": 271,
   "id": "5df2c086",
   "metadata": {},
   "outputs": [
    {
     "data": {
      "text/plain": [
       "bedroom\n",
       "1 bed      1811\n",
       "2 beds     1397\n",
       "Studio      769\n",
       "3 beds      657\n",
       "4 beds      441\n",
       "5 beds      211\n",
       "6 beds       76\n",
       "7 beds       10\n",
       "10 beds       4\n",
       "9 beds        3\n",
       "8 beds        1\n",
       "Name: count, dtype: int64"
      ]
     },
     "execution_count": 271,
     "metadata": {},
     "output_type": "execute_result"
    }
   ],
   "source": [
    "#What is the proportion of studio, 1BHK, 2BHK, 3BHK, and larger properties currently listed?\n",
    "df['bedroom'].value_counts().sort_values(ascending=False)"
   ]
  },
  {
   "cell_type": "markdown",
   "id": "5d705de0",
   "metadata": {},
   "source": [
    "1 bhk properties are more then follows 2bhk then studio appartment "
   ]
  },
  {
   "cell_type": "code",
   "execution_count": 272,
   "id": "82b3a35f",
   "metadata": {},
   "outputs": [],
   "source": [
    "#Is there a price premium for specific bedroom or bathroom combinations (example: 3-bed 4-bath vs. 3-bed 3-bath)?\n",
    "df['bedroom_count'] = df['bedroom'].str.extract(r'(\\d+)').astype(float)\n",
    "df['bathroom_count'] = df['bathroom'].str.extract(r'(\\d+)').astype(float)"
   ]
  },
  {
   "cell_type": "code",
   "execution_count": 273,
   "id": "eb98991d",
   "metadata": {},
   "outputs": [
    {
     "name": "stdout",
     "output_type": "stream",
     "text": [
      "    bedroom_count  bathroom_count  price_per_sqft\n",
      "11            3.0            13.0     7525.594633\n",
      "30            7.0             9.0     5828.256556\n",
      "32            8.0            10.0     4671.012123\n",
      "28            7.0             7.0     3033.980583\n",
      "17            5.0             4.0     3002.472484\n",
      "26            6.0             9.0     2857.993953\n",
      "21            5.0             8.0     2692.928536\n",
      "25            6.0             8.0     2641.433440\n",
      "23            6.0             6.0     2583.661399\n",
      "14            4.0             5.0     2474.238995\n",
      "27            6.0            10.0     2471.668621\n",
      "3             2.0             1.0     2285.430745\n",
      "0             1.0             1.0     2062.494863\n",
      "20            5.0             7.0     2050.363306\n",
      "9             3.0             4.0     2025.515502\n",
      "18            5.0             5.0     2012.898404\n",
      "7             3.0             2.0     2012.514716\n",
      "6             2.0             4.0     2004.073154\n",
      "5             2.0             3.0     2002.453599\n",
      "33            9.0            11.0     2000.000000\n",
      "15            4.0             6.0     1993.605874\n",
      "4             2.0             2.0     1967.292900\n",
      "8             3.0             3.0     1926.314515\n",
      "13            4.0             4.0     1896.900585\n",
      "1             1.0             2.0     1894.314096\n",
      "10            3.0             5.0     1886.830854\n",
      "19            5.0             6.0     1842.824431\n",
      "24            6.0             7.0     1794.239845\n",
      "31            7.0            10.0     1756.498217\n",
      "34           10.0            10.0     1679.190357\n",
      "12            4.0             3.0     1427.919344\n",
      "22            6.0             5.0     1356.080271\n",
      "16            4.0             7.0     1124.541358\n",
      "2             1.0             3.0      904.436860\n",
      "29            7.0             8.0      714.285714\n"
     ]
    }
   ],
   "source": [
    "combo_prices = df.groupby(['bedroom_count', 'bathroom_count'])['price_per_sqft'].mean().reset_index()\n",
    "\n",
    "combo_prices = combo_prices.sort_values(by='price_per_sqft', ascending=False)\n",
    "\n",
    "print(combo_prices)"
   ]
  },
  {
   "cell_type": "code",
   "execution_count": 274,
   "id": "824fbf87",
   "metadata": {},
   "outputs": [],
   "source": [
    "#How does completion status (Off-plan vs. Ready) correlate with property size and price per sqft?\n"
   ]
  },
  {
   "cell_type": "code",
   "execution_count": 275,
   "id": "dd44337a",
   "metadata": {},
   "outputs": [
    {
     "name": "stdout",
     "output_type": "stream",
     "text": [
      "  completion_status   area(sqft)  price_per_sqft  property_count\n",
      "0          Off-Plan  6620.309687     2050.301636            2622\n",
      "1             Ready  1706.026106     1956.277154            2758\n"
     ]
    }
   ],
   "source": [
    "completion_analysis = df.groupby('completion_status').agg({\n",
    "    'area(sqft)': 'mean',\n",
    "    'price_per_sqft': 'mean',\n",
    "    'price': 'count'\n",
    "}).reset_index().rename(columns={'price': 'property_count'})\n",
    "\n",
    "print(completion_analysis)"
   ]
  },
  {
   "cell_type": "markdown",
   "id": "dd04cd06",
   "metadata": {},
   "source": [
    "# Investment Opportunity Exploration\n"
   ]
  },
  {
   "cell_type": "code",
   "execution_count": 276,
   "id": "9836c06c",
   "metadata": {},
   "outputs": [],
   "source": [
    "#Identify undervalued areas where price per sqft is significantly lower than city averages.\n",
    "city_avg = df.groupby('city')['price_per_sqft'].mean().reset_index().rename(columns={'price_per_sqft': 'city_avg_price_per_sqft'})"
   ]
  },
  {
   "cell_type": "code",
   "execution_count": null,
   "id": "857b58be",
   "metadata": {},
   "outputs": [],
   "source": []
  },
  {
   "cell_type": "code",
   "execution_count": 277,
   "id": "084b8b2c",
   "metadata": {},
   "outputs": [],
   "source": [
    "df = df.merge(city_avg, on='city', how='left')"
   ]
  },
  {
   "cell_type": "code",
   "execution_count": 278,
   "id": "b5d833e7",
   "metadata": {},
   "outputs": [],
   "source": [
    "df['price_diff'] = df['price_per_sqft'] - df['city_avg_price_per_sqft']"
   ]
  },
  {
   "cell_type": "code",
   "execution_count": 279,
   "id": "3d122c39",
   "metadata": {},
   "outputs": [
    {
     "name": "stdout",
     "output_type": "stream",
     "text": [
      "                             address   price_diff\n",
      "74                      Nad Al Hamar -1287.815268\n",
      "54                International City -1137.063474\n",
      "114                          Remraam -1124.251178\n",
      "5                            Al Quoz -1067.772686\n",
      "26                 Discovery Gardens -1030.940539\n",
      "35       Dubai Investment Park (DIP) -1012.126740\n",
      "25                             Deira -1002.100982\n",
      "33             Dubai Industrial City  -971.598096\n",
      "111                            Majan  -924.429637\n",
      "22    DAMAC Hills 2 (Akoya by DAMAC)  -904.304431\n"
     ]
    }
   ],
   "source": [
    "undervalued_areas = df.groupby('address')['price_diff'].mean().reset_index()\n",
    "\n",
    "undervalued_areas = undervalued_areas[undervalued_areas['price_diff'] < 0].sort_values(by='price_diff')\n",
    "\n",
    "print(undervalued_areas.head(10)) "
   ]
  },
  {
   "cell_type": "code",
   "execution_count": 280,
   "id": "8f612de5",
   "metadata": {},
   "outputs": [
    {
     "data": {
      "text/html": [
       "<div>\n",
       "<style scoped>\n",
       "    .dataframe tbody tr th:only-of-type {\n",
       "        vertical-align: middle;\n",
       "    }\n",
       "\n",
       "    .dataframe tbody tr th {\n",
       "        vertical-align: top;\n",
       "    }\n",
       "\n",
       "    .dataframe thead th {\n",
       "        text-align: right;\n",
       "    }\n",
       "</style>\n",
       "<table border=\"1\" class=\"dataframe\">\n",
       "  <thead>\n",
       "    <tr style=\"text-align: right;\">\n",
       "      <th></th>\n",
       "      <th>price</th>\n",
       "      <th>bedroom</th>\n",
       "      <th>bathroom</th>\n",
       "      <th>area(sqft)</th>\n",
       "      <th>country</th>\n",
       "      <th>city</th>\n",
       "      <th>address</th>\n",
       "      <th>propert_type</th>\n",
       "      <th>purpose</th>\n",
       "      <th>furnishing</th>\n",
       "      <th>completion_status</th>\n",
       "      <th>handover</th>\n",
       "      <th>project_name</th>\n",
       "      <th>price_per_sqft</th>\n",
       "      <th>quater</th>\n",
       "      <th>year</th>\n",
       "      <th>bedroom_count</th>\n",
       "      <th>bathroom_count</th>\n",
       "      <th>city_avg_price_per_sqft</th>\n",
       "      <th>price_diff</th>\n",
       "    </tr>\n",
       "  </thead>\n",
       "  <tbody>\n",
       "    <tr>\n",
       "      <th>0</th>\n",
       "      <td>1800000.0</td>\n",
       "      <td>3 beds</td>\n",
       "      <td>4 baths</td>\n",
       "      <td>1208.0</td>\n",
       "      <td>UAE</td>\n",
       "      <td>Dubai</td>\n",
       "      <td>DAMAC Hills 2 (Akoya by DAMAC)</td>\n",
       "      <td>Townhouse</td>\n",
       "      <td>Sale</td>\n",
       "      <td>Unfurnished</td>\n",
       "      <td>Off-Plan</td>\n",
       "      <td>Q2 2025</td>\n",
       "      <td>Camelia Villas</td>\n",
       "      <td>1490.066225</td>\n",
       "      <td>Q2</td>\n",
       "      <td>2025</td>\n",
       "      <td>3.0</td>\n",
       "      <td>4.0</td>\n",
       "      <td>2002.100982</td>\n",
       "      <td>-512.034757</td>\n",
       "    </tr>\n",
       "    <tr>\n",
       "      <th>1</th>\n",
       "      <td>325000.0</td>\n",
       "      <td>Studio</td>\n",
       "      <td>1 bath</td>\n",
       "      <td>483.0</td>\n",
       "      <td>UAE</td>\n",
       "      <td>Dubai</td>\n",
       "      <td>International City</td>\n",
       "      <td>Apartment</td>\n",
       "      <td>Sale</td>\n",
       "      <td>Unfurnished</td>\n",
       "      <td>Ready</td>\n",
       "      <td>Q2 2025</td>\n",
       "      <td>Camelia Villas</td>\n",
       "      <td>672.877847</td>\n",
       "      <td>Q2</td>\n",
       "      <td>2025</td>\n",
       "      <td>NaN</td>\n",
       "      <td>1.0</td>\n",
       "      <td>2002.100982</td>\n",
       "      <td>-1329.223135</td>\n",
       "    </tr>\n",
       "    <tr>\n",
       "      <th>2</th>\n",
       "      <td>470000.0</td>\n",
       "      <td>Studio</td>\n",
       "      <td>1 bath</td>\n",
       "      <td>428.0</td>\n",
       "      <td>UAE</td>\n",
       "      <td>Dubai</td>\n",
       "      <td>Arjan</td>\n",
       "      <td>Apartment</td>\n",
       "      <td>Sale</td>\n",
       "      <td>Furnished</td>\n",
       "      <td>Ready</td>\n",
       "      <td>Q2 2025</td>\n",
       "      <td>Camelia Villas</td>\n",
       "      <td>1098.130841</td>\n",
       "      <td>Q2</td>\n",
       "      <td>2025</td>\n",
       "      <td>NaN</td>\n",
       "      <td>1.0</td>\n",
       "      <td>2002.100982</td>\n",
       "      <td>-903.970141</td>\n",
       "    </tr>\n",
       "    <tr>\n",
       "      <th>3</th>\n",
       "      <td>1120000.0</td>\n",
       "      <td>1 bed</td>\n",
       "      <td>1 bath</td>\n",
       "      <td>706.0</td>\n",
       "      <td>UAE</td>\n",
       "      <td>Dubai</td>\n",
       "      <td>Dubai South</td>\n",
       "      <td>Apartment</td>\n",
       "      <td>Sale</td>\n",
       "      <td>Unfurnished</td>\n",
       "      <td>Off-Plan</td>\n",
       "      <td>Q3 2029</td>\n",
       "      <td>Camelia Villas</td>\n",
       "      <td>1586.402266</td>\n",
       "      <td>Q3</td>\n",
       "      <td>2029</td>\n",
       "      <td>1.0</td>\n",
       "      <td>1.0</td>\n",
       "      <td>2002.100982</td>\n",
       "      <td>-415.698716</td>\n",
       "    </tr>\n",
       "    <tr>\n",
       "      <th>4</th>\n",
       "      <td>2127888.0</td>\n",
       "      <td>2 beds</td>\n",
       "      <td>2 baths</td>\n",
       "      <td>1149.0</td>\n",
       "      <td>UAE</td>\n",
       "      <td>Dubai</td>\n",
       "      <td>Dubai South</td>\n",
       "      <td>Apartment</td>\n",
       "      <td>Sale</td>\n",
       "      <td>Unfurnished</td>\n",
       "      <td>Off-Plan</td>\n",
       "      <td>Q3 2029</td>\n",
       "      <td>Camelia Villas</td>\n",
       "      <td>1851.947781</td>\n",
       "      <td>Q3</td>\n",
       "      <td>2029</td>\n",
       "      <td>2.0</td>\n",
       "      <td>2.0</td>\n",
       "      <td>2002.100982</td>\n",
       "      <td>-150.153201</td>\n",
       "    </tr>\n",
       "  </tbody>\n",
       "</table>\n",
       "</div>"
      ],
      "text/plain": [
       "       price bedroom bathroom  area(sqft) country    city  \\\n",
       "0  1800000.0  3 beds  4 baths      1208.0     UAE   Dubai   \n",
       "1   325000.0  Studio   1 bath       483.0     UAE   Dubai   \n",
       "2   470000.0  Studio   1 bath       428.0     UAE   Dubai   \n",
       "3  1120000.0   1 bed   1 bath       706.0     UAE   Dubai   \n",
       "4  2127888.0  2 beds  2 baths      1149.0     UAE   Dubai   \n",
       "\n",
       "                           address propert_type purpose   furnishing  \\\n",
       "0   DAMAC Hills 2 (Akoya by DAMAC)    Townhouse    Sale  Unfurnished   \n",
       "1               International City    Apartment    Sale  Unfurnished   \n",
       "2                            Arjan    Apartment    Sale    Furnished   \n",
       "3                      Dubai South    Apartment    Sale  Unfurnished   \n",
       "4                      Dubai South    Apartment    Sale  Unfurnished   \n",
       "\n",
       "  completion_status handover    project_name  price_per_sqft quater  year  \\\n",
       "0          Off-Plan  Q2 2025  Camelia Villas     1490.066225     Q2  2025   \n",
       "1             Ready  Q2 2025  Camelia Villas      672.877847     Q2  2025   \n",
       "2             Ready  Q2 2025  Camelia Villas     1098.130841     Q2  2025   \n",
       "3          Off-Plan  Q3 2029  Camelia Villas     1586.402266     Q3  2029   \n",
       "4          Off-Plan  Q3 2029  Camelia Villas     1851.947781     Q3  2029   \n",
       "\n",
       "   bedroom_count  bathroom_count  city_avg_price_per_sqft   price_diff  \n",
       "0            3.0             4.0              2002.100982  -512.034757  \n",
       "1            NaN             1.0              2002.100982 -1329.223135  \n",
       "2            NaN             1.0              2002.100982  -903.970141  \n",
       "3            1.0             1.0              2002.100982  -415.698716  \n",
       "4            2.0             2.0              2002.100982  -150.153201  "
      ]
     },
     "execution_count": 280,
     "metadata": {},
     "output_type": "execute_result"
    }
   ],
   "source": [
    "df.head()"
   ]
  },
  {
   "cell_type": "markdown",
   "id": "699df46e",
   "metadata": {},
   "source": [
    "these area is cheaper than the average price of that city.these are the potential areas where someone can invest !"
   ]
  },
  {
   "cell_type": "markdown",
   "id": "e112b827",
   "metadata": {},
   "source": [
    "# Customer Insights"
   ]
  },
  {
   "cell_type": "code",
   "execution_count": 287,
   "id": "9f73098e",
   "metadata": {},
   "outputs": [],
   "source": [
    "#Which projects or areas offer the highest value for money (price per sqft vs. amenities or furnishing)?\n",
    "furnished_df = df[df['furnishing'] == 'Furnished']"
   ]
  },
  {
   "cell_type": "code",
   "execution_count": 288,
   "id": "466ce290",
   "metadata": {},
   "outputs": [
    {
     "name": "stdout",
     "output_type": "stream",
     "text": [
      "                    project_name  price_per_sqft\n",
      "213  Madison Residences Columbus      638.207946\n",
      "412          Verdana Residence 2      774.154421\n",
      "117                   Desert Sun      785.714286\n",
      "27                      Amazonia      797.325103\n",
      "200             Lamaa Building 1      818.181818\n",
      "275                     Palmiera      824.622532\n",
      "336        Silver Park Residency      833.847437\n",
      "409                       Venice      855.578371\n",
      "68           Binghatti Hillviews      886.627907\n",
      "28                          Anwa      886.627907\n"
     ]
    }
   ],
   "source": [
    "furnished_projects = furnished_df.groupby('project_name')['price_per_sqft'].mean().reset_index()\n",
    "\n",
    "# Sort to find lower priced ones\n",
    "value_projects = furnished_projects.sort_values(by='price_per_sqft').head(10)\n",
    "\n",
    "print(value_projects)"
   ]
  },
  {
   "cell_type": "markdown",
   "id": "9b20c61f",
   "metadata": {},
   "source": [
    "these projects are furnished but have low price per sqft best value for money."
   ]
  },
  {
   "cell_type": "code",
   "execution_count": 290,
   "id": "b891d0e7",
   "metadata": {},
   "outputs": [],
   "source": [
    "#Which bedroom configurations are most common in off-plan projects compared to ready projects?\n"
   ]
  },
  {
   "cell_type": "code",
   "execution_count": 291,
   "id": "39beb25d",
   "metadata": {},
   "outputs": [
    {
     "name": "stdout",
     "output_type": "stream",
     "text": [
      "   completion_status  bedroom_count  property_count\n",
      "0           Off-Plan            1.0             923\n",
      "1           Off-Plan            2.0             708\n",
      "2           Off-Plan            3.0             261\n",
      "3           Off-Plan            4.0             214\n",
      "4           Off-Plan            5.0             129\n",
      "5           Off-Plan            6.0              42\n",
      "6           Off-Plan            7.0               1\n",
      "7              Ready            1.0             888\n",
      "8              Ready            2.0             689\n",
      "9              Ready            3.0             396\n",
      "10             Ready            4.0             227\n",
      "11             Ready            5.0              82\n",
      "12             Ready            6.0              34\n",
      "13             Ready            7.0               9\n",
      "16             Ready           10.0               4\n",
      "15             Ready            9.0               3\n",
      "14             Ready            8.0               1\n"
     ]
    }
   ],
   "source": [
    "bedroom_distribution = df.groupby(['completion_status', 'bedroom_count']).size().reset_index(name='property_count')\n",
    "\n",
    "bedroom_distribution = bedroom_distribution.sort_values(by=['completion_status', 'property_count'], ascending=[True, False])\n",
    "\n",
    "print(bedroom_distribution)"
   ]
  },
  {
   "cell_type": "markdown",
   "id": "153cda1e",
   "metadata": {},
   "source": [
    "# TOP 3 ANALYSIS FROM THIS PROJECT "
   ]
  },
  {
   "cell_type": "markdown",
   "id": "d4d5e1c6",
   "metadata": {},
   "source": [
    "-->Several areas like Nad Al Hamar, International City, and Remraam show a significantly lower price per sqft compared to their city averages .\n",
    "\n",
    "These areas are undervalued and may represent strong upside potential for investors looking for affordable entry points with room for appreciation.   [279]"
   ]
  },
  {
   "cell_type": "markdown",
   "id": "c2f3709b",
   "metadata": {},
   "source": [
    "--> Completion Status Strongly Influences Price per Sqft\n",
    "Ready properties generally have a lower price per sqft than Off-Plan ones.\n",
    "\n",
    "Off-Plan projects often position themselves as \"luxury future-ready\", hence priced higher, even though they’re not delivered yet.  [275]"
   ]
  },
  {
   "cell_type": "markdown",
   "id": "c5cbc3da",
   "metadata": {},
   "source": [
    "--> Most Off-Plan projects offer 1-2 bedroom units, targeting affordable investors and young professionals.\n",
    "\n",
    "However, Off-Plan properties with sooner handovers (e.g., Q3/Q4 2024) are already priced higher per sqft than those with longer timelines, showing that buyers are willing to pay a premium for quicker possession."
   ]
  },
  {
   "cell_type": "code",
   "execution_count": null,
   "id": "caaca900",
   "metadata": {},
   "outputs": [],
   "source": []
  }
 ],
 "metadata": {
  "kernelspec": {
   "display_name": "Python (tf_env)",
   "language": "python",
   "name": "tf_env"
  },
  "language_info": {
   "codemirror_mode": {
    "name": "ipython",
    "version": 3
   },
   "file_extension": ".py",
   "mimetype": "text/x-python",
   "name": "python",
   "nbconvert_exporter": "python",
   "pygments_lexer": "ipython3",
   "version": "3.10.16"
  }
 },
 "nbformat": 4,
 "nbformat_minor": 5
}
