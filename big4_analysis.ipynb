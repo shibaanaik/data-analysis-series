{
 "cells": [
  {
   "cell_type": "code",
   "execution_count": 103,
   "id": "eb1c55d3",
   "metadata": {},
   "outputs": [],
   "source": [
    "import pandas as pd \n",
    "import numpy as np \n",
    "import matplotlib.pyplot as plt \n",
    "import seaborn as sns"
   ]
  },
  {
   "cell_type": "code",
   "execution_count": 104,
   "id": "fe114714",
   "metadata": {},
   "outputs": [],
   "source": [
    "df=pd.read_csv(\"big4_financial_risk_compliance.csv\")"
   ]
  },
  {
   "cell_type": "code",
   "execution_count": 105,
   "id": "cd8b82b3",
   "metadata": {},
   "outputs": [
    {
     "data": {
      "text/html": [
       "<div>\n",
       "<style scoped>\n",
       "    .dataframe tbody tr th:only-of-type {\n",
       "        vertical-align: middle;\n",
       "    }\n",
       "\n",
       "    .dataframe tbody tr th {\n",
       "        vertical-align: top;\n",
       "    }\n",
       "\n",
       "    .dataframe thead th {\n",
       "        text-align: right;\n",
       "    }\n",
       "</style>\n",
       "<table border=\"1\" class=\"dataframe\">\n",
       "  <thead>\n",
       "    <tr style=\"text-align: right;\">\n",
       "      <th></th>\n",
       "      <th>Year</th>\n",
       "      <th>Firm_Name</th>\n",
       "      <th>Total_Audit_Engagements</th>\n",
       "      <th>High_Risk_Cases</th>\n",
       "      <th>Compliance_Violations</th>\n",
       "      <th>Fraud_Cases_Detected</th>\n",
       "      <th>Industry_Affected</th>\n",
       "      <th>Total_Revenue_Impact</th>\n",
       "      <th>AI_Used_for_Auditing</th>\n",
       "      <th>Employee_Workload</th>\n",
       "      <th>Audit_Effectiveness_Score</th>\n",
       "      <th>Client_Satisfaction_Score</th>\n",
       "    </tr>\n",
       "  </thead>\n",
       "  <tbody>\n",
       "    <tr>\n",
       "      <th>0</th>\n",
       "      <td>2020</td>\n",
       "      <td>PwC</td>\n",
       "      <td>2829</td>\n",
       "      <td>51</td>\n",
       "      <td>123</td>\n",
       "      <td>39</td>\n",
       "      <td>Healthcare</td>\n",
       "      <td>114.24</td>\n",
       "      <td>No</td>\n",
       "      <td>57</td>\n",
       "      <td>5.8</td>\n",
       "      <td>8.4</td>\n",
       "    </tr>\n",
       "    <tr>\n",
       "      <th>1</th>\n",
       "      <td>2022</td>\n",
       "      <td>Deloitte</td>\n",
       "      <td>3589</td>\n",
       "      <td>185</td>\n",
       "      <td>30</td>\n",
       "      <td>60</td>\n",
       "      <td>Healthcare</td>\n",
       "      <td>156.98</td>\n",
       "      <td>Yes</td>\n",
       "      <td>58</td>\n",
       "      <td>5.3</td>\n",
       "      <td>6.7</td>\n",
       "    </tr>\n",
       "    <tr>\n",
       "      <th>2</th>\n",
       "      <td>2020</td>\n",
       "      <td>PwC</td>\n",
       "      <td>2438</td>\n",
       "      <td>212</td>\n",
       "      <td>124</td>\n",
       "      <td>97</td>\n",
       "      <td>Healthcare</td>\n",
       "      <td>131.83</td>\n",
       "      <td>No</td>\n",
       "      <td>76</td>\n",
       "      <td>6.1</td>\n",
       "      <td>6.2</td>\n",
       "    </tr>\n",
       "    <tr>\n",
       "      <th>3</th>\n",
       "      <td>2021</td>\n",
       "      <td>PwC</td>\n",
       "      <td>2646</td>\n",
       "      <td>397</td>\n",
       "      <td>55</td>\n",
       "      <td>97</td>\n",
       "      <td>Healthcare</td>\n",
       "      <td>229.11</td>\n",
       "      <td>No</td>\n",
       "      <td>60</td>\n",
       "      <td>5.1</td>\n",
       "      <td>8.6</td>\n",
       "    </tr>\n",
       "    <tr>\n",
       "      <th>4</th>\n",
       "      <td>2020</td>\n",
       "      <td>PwC</td>\n",
       "      <td>2680</td>\n",
       "      <td>216</td>\n",
       "      <td>99</td>\n",
       "      <td>46</td>\n",
       "      <td>Healthcare</td>\n",
       "      <td>48.00</td>\n",
       "      <td>No</td>\n",
       "      <td>51</td>\n",
       "      <td>9.1</td>\n",
       "      <td>6.7</td>\n",
       "    </tr>\n",
       "  </tbody>\n",
       "</table>\n",
       "</div>"
      ],
      "text/plain": [
       "   Year Firm_Name  Total_Audit_Engagements  High_Risk_Cases  \\\n",
       "0  2020       PwC                     2829               51   \n",
       "1  2022  Deloitte                     3589              185   \n",
       "2  2020       PwC                     2438              212   \n",
       "3  2021       PwC                     2646              397   \n",
       "4  2020       PwC                     2680              216   \n",
       "\n",
       "   Compliance_Violations  Fraud_Cases_Detected Industry_Affected  \\\n",
       "0                    123                    39        Healthcare   \n",
       "1                     30                    60        Healthcare   \n",
       "2                    124                    97        Healthcare   \n",
       "3                     55                    97        Healthcare   \n",
       "4                     99                    46        Healthcare   \n",
       "\n",
       "   Total_Revenue_Impact AI_Used_for_Auditing  Employee_Workload  \\\n",
       "0                114.24                   No                 57   \n",
       "1                156.98                  Yes                 58   \n",
       "2                131.83                   No                 76   \n",
       "3                229.11                   No                 60   \n",
       "4                 48.00                   No                 51   \n",
       "\n",
       "   Audit_Effectiveness_Score  Client_Satisfaction_Score  \n",
       "0                        5.8                        8.4  \n",
       "1                        5.3                        6.7  \n",
       "2                        6.1                        6.2  \n",
       "3                        5.1                        8.6  \n",
       "4                        9.1                        6.7  "
      ]
     },
     "execution_count": 105,
     "metadata": {},
     "output_type": "execute_result"
    }
   ],
   "source": [
    "df.head()"
   ]
  },
  {
   "cell_type": "code",
   "execution_count": 106,
   "id": "5a2b4afc",
   "metadata": {},
   "outputs": [
    {
     "data": {
      "text/plain": [
       "(100, 12)"
      ]
     },
     "execution_count": 106,
     "metadata": {},
     "output_type": "execute_result"
    }
   ],
   "source": [
    "df.shape"
   ]
  },
  {
   "cell_type": "code",
   "execution_count": 107,
   "id": "5de9db1f",
   "metadata": {},
   "outputs": [
    {
     "data": {
      "text/plain": [
       "Index(['Year', 'Firm_Name', 'Total_Audit_Engagements', 'High_Risk_Cases',\n",
       "       'Compliance_Violations', 'Fraud_Cases_Detected', 'Industry_Affected',\n",
       "       'Total_Revenue_Impact', 'AI_Used_for_Auditing', 'Employee_Workload',\n",
       "       'Audit_Effectiveness_Score', 'Client_Satisfaction_Score'],\n",
       "      dtype='object')"
      ]
     },
     "execution_count": 107,
     "metadata": {},
     "output_type": "execute_result"
    }
   ],
   "source": [
    "df.columns"
   ]
  },
  {
   "cell_type": "code",
   "execution_count": 108,
   "id": "33533c1e",
   "metadata": {},
   "outputs": [
    {
     "name": "stdout",
     "output_type": "stream",
     "text": [
      "<class 'pandas.core.frame.DataFrame'>\n",
      "RangeIndex: 100 entries, 0 to 99\n",
      "Data columns (total 12 columns):\n",
      " #   Column                     Non-Null Count  Dtype  \n",
      "---  ------                     --------------  -----  \n",
      " 0   Year                       100 non-null    int64  \n",
      " 1   Firm_Name                  100 non-null    object \n",
      " 2   Total_Audit_Engagements    100 non-null    int64  \n",
      " 3   High_Risk_Cases            100 non-null    int64  \n",
      " 4   Compliance_Violations      100 non-null    int64  \n",
      " 5   Fraud_Cases_Detected       100 non-null    int64  \n",
      " 6   Industry_Affected          100 non-null    object \n",
      " 7   Total_Revenue_Impact       100 non-null    float64\n",
      " 8   AI_Used_for_Auditing       100 non-null    object \n",
      " 9   Employee_Workload          100 non-null    int64  \n",
      " 10  Audit_Effectiveness_Score  100 non-null    float64\n",
      " 11  Client_Satisfaction_Score  100 non-null    float64\n",
      "dtypes: float64(3), int64(6), object(3)\n",
      "memory usage: 9.5+ KB\n"
     ]
    }
   ],
   "source": [
    "df.info()"
   ]
  },
  {
   "cell_type": "code",
   "execution_count": 109,
   "id": "fda38b4f",
   "metadata": {},
   "outputs": [
    {
     "data": {
      "text/html": [
       "<div>\n",
       "<style scoped>\n",
       "    .dataframe tbody tr th:only-of-type {\n",
       "        vertical-align: middle;\n",
       "    }\n",
       "\n",
       "    .dataframe tbody tr th {\n",
       "        vertical-align: top;\n",
       "    }\n",
       "\n",
       "    .dataframe thead th {\n",
       "        text-align: right;\n",
       "    }\n",
       "</style>\n",
       "<table border=\"1\" class=\"dataframe\">\n",
       "  <thead>\n",
       "    <tr style=\"text-align: right;\">\n",
       "      <th></th>\n",
       "      <th>Year</th>\n",
       "      <th>Total_Audit_Engagements</th>\n",
       "      <th>High_Risk_Cases</th>\n",
       "      <th>Compliance_Violations</th>\n",
       "      <th>Fraud_Cases_Detected</th>\n",
       "      <th>Total_Revenue_Impact</th>\n",
       "      <th>Employee_Workload</th>\n",
       "      <th>Audit_Effectiveness_Score</th>\n",
       "      <th>Client_Satisfaction_Score</th>\n",
       "    </tr>\n",
       "  </thead>\n",
       "  <tbody>\n",
       "    <tr>\n",
       "      <th>count</th>\n",
       "      <td>100.000000</td>\n",
       "      <td>100.000000</td>\n",
       "      <td>100.000000</td>\n",
       "      <td>100.000000</td>\n",
       "      <td>100.000000</td>\n",
       "      <td>100.000000</td>\n",
       "      <td>100.000000</td>\n",
       "      <td>100.000000</td>\n",
       "      <td>100.000000</td>\n",
       "    </tr>\n",
       "    <tr>\n",
       "      <th>mean</th>\n",
       "      <td>2022.320000</td>\n",
       "      <td>2784.520000</td>\n",
       "      <td>277.730000</td>\n",
       "      <td>105.480000</td>\n",
       "      <td>52.700000</td>\n",
       "      <td>272.539000</td>\n",
       "      <td>60.250000</td>\n",
       "      <td>7.490000</td>\n",
       "      <td>7.339000</td>\n",
       "    </tr>\n",
       "    <tr>\n",
       "      <th>std</th>\n",
       "      <td>1.780251</td>\n",
       "      <td>1281.863073</td>\n",
       "      <td>135.735174</td>\n",
       "      <td>55.370101</td>\n",
       "      <td>28.311221</td>\n",
       "      <td>139.151401</td>\n",
       "      <td>11.163048</td>\n",
       "      <td>1.516209</td>\n",
       "      <td>1.429127</td>\n",
       "    </tr>\n",
       "    <tr>\n",
       "      <th>min</th>\n",
       "      <td>2020.000000</td>\n",
       "      <td>603.000000</td>\n",
       "      <td>51.000000</td>\n",
       "      <td>10.000000</td>\n",
       "      <td>5.000000</td>\n",
       "      <td>33.460000</td>\n",
       "      <td>40.000000</td>\n",
       "      <td>5.000000</td>\n",
       "      <td>5.000000</td>\n",
       "    </tr>\n",
       "    <tr>\n",
       "      <th>25%</th>\n",
       "      <td>2021.000000</td>\n",
       "      <td>1768.250000</td>\n",
       "      <td>162.500000</td>\n",
       "      <td>54.500000</td>\n",
       "      <td>27.000000</td>\n",
       "      <td>155.217500</td>\n",
       "      <td>52.750000</td>\n",
       "      <td>6.100000</td>\n",
       "      <td>6.100000</td>\n",
       "    </tr>\n",
       "    <tr>\n",
       "      <th>50%</th>\n",
       "      <td>2022.000000</td>\n",
       "      <td>2650.000000</td>\n",
       "      <td>293.000000</td>\n",
       "      <td>114.500000</td>\n",
       "      <td>54.000000</td>\n",
       "      <td>264.450000</td>\n",
       "      <td>60.000000</td>\n",
       "      <td>7.450000</td>\n",
       "      <td>7.350000</td>\n",
       "    </tr>\n",
       "    <tr>\n",
       "      <th>75%</th>\n",
       "      <td>2024.000000</td>\n",
       "      <td>4008.750000</td>\n",
       "      <td>395.500000</td>\n",
       "      <td>149.500000</td>\n",
       "      <td>74.500000</td>\n",
       "      <td>406.090000</td>\n",
       "      <td>68.000000</td>\n",
       "      <td>8.825000</td>\n",
       "      <td>8.525000</td>\n",
       "    </tr>\n",
       "    <tr>\n",
       "      <th>max</th>\n",
       "      <td>2025.000000</td>\n",
       "      <td>4946.000000</td>\n",
       "      <td>500.000000</td>\n",
       "      <td>200.000000</td>\n",
       "      <td>100.000000</td>\n",
       "      <td>497.060000</td>\n",
       "      <td>80.000000</td>\n",
       "      <td>10.000000</td>\n",
       "      <td>10.000000</td>\n",
       "    </tr>\n",
       "  </tbody>\n",
       "</table>\n",
       "</div>"
      ],
      "text/plain": [
       "              Year  Total_Audit_Engagements  High_Risk_Cases  \\\n",
       "count   100.000000               100.000000       100.000000   \n",
       "mean   2022.320000              2784.520000       277.730000   \n",
       "std       1.780251              1281.863073       135.735174   \n",
       "min    2020.000000               603.000000        51.000000   \n",
       "25%    2021.000000              1768.250000       162.500000   \n",
       "50%    2022.000000              2650.000000       293.000000   \n",
       "75%    2024.000000              4008.750000       395.500000   \n",
       "max    2025.000000              4946.000000       500.000000   \n",
       "\n",
       "       Compliance_Violations  Fraud_Cases_Detected  Total_Revenue_Impact  \\\n",
       "count             100.000000            100.000000            100.000000   \n",
       "mean              105.480000             52.700000            272.539000   \n",
       "std                55.370101             28.311221            139.151401   \n",
       "min                10.000000              5.000000             33.460000   \n",
       "25%                54.500000             27.000000            155.217500   \n",
       "50%               114.500000             54.000000            264.450000   \n",
       "75%               149.500000             74.500000            406.090000   \n",
       "max               200.000000            100.000000            497.060000   \n",
       "\n",
       "       Employee_Workload  Audit_Effectiveness_Score  Client_Satisfaction_Score  \n",
       "count         100.000000                 100.000000                 100.000000  \n",
       "mean           60.250000                   7.490000                   7.339000  \n",
       "std            11.163048                   1.516209                   1.429127  \n",
       "min            40.000000                   5.000000                   5.000000  \n",
       "25%            52.750000                   6.100000                   6.100000  \n",
       "50%            60.000000                   7.450000                   7.350000  \n",
       "75%            68.000000                   8.825000                   8.525000  \n",
       "max            80.000000                  10.000000                  10.000000  "
      ]
     },
     "execution_count": 109,
     "metadata": {},
     "output_type": "execute_result"
    }
   ],
   "source": [
    "df.describe()"
   ]
  },
  {
   "cell_type": "code",
   "execution_count": 110,
   "id": "e8a6e3b2",
   "metadata": {},
   "outputs": [
    {
     "data": {
      "text/plain": [
       "Year                         0\n",
       "Firm_Name                    0\n",
       "Total_Audit_Engagements      0\n",
       "High_Risk_Cases              0\n",
       "Compliance_Violations        0\n",
       "Fraud_Cases_Detected         0\n",
       "Industry_Affected            0\n",
       "Total_Revenue_Impact         0\n",
       "AI_Used_for_Auditing         0\n",
       "Employee_Workload            0\n",
       "Audit_Effectiveness_Score    0\n",
       "Client_Satisfaction_Score    0\n",
       "dtype: int64"
      ]
     },
     "execution_count": 110,
     "metadata": {},
     "output_type": "execute_result"
    }
   ],
   "source": [
    "df.isnull().sum()"
   ]
  },
  {
   "cell_type": "code",
   "execution_count": 111,
   "id": "a833f34e",
   "metadata": {},
   "outputs": [
    {
     "data": {
      "text/plain": [
       "array([2020, 2022, 2021, 2023, 2024, 2025], dtype=int64)"
      ]
     },
     "execution_count": 111,
     "metadata": {},
     "output_type": "execute_result"
    }
   ],
   "source": [
    "df['Year'].unique()"
   ]
  },
  {
   "cell_type": "code",
   "execution_count": 112,
   "id": "23eb5c8d",
   "metadata": {},
   "outputs": [
    {
     "name": "stdout",
     "output_type": "stream",
     "text": [
      "Firm_Name\n",
      "Deloitte         8485\n",
      "KPMG             6869\n",
      "Ernst & Young    6403\n",
      "PwC              6016\n",
      "Name: High_Risk_Cases, dtype: int64\n"
     ]
    }
   ],
   "source": [
    "#Which firm had the highest number of high-risk cases across all years?\n",
    "high_risk=df.groupby('Firm_Name')['High_Risk_Cases'].sum().sort_values(ascending=False)\n",
    "print(high_risk)"
   ]
  },
  {
   "cell_type": "code",
   "execution_count": 113,
   "id": "96411444",
   "metadata": {},
   "outputs": [
    {
     "data": {
      "text/plain": [
       "Firm_Name\n",
       "Deloitte    8485\n",
       "Name: High_Risk_Cases, dtype: int64"
      ]
     },
     "execution_count": 113,
     "metadata": {},
     "output_type": "execute_result"
    }
   ],
   "source": [
    "df.groupby('Firm_Name')['High_Risk_Cases'].sum().sort_values(ascending=False).head(1)"
   ]
  },
  {
   "cell_type": "code",
   "execution_count": 114,
   "id": "24fbbd02",
   "metadata": {},
   "outputs": [
    {
     "data": {
      "image/png": "[encoded data removed]",
      "text/plain": [
       "<Figure size 640x480 with 1 Axes>"
      ]
     },
     "metadata": {},
     "output_type": "display_data"
    }
   ],
   "source": [
    "\n",
    "high_risk.plot(kind='bar', color='crimson', edgecolor='black')\n",
    "plt.title('Total High-Risk Cases by Firm (All Years)')\n",
    "plt.xlabel('Firm Name')\n",
    "plt.ylabel('Total High-Risk Cases')\n",
    "plt.xticks(rotation=45)\n",
    "plt.grid(axis='y', linestyle='--', alpha=0.7)\n",
    "plt.tight_layout()\n",
    "plt.show()"
   ]
  },
  {
   "cell_type": "code",
   "execution_count": 115,
   "id": "201c38f9",
   "metadata": {},
   "outputs": [
    {
     "name": "stdout",
     "output_type": "stream",
     "text": [
      "Year\n",
      "2020    1042\n",
      "2021     963\n",
      "2022     667\n",
      "2023     727\n",
      "2024     938\n",
      "2025     933\n",
      "Name: Fraud_Cases_Detected, dtype: int64\n"
     ]
    }
   ],
   "source": [
    "#How many fraud cases were detected per firm per year?\n",
    "fraud_cases=df.groupby('Year')['Fraud_Cases_Detected'].sum()\n",
    "print(fraud_cases)"
   ]
  },
  {
   "cell_type": "code",
   "execution_count": 116,
   "id": "f943552c",
   "metadata": {},
   "outputs": [
    {
     "data": {
      "image/png": "[encoded data removed]",
      "text/plain": [
       "<Figure size 640x480 with 1 Axes>"
      ]
     },
     "metadata": {},
     "output_type": "display_data"
    }
   ],
   "source": [
    "fraud_cases.plot(kind='bar',color='green', edgecolor='black')\n",
    "plt.title('count of fraud cases detected by year')\n",
    "plt.xlabel('Year')\n",
    "plt.ylabel('count of fraud')\n",
    "plt.show()"
   ]
  },
  {
   "cell_type": "markdown",
   "id": "0a684b93",
   "metadata": {},
   "source": [
    "2020 year has the highest fraud cases ."
   ]
  },
  {
   "cell_type": "code",
   "execution_count": 117,
   "id": "a583cdee",
   "metadata": {},
   "outputs": [
    {
     "data": {
      "text/plain": [
       "Index(['Year', 'Firm_Name', 'Total_Audit_Engagements', 'High_Risk_Cases',\n",
       "       'Compliance_Violations', 'Fraud_Cases_Detected', 'Industry_Affected',\n",
       "       'Total_Revenue_Impact', 'AI_Used_for_Auditing', 'Employee_Workload',\n",
       "       'Audit_Effectiveness_Score', 'Client_Satisfaction_Score'],\n",
       "      dtype='object')"
      ]
     },
     "execution_count": 117,
     "metadata": {},
     "output_type": "execute_result"
    }
   ],
   "source": [
    "df.columns"
   ]
  },
  {
   "cell_type": "code",
   "execution_count": 118,
   "id": "14eaa73e",
   "metadata": {},
   "outputs": [],
   "source": [
    "#What is the trend of compliance violations over the years for each firm\n",
    "compliance_trend = df.groupby(['Year', 'Firm_Name'])['Compliance_Violations'].sum().reset_index()\n"
   ]
  },
  {
   "cell_type": "code",
   "execution_count": 119,
   "id": "b7eca039",
   "metadata": {},
   "outputs": [
    {
     "data": {
      "image/png": "[encoded data removed]",
      "text/plain": [
       "<Figure size 1000x600 with 1 Axes>"
      ]
     },
     "metadata": {},
     "output_type": "display_data"
    }
   ],
   "source": [
    "plt.figure(figsize=(10, 6))\n",
    "sns.lineplot(data=compliance_trend, x='Year', y='Compliance_Violations', hue='Firm_Name', marker='o')\n",
    "\n",
    "plt.title('Trend of Compliance Violations Over Years for Each Firm')\n",
    "plt.xlabel('Year')\n",
    "plt.ylabel('Total Compliance Violations')\n",
    "plt.grid(True, linestyle='--', alpha=0.6)\n",
    "plt.legend(title='Firm')\n",
    "plt.tight_layout()\n",
    "plt.show()"
   ]
  },
  {
   "cell_type": "markdown",
   "id": "8427a916",
   "metadata": {},
   "source": [
    "from 2023 the compliencw violations of KPMG is been low ,that shows KPMG is committed to sustained improvement and strong internal control"
   ]
  },
  {
   "cell_type": "code",
   "execution_count": 120,
   "id": "91705583",
   "metadata": {},
   "outputs": [
    {
     "data": {
      "text/plain": [
       "AI_Used_for_Auditing\n",
       "No     7.403636\n",
       "Yes    7.595556\n",
       "Name: Audit_Effectiveness_Score, dtype: float64"
      ]
     },
     "execution_count": 120,
     "metadata": {},
     "output_type": "execute_result"
    }
   ],
   "source": [
    "#Does the use of AI improve audit effectiveness score?\n",
    "df.groupby('AI_Used_for_Auditing')['Audit_Effectiveness_Score'].mean()"
   ]
  },
  {
   "cell_type": "markdown",
   "id": "891c7163",
   "metadata": {},
   "source": [
    "use of ai can improve audit effectiveness "
   ]
  },
  {
   "cell_type": "code",
   "execution_count": 121,
   "id": "fa9c11e3",
   "metadata": {},
   "outputs": [
    {
     "data": {
      "text/plain": [
       "Firm_Name\n",
       "Deloitte         3127\n",
       "Ernst & Young    2724\n",
       "PwC              2627\n",
       "KPMG             2070\n",
       "Name: Compliance_Violations, dtype: int64"
      ]
     },
     "execution_count": 121,
     "metadata": {},
     "output_type": "execute_result"
    }
   ],
   "source": [
    "#Which industry shows the highest number of compliance issues?\n",
    "df.groupby('Firm_Name')['Compliance_Violations'].sum().sort_values(ascending=False)"
   ]
  },
  {
   "cell_type": "code",
   "execution_count": 122,
   "id": "87cc0612",
   "metadata": {},
   "outputs": [
    {
     "data": {
      "text/plain": [
       "0.034332929230162956"
      ]
     },
     "execution_count": 122,
     "metadata": {},
     "output_type": "execute_result"
    }
   ],
   "source": [
    "#Is there a correlation between employee workload and client satisfaction?\n",
    "df['Employee_Workload'].corr(df['Client_Satisfaction_Score'])"
   ]
  },
  {
   "cell_type": "markdown",
   "id": "7627df71",
   "metadata": {},
   "source": [
    "based on the dataset there is no correlation between employee workload and client satisfaction score .I personally believe quality of work matters."
   ]
  },
  {
   "cell_type": "code",
   "execution_count": 123,
   "id": "7911c99c",
   "metadata": {},
   "outputs": [
    {
     "data": {
      "text/plain": [
       "0.012651049770818894"
      ]
     },
     "execution_count": 123,
     "metadata": {},
     "output_type": "execute_result"
    }
   ],
   "source": [
    "#How does total revenue impact correlate with the number of fraud cases?\n",
    "df['Total_Revenue_Impact'].corr(df['Fraud_Cases_Detected'])"
   ]
  },
  {
   "cell_type": "code",
   "execution_count": 124,
   "id": "1f96d4bf",
   "metadata": {},
   "outputs": [
    {
     "name": "stdout",
     "output_type": "stream",
     "text": [
      "Firm_Name\n",
      "PwC              1.505246\n",
      "KPMG             1.517353\n",
      "Ernst & Young    1.517721\n",
      "Deloitte         1.593608\n",
      "Name: Audit_Effectiveness_Score, dtype: float64\n"
     ]
    }
   ],
   "source": [
    "#Which firms show consistent performance in audit effectiveness scores over time?\n",
    "consistency = df.groupby('Firm_Name')['Audit_Effectiveness_Score'].std().sort_values()\n",
    "print(consistency)"
   ]
  },
  {
   "cell_type": "markdown",
   "id": "78690433",
   "metadata": {},
   "source": [
    "PwC shows the consistent performance in audit performance score over time ."
   ]
  },
  {
   "cell_type": "code",
   "execution_count": 125,
   "id": "02774714",
   "metadata": {},
   "outputs": [
    {
     "data": {
      "image/png": "[encoded data removed]",
      "text/plain": [
       "<Figure size 1000x600 with 1 Axes>"
      ]
     },
     "metadata": {},
     "output_type": "display_data"
    }
   ],
   "source": [
    "plt.figure(figsize=(10, 6))\n",
    "sns.barplot(data=df, x='Year', y='Audit_Effectiveness_Score', hue='Firm_Name')\n",
    "plt.title('Audit Effectiveness Score Trends Over Time by Firm')\n",
    "plt.xlabel('Year')\n",
    "plt.ylabel('Effectiveness Score')\n",
    "plt.grid(True, linestyle='--', alpha=0.5)\n",
    "plt.tight_layout()\n",
    "plt.show()"
   ]
  },
  {
   "cell_type": "code",
   "execution_count": 126,
   "id": "2284f704",
   "metadata": {},
   "outputs": [
    {
     "name": "stdout",
     "output_type": "stream",
     "text": [
      "AI_Used_for_Auditing\n",
      "No     54.727273\n",
      "Yes    50.222222\n",
      "Name: Fraud_Cases_Detected, dtype: float64\n"
     ]
    }
   ],
   "source": [
    "#Do firms using AI have lower fraud detection but higher client satisfaction?\n",
    "fraud_comparison = df.groupby('AI_Used_for_Auditing')['Fraud_Cases_Detected'].mean()\n",
    "print(fraud_comparison)\n"
   ]
  },
  {
   "cell_type": "code",
   "execution_count": 127,
   "id": "070d30e8",
   "metadata": {},
   "outputs": [
    {
     "name": "stdout",
     "output_type": "stream",
     "text": [
      "AI_Used_for_Auditing\n",
      "No     7.316364\n",
      "Yes    7.366667\n",
      "Name: Client_Satisfaction_Score, dtype: float64\n"
     ]
    }
   ],
   "source": [
    "satisfaction_comparison = df.groupby('AI_Used_for_Auditing')['Client_Satisfaction_Score'].mean()\n",
    "print(satisfaction_comparison)"
   ]
  },
  {
   "cell_type": "code",
   "execution_count": 128,
   "id": "65c3f743",
   "metadata": {},
   "outputs": [
    {
     "name": "stdout",
     "output_type": "stream",
     "text": [
      "                      Fraud_Cases_Detected  Client_Satisfaction_Score\n",
      "AI_Used_for_Auditing                                                 \n",
      "No                               54.727273                   7.316364\n",
      "Yes                              50.222222                   7.366667\n"
     ]
    }
   ],
   "source": [
    "summary = df.groupby('AI_Used_for_Auditing')[['Fraud_Cases_Detected', 'Client_Satisfaction_Score']].mean()\n",
    "print(summary)\n"
   ]
  },
  {
   "cell_type": "markdown",
   "id": "1bb31e56",
   "metadata": {},
   "source": [
    "from this we can say that firms that are using ai they have less fraud case detected and their customer satisfaction score is also more then the firm that are not using ai "
   ]
  },
  {
   "cell_type": "code",
   "execution_count": null,
   "id": "a5aa6b2d",
   "metadata": {},
   "outputs": [],
   "source": [
    "#Which firm manages to balance high audit engagements with low compliance violations over time?\n",
    "firm_stats = df.groupby('Firm_Name')[['Audit_Effectiveness_Score', 'Compliance_Violations']].sum()\n",
    "print(firm_stats)"
   ]
  },
  {
   "cell_type": "code",
   "execution_count": null,
   "id": "4ef8849f",
   "metadata": {},
   "outputs": [],
   "source": [
    "firm_stats['Engagements_per_Violation'] = firm_stats['Audit_Effectiveness_Score'] / firm_stats['Compliance_Violations']\n",
    "firm_stats_sorted = firm_stats.sort_values(by='Engagements_per_Violation', ascending=False)\n",
    "print(firm_stats_sorted)\n"
   ]
  },
  {
   "cell_type": "markdown",
   "id": "6de88e51",
   "metadata": {},
   "source": [
    "KPMG balances it very well ."
   ]
  },
  {
   "cell_type": "code",
   "execution_count": 129,
   "id": "c9c0ebf4",
   "metadata": {},
   "outputs": [],
   "source": [
    "benchmark_df = df.groupby(['Firm_Name', 'Year', 'Industry_Affected']).agg({\n",
    "    'Audit_Effectiveness_Score': 'mean',\n",
    "    'Compliance_Violations': 'sum'\n",
    "}).reset_index()\n"
   ]
  },
  {
   "cell_type": "code",
   "execution_count": 130,
   "id": "db1eea92",
   "metadata": {},
   "outputs": [],
   "source": [
    "from sklearn.preprocessing import MinMaxScaler\n",
    "\n",
    "scaler = MinMaxScaler()\n",
    "\n",
    "benchmark_df['Effectiveness_scaled'] = scaler.fit_transform(benchmark_df[['Audit_Effectiveness_Score']])\n",
    "benchmark_df['Violations_scaled'] = scaler.fit_transform(benchmark_df[['Compliance_Violations']])\n",
    "\n",
    "# Higher effectiveness, lower violations → higher benchmark score\n",
    "benchmark_df['Benchmark_Score'] = benchmark_df['Effectiveness_scaled'] + (1 - benchmark_df['Violations_scaled'])\n"
   ]
  },
  {
   "cell_type": "code",
   "execution_count": 131,
   "id": "d7d2346b",
   "metadata": {},
   "outputs": [
    {
     "name": "stdout",
     "output_type": "stream",
     "text": [
      "   Firm_Name  Year Industry_Affected  Audit_Effectiveness_Score  \\\n",
      "46       PwC  2020            Retail                       10.0   \n",
      "\n",
      "    Compliance_Violations  Effectiveness_scaled  Violations_scaled  \\\n",
      "46                     48                   1.0           0.077236   \n",
      "\n",
      "    Benchmark_Score  \n",
      "46         1.922764  \n"
     ]
    }
   ],
   "source": [
    "best_combo = benchmark_df.sort_values(by='Benchmark_Score', ascending=False).head(1)\n",
    "print(best_combo)\n"
   ]
  },
  {
   "cell_type": "code",
   "execution_count": 66,
   "id": "7ad2b8cc",
   "metadata": {},
   "outputs": [],
   "source": [
    "#Use regression to predict revenue impact from workload, risk cases, and AI usage.\n",
    "df['AI_Used_for_Auditing']=df['AI_Used_for_Auditing'].map({\n",
    "    'Yes':'1',\n",
    "    'No':'0'\n",
    "})"
   ]
  },
  {
   "cell_type": "code",
   "execution_count": 67,
   "id": "5db59516",
   "metadata": {},
   "outputs": [
    {
     "data": {
      "text/html": [
       "<div>\n",
       "<style scoped>\n",
       "    .dataframe tbody tr th:only-of-type {\n",
       "        vertical-align: middle;\n",
       "    }\n",
       "\n",
       "    .dataframe tbody tr th {\n",
       "        vertical-align: top;\n",
       "    }\n",
       "\n",
       "    .dataframe thead th {\n",
       "        text-align: right;\n",
       "    }\n",
       "</style>\n",
       "<table border=\"1\" class=\"dataframe\">\n",
       "  <thead>\n",
       "    <tr style=\"text-align: right;\">\n",
       "      <th></th>\n",
       "      <th>Year</th>\n",
       "      <th>Firm_Name</th>\n",
       "      <th>Total_Audit_Engagements</th>\n",
       "      <th>High_Risk_Cases</th>\n",
       "      <th>Compliance_Violations</th>\n",
       "      <th>Fraud_Cases_Detected</th>\n",
       "      <th>Industry_Affected</th>\n",
       "      <th>Total_Revenue_Impact</th>\n",
       "      <th>AI_Used_for_Auditing</th>\n",
       "      <th>Employee_Workload</th>\n",
       "      <th>Audit_Effectiveness_Score</th>\n",
       "      <th>Client_Satisfaction_Score</th>\n",
       "    </tr>\n",
       "  </thead>\n",
       "  <tbody>\n",
       "    <tr>\n",
       "      <th>0</th>\n",
       "      <td>2020</td>\n",
       "      <td>PwC</td>\n",
       "      <td>2829</td>\n",
       "      <td>51</td>\n",
       "      <td>123</td>\n",
       "      <td>39</td>\n",
       "      <td>Healthcare</td>\n",
       "      <td>114.24</td>\n",
       "      <td>0</td>\n",
       "      <td>57</td>\n",
       "      <td>5.8</td>\n",
       "      <td>8.4</td>\n",
       "    </tr>\n",
       "    <tr>\n",
       "      <th>1</th>\n",
       "      <td>2022</td>\n",
       "      <td>Deloitte</td>\n",
       "      <td>3589</td>\n",
       "      <td>185</td>\n",
       "      <td>30</td>\n",
       "      <td>60</td>\n",
       "      <td>Healthcare</td>\n",
       "      <td>156.98</td>\n",
       "      <td>1</td>\n",
       "      <td>58</td>\n",
       "      <td>5.3</td>\n",
       "      <td>6.7</td>\n",
       "    </tr>\n",
       "    <tr>\n",
       "      <th>2</th>\n",
       "      <td>2020</td>\n",
       "      <td>PwC</td>\n",
       "      <td>2438</td>\n",
       "      <td>212</td>\n",
       "      <td>124</td>\n",
       "      <td>97</td>\n",
       "      <td>Healthcare</td>\n",
       "      <td>131.83</td>\n",
       "      <td>0</td>\n",
       "      <td>76</td>\n",
       "      <td>6.1</td>\n",
       "      <td>6.2</td>\n",
       "    </tr>\n",
       "    <tr>\n",
       "      <th>3</th>\n",
       "      <td>2021</td>\n",
       "      <td>PwC</td>\n",
       "      <td>2646</td>\n",
       "      <td>397</td>\n",
       "      <td>55</td>\n",
       "      <td>97</td>\n",
       "      <td>Healthcare</td>\n",
       "      <td>229.11</td>\n",
       "      <td>0</td>\n",
       "      <td>60</td>\n",
       "      <td>5.1</td>\n",
       "      <td>8.6</td>\n",
       "    </tr>\n",
       "    <tr>\n",
       "      <th>4</th>\n",
       "      <td>2020</td>\n",
       "      <td>PwC</td>\n",
       "      <td>2680</td>\n",
       "      <td>216</td>\n",
       "      <td>99</td>\n",
       "      <td>46</td>\n",
       "      <td>Healthcare</td>\n",
       "      <td>48.00</td>\n",
       "      <td>0</td>\n",
       "      <td>51</td>\n",
       "      <td>9.1</td>\n",
       "      <td>6.7</td>\n",
       "    </tr>\n",
       "  </tbody>\n",
       "</table>\n",
       "</div>"
      ],
      "text/plain": [
       "   Year Firm_Name  Total_Audit_Engagements  High_Risk_Cases  \\\n",
       "0  2020       PwC                     2829               51   \n",
       "1  2022  Deloitte                     3589              185   \n",
       "2  2020       PwC                     2438              212   \n",
       "3  2021       PwC                     2646              397   \n",
       "4  2020       PwC                     2680              216   \n",
       "\n",
       "   Compliance_Violations  Fraud_Cases_Detected Industry_Affected  \\\n",
       "0                    123                    39        Healthcare   \n",
       "1                     30                    60        Healthcare   \n",
       "2                    124                    97        Healthcare   \n",
       "3                     55                    97        Healthcare   \n",
       "4                     99                    46        Healthcare   \n",
       "\n",
       "   Total_Revenue_Impact AI_Used_for_Auditing  Employee_Workload  \\\n",
       "0                114.24                    0                 57   \n",
       "1                156.98                    1                 58   \n",
       "2                131.83                    0                 76   \n",
       "3                229.11                    0                 60   \n",
       "4                 48.00                    0                 51   \n",
       "\n",
       "   Audit_Effectiveness_Score  Client_Satisfaction_Score  \n",
       "0                        5.8                        8.4  \n",
       "1                        5.3                        6.7  \n",
       "2                        6.1                        6.2  \n",
       "3                        5.1                        8.6  \n",
       "4                        9.1                        6.7  "
      ]
     },
     "execution_count": 67,
     "metadata": {},
     "output_type": "execute_result"
    }
   ],
   "source": [
    "df.head()"
   ]
  },
  {
   "cell_type": "code",
   "execution_count": null,
   "id": "603a64b8",
   "metadata": {},
   "outputs": [],
   "source": []
  },
  {
   "cell_type": "code",
   "execution_count": 70,
   "id": "c35332aa",
   "metadata": {},
   "outputs": [],
   "source": []
  },
  {
   "cell_type": "code",
   "execution_count": 73,
   "id": "63442e9d",
   "metadata": {},
   "outputs": [],
   "source": []
  },
  {
   "cell_type": "code",
   "execution_count": 72,
   "id": "035e7263",
   "metadata": {},
   "outputs": [
    {
     "data": {
      "text/html": [
       "<div>\n",
       "<style scoped>\n",
       "    .dataframe tbody tr th:only-of-type {\n",
       "        vertical-align: middle;\n",
       "    }\n",
       "\n",
       "    .dataframe tbody tr th {\n",
       "        vertical-align: top;\n",
       "    }\n",
       "\n",
       "    .dataframe thead th {\n",
       "        text-align: right;\n",
       "    }\n",
       "</style>\n",
       "<table border=\"1\" class=\"dataframe\">\n",
       "  <thead>\n",
       "    <tr style=\"text-align: right;\">\n",
       "      <th></th>\n",
       "      <th>Year</th>\n",
       "      <th>Firm_Name</th>\n",
       "      <th>Total_Audit_Engagements</th>\n",
       "      <th>High_Risk_Cases</th>\n",
       "      <th>Compliance_Violations</th>\n",
       "      <th>Fraud_Cases_Detected</th>\n",
       "      <th>Industry_Affected</th>\n",
       "      <th>Total_Revenue_Impact</th>\n",
       "      <th>AI_Used_for_Auditing</th>\n",
       "      <th>Employee_Workload</th>\n",
       "      <th>Audit_Effectiveness_Score</th>\n",
       "      <th>Client_Satisfaction_Score</th>\n",
       "    </tr>\n",
       "  </thead>\n",
       "  <tbody>\n",
       "    <tr>\n",
       "      <th>0</th>\n",
       "      <td>2020</td>\n",
       "      <td>1.0</td>\n",
       "      <td>2829</td>\n",
       "      <td>51</td>\n",
       "      <td>123</td>\n",
       "      <td>39</td>\n",
       "      <td>1</td>\n",
       "      <td>114.24</td>\n",
       "      <td>0</td>\n",
       "      <td>57</td>\n",
       "      <td>5.8</td>\n",
       "      <td>8.4</td>\n",
       "    </tr>\n",
       "    <tr>\n",
       "      <th>1</th>\n",
       "      <td>2022</td>\n",
       "      <td>2.0</td>\n",
       "      <td>3589</td>\n",
       "      <td>185</td>\n",
       "      <td>30</td>\n",
       "      <td>60</td>\n",
       "      <td>1</td>\n",
       "      <td>156.98</td>\n",
       "      <td>1</td>\n",
       "      <td>58</td>\n",
       "      <td>5.3</td>\n",
       "      <td>6.7</td>\n",
       "    </tr>\n",
       "    <tr>\n",
       "      <th>2</th>\n",
       "      <td>2020</td>\n",
       "      <td>1.0</td>\n",
       "      <td>2438</td>\n",
       "      <td>212</td>\n",
       "      <td>124</td>\n",
       "      <td>97</td>\n",
       "      <td>1</td>\n",
       "      <td>131.83</td>\n",
       "      <td>0</td>\n",
       "      <td>76</td>\n",
       "      <td>6.1</td>\n",
       "      <td>6.2</td>\n",
       "    </tr>\n",
       "    <tr>\n",
       "      <th>3</th>\n",
       "      <td>2021</td>\n",
       "      <td>1.0</td>\n",
       "      <td>2646</td>\n",
       "      <td>397</td>\n",
       "      <td>55</td>\n",
       "      <td>97</td>\n",
       "      <td>1</td>\n",
       "      <td>229.11</td>\n",
       "      <td>0</td>\n",
       "      <td>60</td>\n",
       "      <td>5.1</td>\n",
       "      <td>8.6</td>\n",
       "    </tr>\n",
       "    <tr>\n",
       "      <th>4</th>\n",
       "      <td>2020</td>\n",
       "      <td>1.0</td>\n",
       "      <td>2680</td>\n",
       "      <td>216</td>\n",
       "      <td>99</td>\n",
       "      <td>46</td>\n",
       "      <td>1</td>\n",
       "      <td>48.00</td>\n",
       "      <td>0</td>\n",
       "      <td>51</td>\n",
       "      <td>9.1</td>\n",
       "      <td>6.7</td>\n",
       "    </tr>\n",
       "  </tbody>\n",
       "</table>\n",
       "</div>"
      ],
      "text/plain": [
       "   Year  Firm_Name  Total_Audit_Engagements  High_Risk_Cases  \\\n",
       "0  2020        1.0                     2829               51   \n",
       "1  2022        2.0                     3589              185   \n",
       "2  2020        1.0                     2438              212   \n",
       "3  2021        1.0                     2646              397   \n",
       "4  2020        1.0                     2680              216   \n",
       "\n",
       "   Compliance_Violations  Fraud_Cases_Detected  Industry_Affected  \\\n",
       "0                    123                    39                  1   \n",
       "1                     30                    60                  1   \n",
       "2                    124                    97                  1   \n",
       "3                     55                    97                  1   \n",
       "4                     99                    46                  1   \n",
       "\n",
       "   Total_Revenue_Impact AI_Used_for_Auditing  Employee_Workload  \\\n",
       "0                114.24                    0                 57   \n",
       "1                156.98                    1                 58   \n",
       "2                131.83                    0                 76   \n",
       "3                229.11                    0                 60   \n",
       "4                 48.00                    0                 51   \n",
       "\n",
       "   Audit_Effectiveness_Score  Client_Satisfaction_Score  \n",
       "0                        5.8                        8.4  \n",
       "1                        5.3                        6.7  \n",
       "2                        6.1                        6.2  \n",
       "3                        5.1                        8.6  \n",
       "4                        9.1                        6.7  "
      ]
     },
     "execution_count": 72,
     "metadata": {},
     "output_type": "execute_result"
    }
   ],
   "source": []
  },
  {
   "cell_type": "code",
   "execution_count": 75,
   "id": "b0c8a9b2",
   "metadata": {},
   "outputs": [],
   "source": [
    "X = df[['Employee_Workload', 'High_Risk_Cases', 'AI_Used_for_Auditing']]\n",
    "y = df['Total_Revenue_Impact']"
   ]
  },
  {
   "cell_type": "code",
   "execution_count": 76,
   "id": "e7f8e8c4",
   "metadata": {},
   "outputs": [
    {
     "data": {
      "text/html": [
       "<style>#sk-container-id-1 {color: black;}#sk-container-id-1 pre{padding: 0;}#sk-container-id-1 div.sk-toggleable {background-color: white;}#sk-container-id-1 label.sk-toggleable__label {cursor: pointer;display: block;width: 100%;margin-bottom: 0;padding: 0.3em;box-sizing: border-box;text-align: center;}#sk-container-id-1 label.sk-toggleable__label-arrow:before {content: \"▸\";float: left;margin-right: 0.25em;color: #696969;}#sk-container-id-1 label.sk-toggleable__label-arrow:hover:before {color: black;}#sk-container-id-1 div.sk-estimator:hover label.sk-toggleable__label-arrow:before {color: black;}#sk-container-id-1 div.sk-toggleable__content {max-height: 0;max-width: 0;overflow: hidden;text-align: left;background-color: #f0f8ff;}#sk-container-id-1 div.sk-toggleable__content pre {margin: 0.2em;color: black;border-radius: 0.25em;background-color: #f0f8ff;}#sk-container-id-1 input.sk-toggleable__control:checked~div.sk-toggleable__content {max-height: 200px;max-width: 100%;overflow: auto;}#sk-container-id-1 input.sk-toggleable__control:checked~label.sk-toggleable__label-arrow:before {content: \"▾\";}#sk-container-id-1 div.sk-estimator input.sk-toggleable__control:checked~label.sk-toggleable__label {background-color: #d4ebff;}#sk-container-id-1 div.sk-label input.sk-toggleable__control:checked~label.sk-toggleable__label {background-color: #d4ebff;}#sk-container-id-1 input.sk-hidden--visually {border: 0;clip: rect(1px 1px 1px 1px);clip: rect(1px, 1px, 1px, 1px);height: 1px;margin: -1px;overflow: hidden;padding: 0;position: absolute;width: 1px;}#sk-container-id-1 div.sk-estimator {font-family: monospace;background-color: #f0f8ff;border: 1px dotted black;border-radius: 0.25em;box-sizing: border-box;margin-bottom: 0.5em;}#sk-container-id-1 div.sk-estimator:hover {background-color: #d4ebff;}#sk-container-id-1 div.sk-parallel-item::after {content: \"\";width: 100%;border-bottom: 1px solid gray;flex-grow: 1;}#sk-container-id-1 div.sk-label:hover label.sk-toggleable__label {background-color: #d4ebff;}#sk-container-id-1 div.sk-serial::before {content: \"\";position: absolute;border-left: 1px solid gray;box-sizing: border-box;top: 0;bottom: 0;left: 50%;z-index: 0;}#sk-container-id-1 div.sk-serial {display: flex;flex-direction: column;align-items: center;background-color: white;padding-right: 0.2em;padding-left: 0.2em;position: relative;}#sk-container-id-1 div.sk-item {position: relative;z-index: 1;}#sk-container-id-1 div.sk-parallel {display: flex;align-items: stretch;justify-content: center;background-color: white;position: relative;}#sk-container-id-1 div.sk-item::before, #sk-container-id-1 div.sk-parallel-item::before {content: \"\";position: absolute;border-left: 1px solid gray;box-sizing: border-box;top: 0;bottom: 0;left: 50%;z-index: -1;}#sk-container-id-1 div.sk-parallel-item {display: flex;flex-direction: column;z-index: 1;position: relative;background-color: white;}#sk-container-id-1 div.sk-parallel-item:first-child::after {align-self: flex-end;width: 50%;}#sk-container-id-1 div.sk-parallel-item:last-child::after {align-self: flex-start;width: 50%;}#sk-container-id-1 div.sk-parallel-item:only-child::after {width: 0;}#sk-container-id-1 div.sk-dashed-wrapped {border: 1px dashed gray;margin: 0 0.4em 0.5em 0.4em;box-sizing: border-box;padding-bottom: 0.4em;background-color: white;}#sk-container-id-1 div.sk-label label {font-family: monospace;font-weight: bold;display: inline-block;line-height: 1.2em;}#sk-container-id-1 div.sk-label-container {text-align: center;}#sk-container-id-1 div.sk-container {/* jupyter's `normalize.less` sets `[hidden] { display: none; }` but bootstrap.min.css set `[hidden] { display: none !important; }` so we also need the `!important` here to be able to override the default hidden behavior on the sphinx rendered scikit-learn.org. See: https://github.com/scikit-learn/scikit-learn/issues/21755 */display: inline-block !important;position: relative;}#sk-container-id-1 div.sk-text-repr-fallback {display: none;}</style><div id=\"sk-container-id-1\" class=\"sk-top-container\"><div class=\"sk-text-repr-fallback\"><pre>LinearRegression()</pre><b>In a Jupyter environment, please rerun this cell to show the HTML representation or trust the notebook. <br />On GitHub, the HTML representation is unable to render, please try loading this page with nbviewer.org.</b></div><div class=\"sk-container\" hidden><div class=\"sk-item\"><div class=\"sk-estimator sk-toggleable\"><input class=\"sk-toggleable__control sk-hidden--visually\" id=\"sk-estimator-id-1\" type=\"checkbox\" checked><label for=\"sk-estimator-id-1\" class=\"sk-toggleable__label sk-toggleable__label-arrow\">LinearRegression</label><div class=\"sk-toggleable__content\"><pre>LinearRegression()</pre></div></div></div></div></div>"
      ],
      "text/plain": [
       "LinearRegression()"
      ]
     },
     "execution_count": 76,
     "metadata": {},
     "output_type": "execute_result"
    }
   ],
   "source": [
    "from sklearn.linear_model import LinearRegression\n",
    "\n",
    "model = LinearRegression()\n",
    "model.fit(X, y)"
   ]
  },
  {
   "cell_type": "code",
   "execution_count": 77,
   "id": "67a1bfc9",
   "metadata": {},
   "outputs": [
    {
     "name": "stdout",
     "output_type": "stream",
     "text": [
      "                Feature  Coefficient\n",
      "0     Employee_Workload    -0.205511\n",
      "1       High_Risk_Cases    -0.010157\n",
      "2  AI_Used_for_Auditing   -45.847794\n",
      "Intercept: 308.37352157139003\n"
     ]
    }
   ],
   "source": [
    "coefficients = pd.DataFrame({\n",
    "    'Feature': X.columns,\n",
    "    'Coefficient': model.coef_\n",
    "})\n",
    "print(coefficients)\n",
    "print(f\"Intercept: {model.intercept_}\")"
   ]
  },
  {
   "cell_type": "code",
   "execution_count": 78,
   "id": "7873427a",
   "metadata": {},
   "outputs": [
    {
     "name": "stdout",
     "output_type": "stream",
     "text": [
      "R² Score: 0.027\n"
     ]
    }
   ],
   "source": [
    "from sklearn.metrics import r2_score\n",
    "\n",
    "y_pred = model.predict(X)\n",
    "r2 = r2_score(y, y_pred)\n",
    "print(f\"R² Score: {r2:.3f}\")"
   ]
  },
  {
   "cell_type": "code",
   "execution_count": 80,
   "id": "214accbd",
   "metadata": {},
   "outputs": [
    {
     "name": "stdout",
     "output_type": "stream",
     "text": [
      "R² (Random Forest): 0.8193426390896867\n"
     ]
    }
   ],
   "source": [
    "from sklearn.ensemble import RandomForestRegressor\n",
    "\n",
    "model_rf = RandomForestRegressor(random_state=42)\n",
    "model_rf.fit(X, y)\n",
    "\n",
    "y_pred_rf = model_rf.predict(X)\n",
    "print(\"R² (Random Forest):\", r2_score(y, y_pred_rf))"
   ]
  },
  {
   "cell_type": "code",
   "execution_count": null,
   "id": "2b0c1877",
   "metadata": {},
   "outputs": [],
   "source": []
  },
  {
   "cell_type": "code",
   "execution_count": null,
   "id": "3df93ad2",
   "metadata": {},
   "outputs": [],
   "source": []
  }
 ],
 "metadata": {
  "kernelspec": {
   "display_name": "Python 3 (ipykernel)",
   "language": "python",
   "name": "python3"
  },
  "language_info": {
   "codemirror_mode": {
    "name": "ipython",
    "version": 3
   },
   "file_extension": ".py",
   "mimetype": "text/x-python",
   "name": "python",
   "nbconvert_exporter": "python",
   "pygments_lexer": "ipython3",
   "version": "3.11.5"
  }
 },
 "nbformat": 4,
 "nbformat_minor": 5
}
