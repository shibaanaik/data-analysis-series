{
 "cells": [
  {
   "cell_type": "code",
   "execution_count": 1,
   "id": "bc6317ef",
   "metadata": {},
   "outputs": [],
   "source": [
    "import pandas as pd\n",
    "import numpy as np\n",
    "import matplotlib.pyplot as plt\n",
    "import seaborn as sns\n"
   ]
  },
  {
   "cell_type": "code",
   "execution_count": 2,
   "id": "11ba4436",
   "metadata": {},
   "outputs": [],
   "source": [
    "df=pd.read_csv(\"AQI.csv\")"
   ]
  },
  {
   "cell_type": "code",
   "execution_count": 3,
   "id": "d7d57e0e",
   "metadata": {},
   "outputs": [
    {
     "data": {
      "text/html": [
       "<div>\n",
       "<style scoped>\n",
       "    .dataframe tbody tr th:only-of-type {\n",
       "        vertical-align: middle;\n",
       "    }\n",
       "\n",
       "    .dataframe tbody tr th {\n",
       "        vertical-align: top;\n",
       "    }\n",
       "\n",
       "    .dataframe thead th {\n",
       "        text-align: right;\n",
       "    }\n",
       "</style>\n",
       "<table border=\"1\" class=\"dataframe\">\n",
       "  <thead>\n",
       "    <tr style=\"text-align: right;\">\n",
       "      <th></th>\n",
       "      <th>country</th>\n",
       "      <th>state</th>\n",
       "      <th>city</th>\n",
       "      <th>station</th>\n",
       "      <th>last_update</th>\n",
       "      <th>latitude</th>\n",
       "      <th>longitude</th>\n",
       "      <th>pollutant_id</th>\n",
       "      <th>pollutant_min</th>\n",
       "      <th>pollutant_max</th>\n",
       "      <th>pollutant_avg</th>\n",
       "    </tr>\n",
       "  </thead>\n",
       "  <tbody>\n",
       "    <tr>\n",
       "      <th>0</th>\n",
       "      <td>India</td>\n",
       "      <td>Andhra_Pradesh</td>\n",
       "      <td>Vijayawada</td>\n",
       "      <td>Rajiv Nagar, Vijayawada - APPCB</td>\n",
       "      <td>19-05-2025 10:00:00</td>\n",
       "      <td>16.554731</td>\n",
       "      <td>80.649110</td>\n",
       "      <td>SO2</td>\n",
       "      <td>20.0</td>\n",
       "      <td>23.0</td>\n",
       "      <td>21.0</td>\n",
       "    </tr>\n",
       "    <tr>\n",
       "      <th>1</th>\n",
       "      <td>India</td>\n",
       "      <td>Andhra_Pradesh</td>\n",
       "      <td>Vijayawada</td>\n",
       "      <td>Rajiv Nagar, Vijayawada - APPCB</td>\n",
       "      <td>19-05-2025 10:00:00</td>\n",
       "      <td>16.554731</td>\n",
       "      <td>80.649110</td>\n",
       "      <td>OZONE</td>\n",
       "      <td>17.0</td>\n",
       "      <td>35.0</td>\n",
       "      <td>22.0</td>\n",
       "    </tr>\n",
       "    <tr>\n",
       "      <th>2</th>\n",
       "      <td>India</td>\n",
       "      <td>Andhra_Pradesh</td>\n",
       "      <td>Visakhapatnam</td>\n",
       "      <td>GVM Corporation, Visakhapatnam - APPCB</td>\n",
       "      <td>19-05-2025 10:00:00</td>\n",
       "      <td>17.720000</td>\n",
       "      <td>83.300000</td>\n",
       "      <td>PM10</td>\n",
       "      <td>23.0</td>\n",
       "      <td>66.0</td>\n",
       "      <td>36.0</td>\n",
       "    </tr>\n",
       "    <tr>\n",
       "      <th>3</th>\n",
       "      <td>India</td>\n",
       "      <td>Arunachal_Pradesh</td>\n",
       "      <td>Naharlagun</td>\n",
       "      <td>Naharlagun, Naharlagun - APSPCB</td>\n",
       "      <td>19-05-2025 10:00:00</td>\n",
       "      <td>27.103358</td>\n",
       "      <td>93.679645</td>\n",
       "      <td>NO2</td>\n",
       "      <td>4.0</td>\n",
       "      <td>5.0</td>\n",
       "      <td>5.0</td>\n",
       "    </tr>\n",
       "    <tr>\n",
       "      <th>4</th>\n",
       "      <td>India</td>\n",
       "      <td>Arunachal_Pradesh</td>\n",
       "      <td>Naharlagun</td>\n",
       "      <td>Naharlagun, Naharlagun - APSPCB</td>\n",
       "      <td>19-05-2025 10:00:00</td>\n",
       "      <td>27.103358</td>\n",
       "      <td>93.679645</td>\n",
       "      <td>CO</td>\n",
       "      <td>10.0</td>\n",
       "      <td>19.0</td>\n",
       "      <td>12.0</td>\n",
       "    </tr>\n",
       "  </tbody>\n",
       "</table>\n",
       "</div>"
      ],
      "text/plain": [
       "  country              state           city  \\\n",
       "0   India     Andhra_Pradesh     Vijayawada   \n",
       "1   India     Andhra_Pradesh     Vijayawada   \n",
       "2   India     Andhra_Pradesh  Visakhapatnam   \n",
       "3   India  Arunachal_Pradesh     Naharlagun   \n",
       "4   India  Arunachal_Pradesh     Naharlagun   \n",
       "\n",
       "                                  station          last_update   latitude  \\\n",
       "0         Rajiv Nagar, Vijayawada - APPCB  19-05-2025 10:00:00  16.554731   \n",
       "1         Rajiv Nagar, Vijayawada - APPCB  19-05-2025 10:00:00  16.554731   \n",
       "2  GVM Corporation, Visakhapatnam - APPCB  19-05-2025 10:00:00  17.720000   \n",
       "3         Naharlagun, Naharlagun - APSPCB  19-05-2025 10:00:00  27.103358   \n",
       "4         Naharlagun, Naharlagun - APSPCB  19-05-2025 10:00:00  27.103358   \n",
       "\n",
       "   longitude pollutant_id  pollutant_min  pollutant_max  pollutant_avg  \n",
       "0  80.649110          SO2           20.0           23.0           21.0  \n",
       "1  80.649110        OZONE           17.0           35.0           22.0  \n",
       "2  83.300000         PM10           23.0           66.0           36.0  \n",
       "3  93.679645          NO2            4.0            5.0            5.0  \n",
       "4  93.679645           CO           10.0           19.0           12.0  "
      ]
     },
     "execution_count": 3,
     "metadata": {},
     "output_type": "execute_result"
    }
   ],
   "source": [
    "df.head()"
   ]
  },
  {
   "cell_type": "code",
   "execution_count": 4,
   "id": "d02485a9",
   "metadata": {},
   "outputs": [
    {
     "data": {
      "text/html": [
       "<div>\n",
       "<style scoped>\n",
       "    .dataframe tbody tr th:only-of-type {\n",
       "        vertical-align: middle;\n",
       "    }\n",
       "\n",
       "    .dataframe tbody tr th {\n",
       "        vertical-align: top;\n",
       "    }\n",
       "\n",
       "    .dataframe thead th {\n",
       "        text-align: right;\n",
       "    }\n",
       "</style>\n",
       "<table border=\"1\" class=\"dataframe\">\n",
       "  <thead>\n",
       "    <tr style=\"text-align: right;\">\n",
       "      <th></th>\n",
       "      <th>country</th>\n",
       "      <th>state</th>\n",
       "      <th>city</th>\n",
       "      <th>station</th>\n",
       "      <th>last_update</th>\n",
       "      <th>latitude</th>\n",
       "      <th>longitude</th>\n",
       "      <th>pollutant_id</th>\n",
       "      <th>pollutant_min</th>\n",
       "      <th>pollutant_max</th>\n",
       "      <th>pollutant_avg</th>\n",
       "    </tr>\n",
       "  </thead>\n",
       "  <tbody>\n",
       "    <tr>\n",
       "      <th>3072</th>\n",
       "      <td>India</td>\n",
       "      <td>West_Bengal</td>\n",
       "      <td>Kolkata</td>\n",
       "      <td>Rabindra Sarobar, Kolkata - WBPCB</td>\n",
       "      <td>19-05-2025 10:00:00</td>\n",
       "      <td>22.511060</td>\n",
       "      <td>88.351420</td>\n",
       "      <td>PM2.5</td>\n",
       "      <td>13.0</td>\n",
       "      <td>23.0</td>\n",
       "      <td>16.0</td>\n",
       "    </tr>\n",
       "    <tr>\n",
       "      <th>3073</th>\n",
       "      <td>India</td>\n",
       "      <td>West_Bengal</td>\n",
       "      <td>Kolkata</td>\n",
       "      <td>Rabindra Sarobar, Kolkata - WBPCB</td>\n",
       "      <td>19-05-2025 10:00:00</td>\n",
       "      <td>22.511060</td>\n",
       "      <td>88.351420</td>\n",
       "      <td>NH3</td>\n",
       "      <td>4.0</td>\n",
       "      <td>6.0</td>\n",
       "      <td>4.0</td>\n",
       "    </tr>\n",
       "    <tr>\n",
       "      <th>3074</th>\n",
       "      <td>India</td>\n",
       "      <td>West_Bengal</td>\n",
       "      <td>Kolkata</td>\n",
       "      <td>Rabindra Sarobar, Kolkata - WBPCB</td>\n",
       "      <td>19-05-2025 10:00:00</td>\n",
       "      <td>22.511060</td>\n",
       "      <td>88.351420</td>\n",
       "      <td>OZONE</td>\n",
       "      <td>13.0</td>\n",
       "      <td>50.0</td>\n",
       "      <td>20.0</td>\n",
       "    </tr>\n",
       "    <tr>\n",
       "      <th>3075</th>\n",
       "      <td>India</td>\n",
       "      <td>West_Bengal</td>\n",
       "      <td>Kolkata</td>\n",
       "      <td>Victoria, Kolkata - WBPCB</td>\n",
       "      <td>19-05-2025 10:00:00</td>\n",
       "      <td>22.544808</td>\n",
       "      <td>88.340369</td>\n",
       "      <td>NH3</td>\n",
       "      <td>5.0</td>\n",
       "      <td>5.0</td>\n",
       "      <td>5.0</td>\n",
       "    </tr>\n",
       "    <tr>\n",
       "      <th>3076</th>\n",
       "      <td>India</td>\n",
       "      <td>West_Bengal</td>\n",
       "      <td>Siliguri</td>\n",
       "      <td>Ward-32 Bapupara, Siliguri - WBPCB</td>\n",
       "      <td>19-05-2025 10:00:00</td>\n",
       "      <td>26.687923</td>\n",
       "      <td>88.415250</td>\n",
       "      <td>PM2.5</td>\n",
       "      <td>27.0</td>\n",
       "      <td>46.0</td>\n",
       "      <td>36.0</td>\n",
       "    </tr>\n",
       "  </tbody>\n",
       "</table>\n",
       "</div>"
      ],
      "text/plain": [
       "     country        state      city                             station  \\\n",
       "3072   India  West_Bengal   Kolkata   Rabindra Sarobar, Kolkata - WBPCB   \n",
       "3073   India  West_Bengal   Kolkata   Rabindra Sarobar, Kolkata - WBPCB   \n",
       "3074   India  West_Bengal   Kolkata   Rabindra Sarobar, Kolkata - WBPCB   \n",
       "3075   India  West_Bengal   Kolkata           Victoria, Kolkata - WBPCB   \n",
       "3076   India  West_Bengal  Siliguri  Ward-32 Bapupara, Siliguri - WBPCB   \n",
       "\n",
       "              last_update   latitude  longitude pollutant_id  pollutant_min  \\\n",
       "3072  19-05-2025 10:00:00  22.511060  88.351420        PM2.5           13.0   \n",
       "3073  19-05-2025 10:00:00  22.511060  88.351420          NH3            4.0   \n",
       "3074  19-05-2025 10:00:00  22.511060  88.351420        OZONE           13.0   \n",
       "3075  19-05-2025 10:00:00  22.544808  88.340369          NH3            5.0   \n",
       "3076  19-05-2025 10:00:00  26.687923  88.415250        PM2.5           27.0   \n",
       "\n",
       "      pollutant_max  pollutant_avg  \n",
       "3072           23.0           16.0  \n",
       "3073            6.0            4.0  \n",
       "3074           50.0           20.0  \n",
       "3075            5.0            5.0  \n",
       "3076           46.0           36.0  "
      ]
     },
     "execution_count": 4,
     "metadata": {},
     "output_type": "execute_result"
    }
   ],
   "source": [
    "df.tail()"
   ]
  },
  {
   "cell_type": "code",
   "execution_count": 5,
   "id": "1e83e7c3",
   "metadata": {},
   "outputs": [
    {
     "data": {
      "text/plain": [
       "(3077, 11)"
      ]
     },
     "execution_count": 5,
     "metadata": {},
     "output_type": "execute_result"
    }
   ],
   "source": [
    "df.shape"
   ]
  },
  {
   "cell_type": "code",
   "execution_count": 6,
   "id": "64d134c0",
   "metadata": {},
   "outputs": [
    {
     "name": "stdout",
     "output_type": "stream",
     "text": [
      "<class 'pandas.core.frame.DataFrame'>\n",
      "RangeIndex: 3077 entries, 0 to 3076\n",
      "Data columns (total 11 columns):\n",
      " #   Column         Non-Null Count  Dtype  \n",
      "---  ------         --------------  -----  \n",
      " 0   country        3077 non-null   object \n",
      " 1   state          3077 non-null   object \n",
      " 2   city           3077 non-null   object \n",
      " 3   station        3077 non-null   object \n",
      " 4   last_update    3077 non-null   object \n",
      " 5   latitude       3077 non-null   float64\n",
      " 6   longitude      3077 non-null   float64\n",
      " 7   pollutant_id   3077 non-null   object \n",
      " 8   pollutant_min  2778 non-null   float64\n",
      " 9   pollutant_max  2778 non-null   float64\n",
      " 10  pollutant_avg  2778 non-null   float64\n",
      "dtypes: float64(5), object(6)\n",
      "memory usage: 264.6+ KB\n"
     ]
    }
   ],
   "source": [
    "df.info()"
   ]
  },
  {
   "cell_type": "code",
   "execution_count": 7,
   "id": "80aca09c",
   "metadata": {},
   "outputs": [
    {
     "data": {
      "text/html": [
       "<div>\n",
       "<style scoped>\n",
       "    .dataframe tbody tr th:only-of-type {\n",
       "        vertical-align: middle;\n",
       "    }\n",
       "\n",
       "    .dataframe tbody tr th {\n",
       "        vertical-align: top;\n",
       "    }\n",
       "\n",
       "    .dataframe thead th {\n",
       "        text-align: right;\n",
       "    }\n",
       "</style>\n",
       "<table border=\"1\" class=\"dataframe\">\n",
       "  <thead>\n",
       "    <tr style=\"text-align: right;\">\n",
       "      <th></th>\n",
       "      <th>latitude</th>\n",
       "      <th>longitude</th>\n",
       "      <th>pollutant_min</th>\n",
       "      <th>pollutant_max</th>\n",
       "      <th>pollutant_avg</th>\n",
       "    </tr>\n",
       "  </thead>\n",
       "  <tbody>\n",
       "    <tr>\n",
       "      <th>count</th>\n",
       "      <td>3077.000000</td>\n",
       "      <td>3077.000000</td>\n",
       "      <td>2778.000000</td>\n",
       "      <td>2778.000000</td>\n",
       "      <td>2778.000000</td>\n",
       "    </tr>\n",
       "    <tr>\n",
       "      <th>mean</th>\n",
       "      <td>22.250067</td>\n",
       "      <td>78.682006</td>\n",
       "      <td>21.670986</td>\n",
       "      <td>59.251620</td>\n",
       "      <td>33.933765</td>\n",
       "    </tr>\n",
       "    <tr>\n",
       "      <th>std</th>\n",
       "      <td>5.519664</td>\n",
       "      <td>4.854371</td>\n",
       "      <td>25.535470</td>\n",
       "      <td>65.896529</td>\n",
       "      <td>36.125555</td>\n",
       "    </tr>\n",
       "    <tr>\n",
       "      <th>min</th>\n",
       "      <td>8.514909</td>\n",
       "      <td>70.909168</td>\n",
       "      <td>1.000000</td>\n",
       "      <td>1.000000</td>\n",
       "      <td>1.000000</td>\n",
       "    </tr>\n",
       "    <tr>\n",
       "      <th>25%</th>\n",
       "      <td>19.036458</td>\n",
       "      <td>75.521300</td>\n",
       "      <td>5.000000</td>\n",
       "      <td>15.000000</td>\n",
       "      <td>9.000000</td>\n",
       "    </tr>\n",
       "    <tr>\n",
       "      <th>50%</th>\n",
       "      <td>23.023389</td>\n",
       "      <td>77.508730</td>\n",
       "      <td>13.000000</td>\n",
       "      <td>40.000000</td>\n",
       "      <td>23.000000</td>\n",
       "    </tr>\n",
       "    <tr>\n",
       "      <th>75%</th>\n",
       "      <td>26.833997</td>\n",
       "      <td>80.723178</td>\n",
       "      <td>29.000000</td>\n",
       "      <td>79.000000</td>\n",
       "      <td>45.000000</td>\n",
       "    </tr>\n",
       "    <tr>\n",
       "      <th>max</th>\n",
       "      <td>34.066206</td>\n",
       "      <td>94.636574</td>\n",
       "      <td>303.000000</td>\n",
       "      <td>500.000000</td>\n",
       "      <td>336.000000</td>\n",
       "    </tr>\n",
       "  </tbody>\n",
       "</table>\n",
       "</div>"
      ],
      "text/plain": [
       "          latitude    longitude  pollutant_min  pollutant_max  pollutant_avg\n",
       "count  3077.000000  3077.000000    2778.000000    2778.000000    2778.000000\n",
       "mean     22.250067    78.682006      21.670986      59.251620      33.933765\n",
       "std       5.519664     4.854371      25.535470      65.896529      36.125555\n",
       "min       8.514909    70.909168       1.000000       1.000000       1.000000\n",
       "25%      19.036458    75.521300       5.000000      15.000000       9.000000\n",
       "50%      23.023389    77.508730      13.000000      40.000000      23.000000\n",
       "75%      26.833997    80.723178      29.000000      79.000000      45.000000\n",
       "max      34.066206    94.636574     303.000000     500.000000     336.000000"
      ]
     },
     "execution_count": 7,
     "metadata": {},
     "output_type": "execute_result"
    }
   ],
   "source": [
    "df.describe()"
   ]
  },
  {
   "cell_type": "code",
   "execution_count": 8,
   "id": "1f2a47f5",
   "metadata": {},
   "outputs": [
    {
     "data": {
      "text/plain": [
       "country            0\n",
       "state              0\n",
       "city               0\n",
       "station            0\n",
       "last_update        0\n",
       "latitude           0\n",
       "longitude          0\n",
       "pollutant_id       0\n",
       "pollutant_min    299\n",
       "pollutant_max    299\n",
       "pollutant_avg    299\n",
       "dtype: int64"
      ]
     },
     "execution_count": 8,
     "metadata": {},
     "output_type": "execute_result"
    }
   ],
   "source": [
    "df.isnull().sum()"
   ]
  },
  {
   "cell_type": "code",
   "execution_count": 9,
   "id": "4a72db29",
   "metadata": {},
   "outputs": [],
   "source": [
    "#handlling missing values \n",
    "df['pollutant_avg'] = df.groupby('pollutant_id')['pollutant_avg'].transform(lambda x: x.fillna(x.mean()))\n",
    "df['pollutant_min'] = df.groupby('pollutant_id')['pollutant_min'].transform(lambda x: x.fillna(x.mean()))\n",
    "df['pollutant_max'] = df.groupby('pollutant_id')['pollutant_max'].transform(lambda x: x.fillna(x.mean()))\n"
   ]
  },
  {
   "cell_type": "code",
   "execution_count": 10,
   "id": "431e5691",
   "metadata": {},
   "outputs": [
    {
     "data": {
      "text/plain": [
       "country          0\n",
       "state            0\n",
       "city             0\n",
       "station          0\n",
       "last_update      0\n",
       "latitude         0\n",
       "longitude        0\n",
       "pollutant_id     0\n",
       "pollutant_min    0\n",
       "pollutant_max    0\n",
       "pollutant_avg    0\n",
       "dtype: int64"
      ]
     },
     "execution_count": 10,
     "metadata": {},
     "output_type": "execute_result"
    }
   ],
   "source": [
    "df.isnull().sum()"
   ]
  },
  {
   "cell_type": "code",
   "execution_count": 11,
   "id": "1b1c500e",
   "metadata": {},
   "outputs": [
    {
     "data": {
      "text/plain": [
       "Index(['country', 'state', 'city', 'station', 'last_update', 'latitude',\n",
       "       'longitude', 'pollutant_id', 'pollutant_min', 'pollutant_max',\n",
       "       'pollutant_avg'],\n",
       "      dtype='object')"
      ]
     },
     "execution_count": 11,
     "metadata": {},
     "output_type": "execute_result"
    }
   ],
   "source": [
    "df.columns"
   ]
  },
  {
   "cell_type": "code",
   "execution_count": 14,
   "id": "d24f1827",
   "metadata": {},
   "outputs": [
    {
     "data": {
      "text/plain": [
       "pollutant_id\n",
       "PM2.5    456\n",
       "PM10     454\n",
       "NO2      449\n",
       "CO       442\n",
       "SO2      438\n",
       "OZONE    432\n",
       "NH3      406\n",
       "Name: count, dtype: int64"
      ]
     },
     "execution_count": 14,
     "metadata": {},
     "output_type": "execute_result"
    }
   ],
   "source": [
    "#What are the most frequently monitored pollutants (pollutant_id)?\n",
    "df['pollutant_id'].value_counts().sort_values(ascending=False)"
   ]
  },
  {
   "cell_type": "code",
   "execution_count": 17,
   "id": "23ed6e0e",
   "metadata": {},
   "outputs": [
    {
     "data": {
      "text/plain": [
       "237"
      ]
     },
     "execution_count": 17,
     "metadata": {},
     "output_type": "execute_result"
    }
   ],
   "source": [
    "#How many unique cities and states are represented in the dataset?\n",
    "df['city'].nunique()"
   ]
  },
  {
   "cell_type": "code",
   "execution_count": 20,
   "id": "8d24bbd2",
   "metadata": {},
   "outputs": [
    {
     "data": {
      "text/plain": [
       "pollutant_id\n",
       "PM10     77.762755\n",
       "PM2.5    57.167939\n",
       "CO       31.198113\n",
       "OZONE    25.868735\n",
       "NO2      23.821340\n",
       "SO2      14.671795\n",
       "NH3       5.403361\n",
       "Name: pollutant_avg, dtype: float64"
      ]
     },
     "execution_count": 20,
     "metadata": {},
     "output_type": "execute_result"
    }
   ],
   "source": [
    "#Which pollutant has the highest overall average (pollutant_avg) across all cities?\n",
    "df.groupby('pollutant_id')['pollutant_avg'].mean().sort_values(ascending=False)"
   ]
  },
  {
   "cell_type": "code",
   "execution_count": 29,
   "id": "0ba4e26b",
   "metadata": {},
   "outputs": [
    {
     "name": "stderr",
     "output_type": "stream",
     "text": [
      "C:\\Users\\KIIT\\AppData\\Local\\Temp\\ipykernel_3180\\618689983.py:2: FutureWarning: \n",
      "\n",
      "Passing `palette` without assigning `hue` is deprecated and will be removed in v0.14.0. Assign the `x` variable to `hue` and set `legend=False` for the same effect.\n",
      "\n",
      "  sns.barplot(data=df,x='pollutant_id',y='pollutant_avg',palette='pastel')\n"
     ]
    },
    {
     "data": {
      "text/plain": [
       "Text(0.5, 1.0, 'pollutant_id by their avg pollution')"
      ]
     },
     "execution_count": 29,
     "metadata": {},
     "output_type": "execute_result"
    },
    {
     "data": {
      "image/png": "[encoded data removed]",
      "text/plain": [
       "<Figure size 800x400 with 1 Axes>"
      ]
     },
     "metadata": {},
     "output_type": "display_data"
    }
   ],
   "source": [
    "plt.figure(figsize=(8,4))\n",
    "sns.barplot(data=df,x='pollutant_id',y='pollutant_avg',palette='pastel')\n",
    "plt.title('pollutant_id by their avg pollution')\n"
   ]
  },
  {
   "cell_type": "code",
   "execution_count": 38,
   "id": "260afbb4",
   "metadata": {},
   "outputs": [
    {
     "name": "stdout",
     "output_type": "stream",
     "text": [
      "city\n",
      "Baddi               80.714286\n",
      "Gurugram            72.952551\n",
      "Jalandhar           67.857143\n",
      "Delhi               67.499105\n",
      "Mandi Gobindgarh    63.285714\n",
      "Name: pollutant_avg, dtype: float64\n"
     ]
    }
   ],
   "source": [
    "#What are the top 5 cities with the highest average pollution levels (pollutant_avg)?\n",
    "top_5=df.groupby('city')['pollutant_avg'].mean().sort_values(ascending=False).head(5)\n",
    "print(top_5)"
   ]
  },
  {
   "cell_type": "markdown",
   "id": "25564c6d",
   "metadata": {},
   "source": [
    "# Finding Patterns "
   ]
  },
  {
   "cell_type": "code",
   "execution_count": 40,
   "id": "9158cfab",
   "metadata": {},
   "outputs": [
    {
     "data": {
      "text/html": [
       "<div>\n",
       "<style scoped>\n",
       "    .dataframe tbody tr th:only-of-type {\n",
       "        vertical-align: middle;\n",
       "    }\n",
       "\n",
       "    .dataframe tbody tr th {\n",
       "        vertical-align: top;\n",
       "    }\n",
       "\n",
       "    .dataframe thead th {\n",
       "        text-align: right;\n",
       "    }\n",
       "</style>\n",
       "<table border=\"1\" class=\"dataframe\">\n",
       "  <thead>\n",
       "    <tr style=\"text-align: right;\">\n",
       "      <th></th>\n",
       "      <th>country</th>\n",
       "      <th>state</th>\n",
       "      <th>city</th>\n",
       "      <th>station</th>\n",
       "      <th>last_update</th>\n",
       "      <th>latitude</th>\n",
       "      <th>longitude</th>\n",
       "      <th>pollutant_id</th>\n",
       "      <th>pollutant_min</th>\n",
       "      <th>pollutant_max</th>\n",
       "      <th>pollutant_avg</th>\n",
       "    </tr>\n",
       "  </thead>\n",
       "  <tbody>\n",
       "    <tr>\n",
       "      <th>0</th>\n",
       "      <td>India</td>\n",
       "      <td>Andhra_Pradesh</td>\n",
       "      <td>Vijayawada</td>\n",
       "      <td>Rajiv Nagar, Vijayawada - APPCB</td>\n",
       "      <td>19-05-2025 10:00:00</td>\n",
       "      <td>16.554731</td>\n",
       "      <td>80.649110</td>\n",
       "      <td>SO2</td>\n",
       "      <td>20.0</td>\n",
       "      <td>23.0</td>\n",
       "      <td>21.0</td>\n",
       "    </tr>\n",
       "    <tr>\n",
       "      <th>1</th>\n",
       "      <td>India</td>\n",
       "      <td>Andhra_Pradesh</td>\n",
       "      <td>Vijayawada</td>\n",
       "      <td>Rajiv Nagar, Vijayawada - APPCB</td>\n",
       "      <td>19-05-2025 10:00:00</td>\n",
       "      <td>16.554731</td>\n",
       "      <td>80.649110</td>\n",
       "      <td>OZONE</td>\n",
       "      <td>17.0</td>\n",
       "      <td>35.0</td>\n",
       "      <td>22.0</td>\n",
       "    </tr>\n",
       "    <tr>\n",
       "      <th>2</th>\n",
       "      <td>India</td>\n",
       "      <td>Andhra_Pradesh</td>\n",
       "      <td>Visakhapatnam</td>\n",
       "      <td>GVM Corporation, Visakhapatnam - APPCB</td>\n",
       "      <td>19-05-2025 10:00:00</td>\n",
       "      <td>17.720000</td>\n",
       "      <td>83.300000</td>\n",
       "      <td>PM10</td>\n",
       "      <td>23.0</td>\n",
       "      <td>66.0</td>\n",
       "      <td>36.0</td>\n",
       "    </tr>\n",
       "    <tr>\n",
       "      <th>3</th>\n",
       "      <td>India</td>\n",
       "      <td>Arunachal_Pradesh</td>\n",
       "      <td>Naharlagun</td>\n",
       "      <td>Naharlagun, Naharlagun - APSPCB</td>\n",
       "      <td>19-05-2025 10:00:00</td>\n",
       "      <td>27.103358</td>\n",
       "      <td>93.679645</td>\n",
       "      <td>NO2</td>\n",
       "      <td>4.0</td>\n",
       "      <td>5.0</td>\n",
       "      <td>5.0</td>\n",
       "    </tr>\n",
       "    <tr>\n",
       "      <th>4</th>\n",
       "      <td>India</td>\n",
       "      <td>Arunachal_Pradesh</td>\n",
       "      <td>Naharlagun</td>\n",
       "      <td>Naharlagun, Naharlagun - APSPCB</td>\n",
       "      <td>19-05-2025 10:00:00</td>\n",
       "      <td>27.103358</td>\n",
       "      <td>93.679645</td>\n",
       "      <td>CO</td>\n",
       "      <td>10.0</td>\n",
       "      <td>19.0</td>\n",
       "      <td>12.0</td>\n",
       "    </tr>\n",
       "  </tbody>\n",
       "</table>\n",
       "</div>"
      ],
      "text/plain": [
       "  country              state           city  \\\n",
       "0   India     Andhra_Pradesh     Vijayawada   \n",
       "1   India     Andhra_Pradesh     Vijayawada   \n",
       "2   India     Andhra_Pradesh  Visakhapatnam   \n",
       "3   India  Arunachal_Pradesh     Naharlagun   \n",
       "4   India  Arunachal_Pradesh     Naharlagun   \n",
       "\n",
       "                                  station          last_update   latitude  \\\n",
       "0         Rajiv Nagar, Vijayawada - APPCB  19-05-2025 10:00:00  16.554731   \n",
       "1         Rajiv Nagar, Vijayawada - APPCB  19-05-2025 10:00:00  16.554731   \n",
       "2  GVM Corporation, Visakhapatnam - APPCB  19-05-2025 10:00:00  17.720000   \n",
       "3         Naharlagun, Naharlagun - APSPCB  19-05-2025 10:00:00  27.103358   \n",
       "4         Naharlagun, Naharlagun - APSPCB  19-05-2025 10:00:00  27.103358   \n",
       "\n",
       "   longitude pollutant_id  pollutant_min  pollutant_max  pollutant_avg  \n",
       "0  80.649110          SO2           20.0           23.0           21.0  \n",
       "1  80.649110        OZONE           17.0           35.0           22.0  \n",
       "2  83.300000         PM10           23.0           66.0           36.0  \n",
       "3  93.679645          NO2            4.0            5.0            5.0  \n",
       "4  93.679645           CO           10.0           19.0           12.0  "
      ]
     },
     "execution_count": 40,
     "metadata": {},
     "output_type": "execute_result"
    }
   ],
   "source": [
    "df.head()"
   ]
  },
  {
   "cell_type": "code",
   "execution_count": 43,
   "id": "18ea023c",
   "metadata": {},
   "outputs": [
    {
     "data": {
      "text/plain": [
       "Index(['country', 'state', 'city', 'station', 'last_update', 'latitude',\n",
       "       'longitude', 'pollutant_id', 'pollutant_min', 'pollutant_max',\n",
       "       'pollutant_avg'],\n",
       "      dtype='object')"
      ]
     },
     "execution_count": 43,
     "metadata": {},
     "output_type": "execute_result"
    }
   ],
   "source": [
    "df.columns"
   ]
  },
  {
   "cell_type": "code",
   "execution_count": 49,
   "id": "9ed208fe",
   "metadata": {},
   "outputs": [
    {
     "name": "stdout",
     "output_type": "stream",
     "text": [
      " Highest average AQI: Himachal Pradesh (80.71)\n",
      " Lowest average AQI: Andaman and Nicobar (16.91)\n"
     ]
    }
   ],
   "source": [
    "#Which states have the highest and lowest average AQI levels?\n",
    "state_avg_aqi=df.groupby('state')['pollutant_avg'].mean()\n",
    "\n",
    "highest_state=state_avg_aqi.idxmax()\n",
    "highest_value=state_avg_aqi.max()\n",
    "\n",
    "lowest_state=state_avg_aqi.idxmin()\n",
    "lowest_value=state_avg_aqi.min()\n",
    "\n",
    "print(f\" Highest average AQI: {highest_state} ({highest_value:.2f})\")\n",
    "print(f\" Lowest average AQI: {lowest_state} ({lowest_value:.2f})\")\n"
   ]
  },
  {
   "cell_type": "code",
   "execution_count": 51,
   "id": "432b6f5a",
   "metadata": {},
   "outputs": [
    {
     "name": "stdout",
     "output_type": "stream",
     "text": [
      "pollutant_id         CO  NH3  NO2  OZONE  PM10  PM2.5  SO2\n",
      "state                                                     \n",
      "Andaman and Nicobar   1    1    1      1     1      1    1\n",
      "Andhra_Pradesh       12   12   12     12    12     12   12\n",
      "Arunachal_Pradesh     1    0    1      1     1      1    1\n",
      "Assam                 7    6    6      7     7      7    7\n",
      "Bihar                28   28   30     31    28     30   28\n",
      "Chandigarh            2    2    2      2     2      2    2\n",
      "Chhattisgarh         13   11   12     12    13     13   13\n",
      "Delhi                38   31   39     38    39     39   32\n",
      "Gujarat              13   12   15     14    15     14   15\n",
      "Haryana               2    1    2      2     2      2    1\n",
      "Himachal Pradesh      1    1    1      1     1      1    1\n",
      "Jammu_and_Kashmir     1    0    0      0     1      1    0\n",
      "Jharkhand             1    0    1      1     0      1    1\n",
      "Karnataka            29   25   28     26    29     27   28\n",
      "Kerala                5    4    5      5     5      5    5\n",
      "Madhya Pradesh       24   18   23     21    26     26   26\n",
      "Maharashtra          79   73   82     75    81     82   74\n",
      "Manipur               1    1    1      0     1      1    1\n",
      "Meghalaya             1    0    1      1     0      1    1\n",
      "Mizoram               1    1    0      1     1      1    1\n",
      "Odisha               18   16   17     15    19     18   18\n",
      "Punjab                6    5    5      6     6      6    6\n",
      "Rajasthan            45   45   45     45    45     44   45\n",
      "Sikkim                1    1    1      1     1      1    0\n",
      "TamilNadu            23   31   30     26    31     31   31\n",
      "Telangana            12   11   12     12    11     12   12\n",
      "Tripura               1    0    1      1     0      1    1\n",
      "Uttar_Pradesh        53   48   53     52    53     53   52\n",
      "Uttarakhand           3    2    3      3     3      3    3\n",
      "West_Bengal          20   20   20     20    20     20   20\n"
     ]
    }
   ],
   "source": [
    "#Are certain pollutants more common in specific states or regions?\n",
    "pollution_distribution=df.groupby(['state','pollutant_id']).size().unstack(fill_value=0)\n",
    "print(pollution_distribution)"
   ]
  },
  {
   "cell_type": "code",
   "execution_count": 52,
   "id": "7ca1a9c6",
   "metadata": {},
   "outputs": [
    {
     "name": "stdout",
     "output_type": "stream",
     "text": [
      "state\n",
      "Andaman and Nicobar    OZONE\n",
      "Andhra_Pradesh           SO2\n",
      "Arunachal_Pradesh        NO2\n",
      "Assam                   PM10\n",
      "Bihar                  OZONE\n",
      "Chandigarh                CO\n",
      "Chhattisgarh             SO2\n",
      "Delhi                    NO2\n",
      "Gujarat                  NO2\n",
      "Haryana                 PM10\n",
      "Himachal Pradesh        PM10\n",
      "Jammu_and_Kashmir         CO\n",
      "Jharkhand                SO2\n",
      "Karnataka                 CO\n",
      "Kerala                 PM2.5\n",
      "Madhya Pradesh          PM10\n",
      "Maharashtra            PM2.5\n",
      "Manipur                  SO2\n",
      "Meghalaya              PM2.5\n",
      "Mizoram                OZONE\n",
      "Odisha                  PM10\n",
      "Punjab                 PM2.5\n",
      "Rajasthan                NO2\n",
      "Sikkim                  PM10\n",
      "TamilNadu              PM2.5\n",
      "Telangana                NO2\n",
      "Tripura                   CO\n",
      "Uttar_Pradesh          PM2.5\n",
      "Uttarakhand            PM2.5\n",
      "West_Bengal              SO2\n",
      "Name: pollutant_id, dtype: object\n"
     ]
    }
   ],
   "source": [
    "most_common_pollutant = df.groupby('state')['pollutant_id'].agg(lambda x: x.value_counts().idxmax())\n",
    "print(most_common_pollutant)"
   ]
  },
  {
   "cell_type": "code",
   "execution_count": 54,
   "id": "a0adf0ae",
   "metadata": {},
   "outputs": [
    {
     "data": {
      "text/html": [
       "<div>\n",
       "<style scoped>\n",
       "    .dataframe tbody tr th:only-of-type {\n",
       "        vertical-align: middle;\n",
       "    }\n",
       "\n",
       "    .dataframe tbody tr th {\n",
       "        vertical-align: top;\n",
       "    }\n",
       "\n",
       "    .dataframe thead th {\n",
       "        text-align: right;\n",
       "    }\n",
       "</style>\n",
       "<table border=\"1\" class=\"dataframe\">\n",
       "  <thead>\n",
       "    <tr style=\"text-align: right;\">\n",
       "      <th></th>\n",
       "      <th>country</th>\n",
       "      <th>state</th>\n",
       "      <th>city</th>\n",
       "      <th>station</th>\n",
       "      <th>last_update</th>\n",
       "      <th>latitude</th>\n",
       "      <th>longitude</th>\n",
       "      <th>pollutant_id</th>\n",
       "      <th>pollutant_min</th>\n",
       "      <th>pollutant_max</th>\n",
       "      <th>pollutant_avg</th>\n",
       "      <th>spread</th>\n",
       "    </tr>\n",
       "  </thead>\n",
       "  <tbody>\n",
       "    <tr>\n",
       "      <th>0</th>\n",
       "      <td>India</td>\n",
       "      <td>Andhra_Pradesh</td>\n",
       "      <td>Vijayawada</td>\n",
       "      <td>Rajiv Nagar, Vijayawada - APPCB</td>\n",
       "      <td>19-05-2025 10:00:00</td>\n",
       "      <td>16.554731</td>\n",
       "      <td>80.649110</td>\n",
       "      <td>SO2</td>\n",
       "      <td>20.0</td>\n",
       "      <td>23.0</td>\n",
       "      <td>21.0</td>\n",
       "      <td>3.0</td>\n",
       "    </tr>\n",
       "    <tr>\n",
       "      <th>1</th>\n",
       "      <td>India</td>\n",
       "      <td>Andhra_Pradesh</td>\n",
       "      <td>Vijayawada</td>\n",
       "      <td>Rajiv Nagar, Vijayawada - APPCB</td>\n",
       "      <td>19-05-2025 10:00:00</td>\n",
       "      <td>16.554731</td>\n",
       "      <td>80.649110</td>\n",
       "      <td>OZONE</td>\n",
       "      <td>17.0</td>\n",
       "      <td>35.0</td>\n",
       "      <td>22.0</td>\n",
       "      <td>18.0</td>\n",
       "    </tr>\n",
       "    <tr>\n",
       "      <th>2</th>\n",
       "      <td>India</td>\n",
       "      <td>Andhra_Pradesh</td>\n",
       "      <td>Visakhapatnam</td>\n",
       "      <td>GVM Corporation, Visakhapatnam - APPCB</td>\n",
       "      <td>19-05-2025 10:00:00</td>\n",
       "      <td>17.720000</td>\n",
       "      <td>83.300000</td>\n",
       "      <td>PM10</td>\n",
       "      <td>23.0</td>\n",
       "      <td>66.0</td>\n",
       "      <td>36.0</td>\n",
       "      <td>43.0</td>\n",
       "    </tr>\n",
       "    <tr>\n",
       "      <th>3</th>\n",
       "      <td>India</td>\n",
       "      <td>Arunachal_Pradesh</td>\n",
       "      <td>Naharlagun</td>\n",
       "      <td>Naharlagun, Naharlagun - APSPCB</td>\n",
       "      <td>19-05-2025 10:00:00</td>\n",
       "      <td>27.103358</td>\n",
       "      <td>93.679645</td>\n",
       "      <td>NO2</td>\n",
       "      <td>4.0</td>\n",
       "      <td>5.0</td>\n",
       "      <td>5.0</td>\n",
       "      <td>1.0</td>\n",
       "    </tr>\n",
       "    <tr>\n",
       "      <th>4</th>\n",
       "      <td>India</td>\n",
       "      <td>Arunachal_Pradesh</td>\n",
       "      <td>Naharlagun</td>\n",
       "      <td>Naharlagun, Naharlagun - APSPCB</td>\n",
       "      <td>19-05-2025 10:00:00</td>\n",
       "      <td>27.103358</td>\n",
       "      <td>93.679645</td>\n",
       "      <td>CO</td>\n",
       "      <td>10.0</td>\n",
       "      <td>19.0</td>\n",
       "      <td>12.0</td>\n",
       "      <td>9.0</td>\n",
       "    </tr>\n",
       "  </tbody>\n",
       "</table>\n",
       "</div>"
      ],
      "text/plain": [
       "  country              state           city  \\\n",
       "0   India     Andhra_Pradesh     Vijayawada   \n",
       "1   India     Andhra_Pradesh     Vijayawada   \n",
       "2   India     Andhra_Pradesh  Visakhapatnam   \n",
       "3   India  Arunachal_Pradesh     Naharlagun   \n",
       "4   India  Arunachal_Pradesh     Naharlagun   \n",
       "\n",
       "                                  station          last_update   latitude  \\\n",
       "0         Rajiv Nagar, Vijayawada - APPCB  19-05-2025 10:00:00  16.554731   \n",
       "1         Rajiv Nagar, Vijayawada - APPCB  19-05-2025 10:00:00  16.554731   \n",
       "2  GVM Corporation, Visakhapatnam - APPCB  19-05-2025 10:00:00  17.720000   \n",
       "3         Naharlagun, Naharlagun - APSPCB  19-05-2025 10:00:00  27.103358   \n",
       "4         Naharlagun, Naharlagun - APSPCB  19-05-2025 10:00:00  27.103358   \n",
       "\n",
       "   longitude pollutant_id  pollutant_min  pollutant_max  pollutant_avg  spread  \n",
       "0  80.649110          SO2           20.0           23.0           21.0     3.0  \n",
       "1  80.649110        OZONE           17.0           35.0           22.0    18.0  \n",
       "2  83.300000         PM10           23.0           66.0           36.0    43.0  \n",
       "3  93.679645          NO2            4.0            5.0            5.0     1.0  \n",
       "4  93.679645           CO           10.0           19.0           12.0     9.0  "
      ]
     },
     "execution_count": 54,
     "metadata": {},
     "output_type": "execute_result"
    }
   ],
   "source": [
    "#What’s the difference between pollutant_max and pollutant_min — which cities have the largest spread?\n",
    "df['spread']=df['pollutant_max']-df['pollutant_min']\n",
    "df.head()"
   ]
  },
  {
   "cell_type": "code",
   "execution_count": 66,
   "id": "eaadb609",
   "metadata": {},
   "outputs": [
    {
     "data": {
      "text/plain": [
       "city\n",
       "Bengaluru    498.0\n",
       "Jhalawar     485.0\n",
       "Gorakhpur    474.0\n",
       "Mumbai       450.0\n",
       "Howrah       382.0\n",
       "Name: spread, dtype: float64"
      ]
     },
     "execution_count": 66,
     "metadata": {},
     "output_type": "execute_result"
    }
   ],
   "source": [
    "df.groupby('city')['spread'].max().sort_values(ascending=False).head()"
   ]
  },
  {
   "cell_type": "code",
   "execution_count": 71,
   "id": "5ff15e6a",
   "metadata": {},
   "outputs": [
    {
     "data": {
      "text/plain": [
       "city        station                                  \n",
       "Ulhasnagar  Sidhi Vinayak Nagar, Ulhasnagar - MPCB       7\n",
       "Udaipur     Ashok Nagar, Udaipur - RSPCB                 7\n",
       "Tumidih     OP Jindal Industrial Park, Tumidih - CECB    7\n",
       "Tonk        Shastri Nagar, Tonk - RSPCB                  7\n",
       "Tirupati    Vaikuntapuram, Tirupati - APPCB              7\n",
       "Name: pollutant_id, dtype: int64"
      ]
     },
     "execution_count": 71,
     "metadata": {},
     "output_type": "execute_result"
    }
   ],
   "source": [
    "#Which top 5 cities or stations report multiple pollutants? Can we detect hotspots?\n",
    "df.groupby(['city','station'])['pollutant_id'].count().sort_values(ascending=False).head()"
   ]
  },
  {
   "cell_type": "code",
   "execution_count": 72,
   "id": "04033cff",
   "metadata": {},
   "outputs": [
    {
     "data": {
      "text/plain": [
       "pollutant_id\n",
       "PM10     77.762755\n",
       "PM2.5    57.167939\n",
       "CO       31.198113\n",
       "OZONE    25.868735\n",
       "NO2      23.821340\n",
       "SO2      14.671795\n",
       "NH3       5.403361\n",
       "Name: pollutant_avg, dtype: float64"
      ]
     },
     "execution_count": 72,
     "metadata": {},
     "output_type": "execute_result"
    }
   ],
   "source": [
    "#How do average pollution levels vary by pollutant type?\n",
    "df.groupby('pollutant_id')['pollutant_avg'].mean().sort_values(ascending=False)"
   ]
  },
  {
   "cell_type": "code",
   "execution_count": 79,
   "id": "e0d0e2ff",
   "metadata": {},
   "outputs": [],
   "source": [
    "#Which cities consistently show high levels of hazardous pollutants (e.g., PM10, NO2)?\n",
    "hazardous_pollutants = ['PM10', 'NO2']\n",
    "haz_df = df[df['pollutant_id'].isin(hazardous_pollutants)]"
   ]
  },
  {
   "cell_type": "code",
   "execution_count": 81,
   "id": "cea1b82e",
   "metadata": {},
   "outputs": [
    {
     "name": "stdout",
     "output_type": "stream",
     "text": [
      "pollutant_id         NO2       PM10\n",
      "city                               \n",
      "Agartala       23.821340        NaN\n",
      "Agra           26.333333  97.833333\n",
      "Ahmedabad      37.777778  72.640306\n",
      "Ahmednagar     28.000000  77.762755\n",
      "Aizawl               NaN  77.762755\n",
      "...                  ...        ...\n",
      "Virar          17.000000  59.000000\n",
      "Virudhunagar   23.821340  77.762755\n",
      "Visakhapatnam  15.000000  36.000000\n",
      "Vrindavan      12.000000  60.000000\n",
      "Yadgir         23.821340  77.762755\n",
      "\n",
      "[237 rows x 2 columns]\n"
     ]
    }
   ],
   "source": [
    "city_pollutant_avg=haz_df.groupby(['city','pollutant_id'])['pollutant_avg'].mean().unstack()\n",
    "print(city_pollutant_avg)"
   ]
  },
  {
   "cell_type": "code",
   "execution_count": 83,
   "id": "e38d25ea",
   "metadata": {},
   "outputs": [
    {
     "name": "stdout",
     "output_type": "stream",
     "text": [
      "pollutant_id   NO2   PM10\n",
      "city                     \n",
      "Badlapur      51.0  105.0\n"
     ]
    }
   ],
   "source": [
    "high_pollution_cities = city_pollutant_avg[(city_pollutant_avg['PM10'] > 100) & (city_pollutant_avg['NO2'] > 50)]\n",
    "print(high_pollution_cities)"
   ]
  },
  {
   "cell_type": "code",
   "execution_count": 96,
   "id": "17d7a0ff",
   "metadata": {},
   "outputs": [
    {
     "name": "stdout",
     "output_type": "stream",
     "text": [
      "city              state           \n",
      "Baddi             Himachal Pradesh    80.714286\n",
      "Gurugram          Haryana             72.952551\n",
      "Jalandhar         Punjab              67.857143\n",
      "Delhi             Delhi               67.499105\n",
      "Mandi Gobindgarh  Punjab              63.285714\n",
      "Name: pollutant_avg, dtype: float64\n"
     ]
    }
   ],
   "source": [
    "#Which state has the most polluted cities? Can you suggest specific cities for intervention?\n",
    "most_polluted_city=df.groupby(['city','state'])['pollutant_avg'].mean().sort_values(ascending=False).head()\n",
    "print(most_polluted_city)"
   ]
  },
  {
   "cell_type": "code",
   "execution_count": 99,
   "id": "ef85aaaa",
   "metadata": {},
   "outputs": [
    {
     "name": "stdout",
     "output_type": "stream",
     "text": [
      "station\n",
      "CRRI Mathura Road, Delhi - IMD           136.600000\n",
      "Aya Nagar, Delhi - IMD                   106.400000\n",
      "Lodhi Road, Delhi - IITM                  97.000000\n",
      "IGI Airport (T3), Delhi - IMD             93.150407\n",
      "Sector - 62, Noida - IMD                  87.200000\n",
      "Wazirpur, Delhi - DPCC                    81.857143\n",
      "HIMUDA Complex Phase-1, Baddi - HPPCB     80.714286\n",
      "Lodhi Road, Delhi - IMD                   79.800000\n",
      "Shadipur, Delhi - CPCB                    78.428571\n",
      "Jahangirpuri, Delhi - DPCC                75.857143\n",
      "Name: pollutant_avg, dtype: float64\n"
     ]
    }
   ],
   "source": [
    "#If we prioritize the top 10 most polluted stations, which should be targeted first for air quality improvement projects?\n",
    "top10_station =df.groupby('station')['pollutant_avg'].mean().sort_values(ascending=False).head(10)\n",
    "print(top10_station)"
   ]
  },
  {
   "cell_type": "code",
   "execution_count": 112,
   "id": "895c764d",
   "metadata": {},
   "outputs": [
    {
     "data": {
      "image/png": "[encoded data removed]",
      "text/plain": [
       "<Figure size 1000x600 with 1 Axes>"
      ]
     },
     "metadata": {},
     "output_type": "display_data"
    }
   ],
   "source": [
    "import matplotlib.pyplot as plt\n",
    "\n",
    "# Plot\n",
    "top10_station.plot(kind='bar', figsize=(10,6), color='crimson')\n",
    "\n",
    "# Title and labels\n",
    "plt.title('Top 10 Most Polluted Stations by Average Pollutant Level')\n",
    "plt.xlabel('Station')\n",
    "plt.ylabel('Average Pollutant Level')\n",
    "plt.xticks(rotation=80)\n",
    "\n",
    "\n",
    "plt.tight_layout()\n",
    "plt.show()\n",
    "\n"
   ]
  },
  {
   "cell_type": "code",
   "execution_count": 121,
   "id": "5e49f7cd",
   "metadata": {},
   "outputs": [],
   "source": [
    "#Can you cluster cities into low, medium, and high pollution zones using pollutant averages?\n",
    "def categorize_pollution(value):\n",
    "    if value <= 100:\n",
    "        return 'Low'\n",
    "    elif value <= 200:\n",
    "        return 'Medium'\n",
    "    else:\n",
    "        return 'High'\n",
    "\n",
    "df['pollution_zone']=df['pollutant_avg'].apply(categorize_pollution)"
   ]
  },
  {
   "cell_type": "code",
   "execution_count": 119,
   "id": "7dc0afe3",
   "metadata": {},
   "outputs": [
    {
     "data": {
      "text/html": [
       "<div>\n",
       "<style scoped>\n",
       "    .dataframe tbody tr th:only-of-type {\n",
       "        vertical-align: middle;\n",
       "    }\n",
       "\n",
       "    .dataframe tbody tr th {\n",
       "        vertical-align: top;\n",
       "    }\n",
       "\n",
       "    .dataframe thead th {\n",
       "        text-align: right;\n",
       "    }\n",
       "</style>\n",
       "<table border=\"1\" class=\"dataframe\">\n",
       "  <thead>\n",
       "    <tr style=\"text-align: right;\">\n",
       "      <th></th>\n",
       "      <th>country</th>\n",
       "      <th>state</th>\n",
       "      <th>city</th>\n",
       "      <th>station</th>\n",
       "      <th>last_update</th>\n",
       "      <th>latitude</th>\n",
       "      <th>longitude</th>\n",
       "      <th>pollutant_id</th>\n",
       "      <th>pollutant_min</th>\n",
       "      <th>pollutant_max</th>\n",
       "      <th>pollutant_avg</th>\n",
       "      <th>spread</th>\n",
       "      <th>pollution_zone</th>\n",
       "    </tr>\n",
       "  </thead>\n",
       "  <tbody>\n",
       "    <tr>\n",
       "      <th>0</th>\n",
       "      <td>India</td>\n",
       "      <td>Andhra_Pradesh</td>\n",
       "      <td>Vijayawada</td>\n",
       "      <td>Rajiv Nagar, Vijayawada - APPCB</td>\n",
       "      <td>19-05-2025 10:00:00</td>\n",
       "      <td>16.554731</td>\n",
       "      <td>80.649110</td>\n",
       "      <td>SO2</td>\n",
       "      <td>20.0</td>\n",
       "      <td>23.0</td>\n",
       "      <td>21.0</td>\n",
       "      <td>3.0</td>\n",
       "      <td>Low</td>\n",
       "    </tr>\n",
       "    <tr>\n",
       "      <th>1</th>\n",
       "      <td>India</td>\n",
       "      <td>Andhra_Pradesh</td>\n",
       "      <td>Vijayawada</td>\n",
       "      <td>Rajiv Nagar, Vijayawada - APPCB</td>\n",
       "      <td>19-05-2025 10:00:00</td>\n",
       "      <td>16.554731</td>\n",
       "      <td>80.649110</td>\n",
       "      <td>OZONE</td>\n",
       "      <td>17.0</td>\n",
       "      <td>35.0</td>\n",
       "      <td>22.0</td>\n",
       "      <td>18.0</td>\n",
       "      <td>Low</td>\n",
       "    </tr>\n",
       "    <tr>\n",
       "      <th>2</th>\n",
       "      <td>India</td>\n",
       "      <td>Andhra_Pradesh</td>\n",
       "      <td>Visakhapatnam</td>\n",
       "      <td>GVM Corporation, Visakhapatnam - APPCB</td>\n",
       "      <td>19-05-2025 10:00:00</td>\n",
       "      <td>17.720000</td>\n",
       "      <td>83.300000</td>\n",
       "      <td>PM10</td>\n",
       "      <td>23.0</td>\n",
       "      <td>66.0</td>\n",
       "      <td>36.0</td>\n",
       "      <td>43.0</td>\n",
       "      <td>Low</td>\n",
       "    </tr>\n",
       "    <tr>\n",
       "      <th>3</th>\n",
       "      <td>India</td>\n",
       "      <td>Arunachal_Pradesh</td>\n",
       "      <td>Naharlagun</td>\n",
       "      <td>Naharlagun, Naharlagun - APSPCB</td>\n",
       "      <td>19-05-2025 10:00:00</td>\n",
       "      <td>27.103358</td>\n",
       "      <td>93.679645</td>\n",
       "      <td>NO2</td>\n",
       "      <td>4.0</td>\n",
       "      <td>5.0</td>\n",
       "      <td>5.0</td>\n",
       "      <td>1.0</td>\n",
       "      <td>Low</td>\n",
       "    </tr>\n",
       "    <tr>\n",
       "      <th>4</th>\n",
       "      <td>India</td>\n",
       "      <td>Arunachal_Pradesh</td>\n",
       "      <td>Naharlagun</td>\n",
       "      <td>Naharlagun, Naharlagun - APSPCB</td>\n",
       "      <td>19-05-2025 10:00:00</td>\n",
       "      <td>27.103358</td>\n",
       "      <td>93.679645</td>\n",
       "      <td>CO</td>\n",
       "      <td>10.0</td>\n",
       "      <td>19.0</td>\n",
       "      <td>12.0</td>\n",
       "      <td>9.0</td>\n",
       "      <td>Low</td>\n",
       "    </tr>\n",
       "  </tbody>\n",
       "</table>\n",
       "</div>"
      ],
      "text/plain": [
       "  country              state           city  \\\n",
       "0   India     Andhra_Pradesh     Vijayawada   \n",
       "1   India     Andhra_Pradesh     Vijayawada   \n",
       "2   India     Andhra_Pradesh  Visakhapatnam   \n",
       "3   India  Arunachal_Pradesh     Naharlagun   \n",
       "4   India  Arunachal_Pradesh     Naharlagun   \n",
       "\n",
       "                                  station          last_update   latitude  \\\n",
       "0         Rajiv Nagar, Vijayawada - APPCB  19-05-2025 10:00:00  16.554731   \n",
       "1         Rajiv Nagar, Vijayawada - APPCB  19-05-2025 10:00:00  16.554731   \n",
       "2  GVM Corporation, Visakhapatnam - APPCB  19-05-2025 10:00:00  17.720000   \n",
       "3         Naharlagun, Naharlagun - APSPCB  19-05-2025 10:00:00  27.103358   \n",
       "4         Naharlagun, Naharlagun - APSPCB  19-05-2025 10:00:00  27.103358   \n",
       "\n",
       "   longitude pollutant_id  pollutant_min  pollutant_max  pollutant_avg  \\\n",
       "0  80.649110          SO2           20.0           23.0           21.0   \n",
       "1  80.649110        OZONE           17.0           35.0           22.0   \n",
       "2  83.300000         PM10           23.0           66.0           36.0   \n",
       "3  93.679645          NO2            4.0            5.0            5.0   \n",
       "4  93.679645           CO           10.0           19.0           12.0   \n",
       "\n",
       "   spread pollution_zone  \n",
       "0     3.0            Low  \n",
       "1    18.0            Low  \n",
       "2    43.0            Low  \n",
       "3     1.0            Low  \n",
       "4     9.0            Low  "
      ]
     },
     "execution_count": 119,
     "metadata": {},
     "output_type": "execute_result"
    }
   ],
   "source": [
    "df.head()"
   ]
  },
  {
   "cell_type": "code",
   "execution_count": 122,
   "id": "f26a96c2",
   "metadata": {},
   "outputs": [
    {
     "data": {
      "text/plain": [
       "pollution_zone\n",
       "Low       2909\n",
       "Medium     158\n",
       "High        10\n",
       "Name: count, dtype: int64"
      ]
     },
     "execution_count": 122,
     "metadata": {},
     "output_type": "execute_result"
    }
   ],
   "source": [
    "df['pollution_zone'].value_counts()"
   ]
  },
  {
   "cell_type": "code",
   "execution_count": 128,
   "id": "482e52f5",
   "metadata": {},
   "outputs": [
    {
     "data": {
      "text/html": [
       "<div>\n",
       "<style scoped>\n",
       "    .dataframe tbody tr th:only-of-type {\n",
       "        vertical-align: middle;\n",
       "    }\n",
       "\n",
       "    .dataframe tbody tr th {\n",
       "        vertical-align: top;\n",
       "    }\n",
       "\n",
       "    .dataframe thead th {\n",
       "        text-align: right;\n",
       "    }\n",
       "</style>\n",
       "<table border=\"1\" class=\"dataframe\">\n",
       "  <thead>\n",
       "    <tr style=\"text-align: right;\">\n",
       "      <th></th>\n",
       "      <th>state</th>\n",
       "      <th>city</th>\n",
       "      <th>station</th>\n",
       "    </tr>\n",
       "  </thead>\n",
       "  <tbody>\n",
       "    <tr>\n",
       "      <th>164</th>\n",
       "      <td>Delhi</td>\n",
       "      <td>Delhi</td>\n",
       "      <td>Patparganj, Delhi - DPCC</td>\n",
       "    </tr>\n",
       "    <tr>\n",
       "      <th>361</th>\n",
       "      <td>Maharashtra</td>\n",
       "      <td>Mumbai</td>\n",
       "      <td>Vile Parle West, Mumbai - MPCB</td>\n",
       "    </tr>\n",
       "    <tr>\n",
       "      <th>735</th>\n",
       "      <td>Delhi</td>\n",
       "      <td>Delhi</td>\n",
       "      <td>IGI Airport (T3), Delhi - IMD</td>\n",
       "    </tr>\n",
       "    <tr>\n",
       "      <th>738</th>\n",
       "      <td>Delhi</td>\n",
       "      <td>Delhi</td>\n",
       "      <td>Jahangirpuri, Delhi - DPCC</td>\n",
       "    </tr>\n",
       "    <tr>\n",
       "      <th>778</th>\n",
       "      <td>Delhi</td>\n",
       "      <td>Delhi</td>\n",
       "      <td>Lodhi Road, Delhi - IITM</td>\n",
       "    </tr>\n",
       "    <tr>\n",
       "      <th>1934</th>\n",
       "      <td>Delhi</td>\n",
       "      <td>Delhi</td>\n",
       "      <td>Jahangirpuri, Delhi - DPCC</td>\n",
       "    </tr>\n",
       "    <tr>\n",
       "      <th>1949</th>\n",
       "      <td>Delhi</td>\n",
       "      <td>Delhi</td>\n",
       "      <td>CRRI Mathura Road, Delhi - IMD</td>\n",
       "    </tr>\n",
       "    <tr>\n",
       "      <th>1989</th>\n",
       "      <td>Delhi</td>\n",
       "      <td>Delhi</td>\n",
       "      <td>Wazirpur, Delhi - DPCC</td>\n",
       "    </tr>\n",
       "    <tr>\n",
       "      <th>2593</th>\n",
       "      <td>Delhi</td>\n",
       "      <td>Delhi</td>\n",
       "      <td>Mundka, Delhi - DPCC</td>\n",
       "    </tr>\n",
       "    <tr>\n",
       "      <th>2595</th>\n",
       "      <td>Delhi</td>\n",
       "      <td>Delhi</td>\n",
       "      <td>NSIT Dwarka, Delhi - CPCB</td>\n",
       "    </tr>\n",
       "  </tbody>\n",
       "</table>\n",
       "</div>"
      ],
      "text/plain": [
       "            state    city                         station\n",
       "164         Delhi   Delhi        Patparganj, Delhi - DPCC\n",
       "361   Maharashtra  Mumbai  Vile Parle West, Mumbai - MPCB\n",
       "735         Delhi   Delhi   IGI Airport (T3), Delhi - IMD\n",
       "738         Delhi   Delhi      Jahangirpuri, Delhi - DPCC\n",
       "778         Delhi   Delhi        Lodhi Road, Delhi - IITM\n",
       "1934        Delhi   Delhi      Jahangirpuri, Delhi - DPCC\n",
       "1949        Delhi   Delhi  CRRI Mathura Road, Delhi - IMD\n",
       "1989        Delhi   Delhi          Wazirpur, Delhi - DPCC\n",
       "2593        Delhi   Delhi            Mundka, Delhi - DPCC\n",
       "2595        Delhi   Delhi       NSIT Dwarka, Delhi - CPCB"
      ]
     },
     "execution_count": 128,
     "metadata": {},
     "output_type": "execute_result"
    }
   ],
   "source": [
    "df[df['pollution_zone']=='High'][['state','city','station']]"
   ]
  },
  {
   "cell_type": "code",
   "execution_count": 140,
   "id": "30a9ceab",
   "metadata": {},
   "outputs": [
    {
     "data": {
      "text/plain": [
       "pollutant_id\n",
       "PM10     69.012755\n",
       "PM2.5    68.951654\n",
       "OZONE    50.985680\n",
       "CO       31.492925\n",
       "NO2      23.965261\n",
       "SO2      11.805128\n",
       "NH3       3.557423\n",
       "Name: spread, dtype: float64"
      ]
     },
     "execution_count": 140,
     "metadata": {},
     "output_type": "execute_result"
    }
   ],
   "source": [
    "#Which pollutant(s) should be the focus of state-level environmental policy based on their spread and average intensity?\n",
    "df.groupby('pollutant_id')['spread'].mean().sort_values(ascending=False)"
   ]
  },
  {
   "cell_type": "markdown",
   "id": "ab34cc53",
   "metadata": {},
   "source": [
    "PM10,PM2.5,OZONE should be focus more for state level environmental policy "
   ]
  },
  {
   "cell_type": "code",
   "execution_count": null,
   "id": "42c4d564",
   "metadata": {},
   "outputs": [],
   "source": []
  }
 ],
 "metadata": {
  "kernelspec": {
   "display_name": "Python (tf_env)",
   "language": "python",
   "name": "tf_env"
  },
  "language_info": {
   "codemirror_mode": {
    "name": "ipython",
    "version": 3
   },
   "file_extension": ".py",
   "mimetype": "text/x-python",
   "name": "python",
   "nbconvert_exporter": "python",
   "pygments_lexer": "ipython3",
   "version": "3.10.16"
  }
 },
 "nbformat": 4,
 "nbformat_minor": 5
}
