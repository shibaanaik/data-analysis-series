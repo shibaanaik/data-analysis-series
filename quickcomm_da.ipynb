{
 "cells": [
  {
   "cell_type": "code",
   "execution_count": 2,
   "id": "8f07d629",
   "metadata": {},
   "outputs": [],
   "source": [
    "import pandas as pd \n",
    "import numpy as np \n",
    "import matplotlib.pyplot as plt\n",
    "import seaborn as sns"
   ]
  },
  {
   "cell_type": "code",
   "execution_count": 3,
   "id": "16afe4f1",
   "metadata": {},
   "outputs": [],
   "source": [
    "df=pd.read_csv('Fast Delivery Agent Reviews.csv')"
   ]
  },
  {
   "cell_type": "code",
   "execution_count": 4,
   "id": "5c9d6bf7",
   "metadata": {},
   "outputs": [
    {
     "data": {
      "text/html": [
       "<div>\n",
       "<style scoped>\n",
       "    .dataframe tbody tr th:only-of-type {\n",
       "        vertical-align: middle;\n",
       "    }\n",
       "\n",
       "    .dataframe tbody tr th {\n",
       "        vertical-align: top;\n",
       "    }\n",
       "\n",
       "    .dataframe thead th {\n",
       "        text-align: right;\n",
       "    }\n",
       "</style>\n",
       "<table border=\"1\" class=\"dataframe\">\n",
       "  <thead>\n",
       "    <tr style=\"text-align: right;\">\n",
       "      <th></th>\n",
       "      <th>Agent Name</th>\n",
       "      <th>Rating</th>\n",
       "      <th>Review Text</th>\n",
       "      <th>Delivery Time (min)</th>\n",
       "      <th>Location</th>\n",
       "      <th>Order Type</th>\n",
       "      <th>Customer Feedback Type</th>\n",
       "      <th>Price Range</th>\n",
       "      <th>Discount Applied</th>\n",
       "      <th>Product Availability</th>\n",
       "      <th>Customer Service Rating</th>\n",
       "      <th>Order Accuracy</th>\n",
       "    </tr>\n",
       "  </thead>\n",
       "  <tbody>\n",
       "    <tr>\n",
       "      <th>0</th>\n",
       "      <td>Zepto</td>\n",
       "      <td>4.5</td>\n",
       "      <td>Purpose boy job cup decision girl now get job ...</td>\n",
       "      <td>58</td>\n",
       "      <td>Delhi</td>\n",
       "      <td>Essentials</td>\n",
       "      <td>Neutral</td>\n",
       "      <td>High</td>\n",
       "      <td>Yes</td>\n",
       "      <td>Out of Stock</td>\n",
       "      <td>4</td>\n",
       "      <td>Incorrect</td>\n",
       "    </tr>\n",
       "    <tr>\n",
       "      <th>1</th>\n",
       "      <td>Zepto</td>\n",
       "      <td>2.1</td>\n",
       "      <td>Prevent production able both the box school wa...</td>\n",
       "      <td>25</td>\n",
       "      <td>Lucknow</td>\n",
       "      <td>Grocery</td>\n",
       "      <td>Negative</td>\n",
       "      <td>Low</td>\n",
       "      <td>No</td>\n",
       "      <td>Out of Stock</td>\n",
       "      <td>2</td>\n",
       "      <td>Correct</td>\n",
       "    </tr>\n",
       "    <tr>\n",
       "      <th>2</th>\n",
       "      <td>JioMart</td>\n",
       "      <td>4.5</td>\n",
       "      <td>Family station listen agreement more kitchen l...</td>\n",
       "      <td>54</td>\n",
       "      <td>Ahmedabad</td>\n",
       "      <td>Essentials</td>\n",
       "      <td>Neutral</td>\n",
       "      <td>Low</td>\n",
       "      <td>No</td>\n",
       "      <td>Out of Stock</td>\n",
       "      <td>3</td>\n",
       "      <td>Correct</td>\n",
       "    </tr>\n",
       "    <tr>\n",
       "      <th>3</th>\n",
       "      <td>JioMart</td>\n",
       "      <td>2.6</td>\n",
       "      <td>World north people area everything enter beyon...</td>\n",
       "      <td>22</td>\n",
       "      <td>Chennai</td>\n",
       "      <td>Essentials</td>\n",
       "      <td>Neutral</td>\n",
       "      <td>Low</td>\n",
       "      <td>Yes</td>\n",
       "      <td>In Stock</td>\n",
       "      <td>1</td>\n",
       "      <td>Incorrect</td>\n",
       "    </tr>\n",
       "    <tr>\n",
       "      <th>4</th>\n",
       "      <td>Zepto</td>\n",
       "      <td>3.6</td>\n",
       "      <td>Hand way yourself tax whether sister anyone ef...</td>\n",
       "      <td>34</td>\n",
       "      <td>Pune</td>\n",
       "      <td>Pharmacy</td>\n",
       "      <td>Positive</td>\n",
       "      <td>High</td>\n",
       "      <td>No</td>\n",
       "      <td>In Stock</td>\n",
       "      <td>2</td>\n",
       "      <td>Incorrect</td>\n",
       "    </tr>\n",
       "  </tbody>\n",
       "</table>\n",
       "</div>"
      ],
      "text/plain": [
       "  Agent Name  Rating                                        Review Text  \\\n",
       "0      Zepto     4.5  Purpose boy job cup decision girl now get job ...   \n",
       "1      Zepto     2.1  Prevent production able both the box school wa...   \n",
       "2    JioMart     4.5  Family station listen agreement more kitchen l...   \n",
       "3    JioMart     2.6  World north people area everything enter beyon...   \n",
       "4      Zepto     3.6  Hand way yourself tax whether sister anyone ef...   \n",
       "\n",
       "   Delivery Time (min)   Location  Order Type Customer Feedback Type  \\\n",
       "0                   58      Delhi  Essentials                Neutral   \n",
       "1                   25    Lucknow     Grocery               Negative   \n",
       "2                   54  Ahmedabad  Essentials                Neutral   \n",
       "3                   22    Chennai  Essentials                Neutral   \n",
       "4                   34       Pune    Pharmacy               Positive   \n",
       "\n",
       "  Price Range Discount Applied Product Availability  Customer Service Rating  \\\n",
       "0        High              Yes         Out of Stock                        4   \n",
       "1         Low               No         Out of Stock                        2   \n",
       "2         Low               No         Out of Stock                        3   \n",
       "3         Low              Yes             In Stock                        1   \n",
       "4        High               No             In Stock                        2   \n",
       "\n",
       "  Order Accuracy  \n",
       "0      Incorrect  \n",
       "1        Correct  \n",
       "2        Correct  \n",
       "3      Incorrect  \n",
       "4      Incorrect  "
      ]
     },
     "execution_count": 4,
     "metadata": {},
     "output_type": "execute_result"
    }
   ],
   "source": [
    "df.head()"
   ]
  },
  {
   "cell_type": "code",
   "execution_count": 5,
   "id": "339074aa",
   "metadata": {},
   "outputs": [
    {
     "data": {
      "text/plain": [
       "Index(['Agent Name', 'Rating', 'Review Text', 'Delivery Time (min)',\n",
       "       'Location', 'Order Type', 'Customer Feedback Type', 'Price Range',\n",
       "       'Discount Applied', 'Product Availability', 'Customer Service Rating',\n",
       "       'Order Accuracy'],\n",
       "      dtype='object')"
      ]
     },
     "execution_count": 5,
     "metadata": {},
     "output_type": "execute_result"
    }
   ],
   "source": [
    "df.columns"
   ]
  },
  {
   "cell_type": "code",
   "execution_count": 6,
   "id": "d2dd5103",
   "metadata": {},
   "outputs": [
    {
     "data": {
      "text/plain": [
       "(5000, 12)"
      ]
     },
     "execution_count": 6,
     "metadata": {},
     "output_type": "execute_result"
    }
   ],
   "source": [
    "df.shape\n"
   ]
  },
  {
   "cell_type": "code",
   "execution_count": 7,
   "id": "be3f8e7d",
   "metadata": {},
   "outputs": [
    {
     "name": "stdout",
     "output_type": "stream",
     "text": [
      "<class 'pandas.core.frame.DataFrame'>\n",
      "RangeIndex: 5000 entries, 0 to 4999\n",
      "Data columns (total 12 columns):\n",
      " #   Column                   Non-Null Count  Dtype  \n",
      "---  ------                   --------------  -----  \n",
      " 0   Agent Name               5000 non-null   object \n",
      " 1   Rating                   5000 non-null   float64\n",
      " 2   Review Text              5000 non-null   object \n",
      " 3   Delivery Time (min)      5000 non-null   int64  \n",
      " 4   Location                 5000 non-null   object \n",
      " 5   Order Type               5000 non-null   object \n",
      " 6   Customer Feedback Type   5000 non-null   object \n",
      " 7   Price Range              5000 non-null   object \n",
      " 8   Discount Applied         5000 non-null   object \n",
      " 9   Product Availability     5000 non-null   object \n",
      " 10  Customer Service Rating  5000 non-null   int64  \n",
      " 11  Order Accuracy           5000 non-null   object \n",
      "dtypes: float64(1), int64(2), object(9)\n",
      "memory usage: 468.9+ KB\n"
     ]
    }
   ],
   "source": [
    "df.info()"
   ]
  },
  {
   "cell_type": "code",
   "execution_count": 8,
   "id": "8b00702d",
   "metadata": {},
   "outputs": [
    {
     "data": {
      "text/html": [
       "<div>\n",
       "<style scoped>\n",
       "    .dataframe tbody tr th:only-of-type {\n",
       "        vertical-align: middle;\n",
       "    }\n",
       "\n",
       "    .dataframe tbody tr th {\n",
       "        vertical-align: top;\n",
       "    }\n",
       "\n",
       "    .dataframe thead th {\n",
       "        text-align: right;\n",
       "    }\n",
       "</style>\n",
       "<table border=\"1\" class=\"dataframe\">\n",
       "  <thead>\n",
       "    <tr style=\"text-align: right;\">\n",
       "      <th></th>\n",
       "      <th>Rating</th>\n",
       "      <th>Delivery Time (min)</th>\n",
       "      <th>Customer Service Rating</th>\n",
       "    </tr>\n",
       "  </thead>\n",
       "  <tbody>\n",
       "    <tr>\n",
       "      <th>count</th>\n",
       "      <td>5000.00000</td>\n",
       "      <td>5000.000000</td>\n",
       "      <td>5000.000000</td>\n",
       "    </tr>\n",
       "    <tr>\n",
       "      <th>mean</th>\n",
       "      <td>3.00290</td>\n",
       "      <td>34.962400</td>\n",
       "      <td>2.972000</td>\n",
       "    </tr>\n",
       "    <tr>\n",
       "      <th>std</th>\n",
       "      <td>1.15214</td>\n",
       "      <td>14.789656</td>\n",
       "      <td>1.409969</td>\n",
       "    </tr>\n",
       "    <tr>\n",
       "      <th>min</th>\n",
       "      <td>1.00000</td>\n",
       "      <td>10.000000</td>\n",
       "      <td>1.000000</td>\n",
       "    </tr>\n",
       "    <tr>\n",
       "      <th>25%</th>\n",
       "      <td>2.00000</td>\n",
       "      <td>22.000000</td>\n",
       "      <td>2.000000</td>\n",
       "    </tr>\n",
       "    <tr>\n",
       "      <th>50%</th>\n",
       "      <td>3.00000</td>\n",
       "      <td>35.000000</td>\n",
       "      <td>3.000000</td>\n",
       "    </tr>\n",
       "    <tr>\n",
       "      <th>75%</th>\n",
       "      <td>4.00000</td>\n",
       "      <td>48.000000</td>\n",
       "      <td>4.000000</td>\n",
       "    </tr>\n",
       "    <tr>\n",
       "      <th>max</th>\n",
       "      <td>5.00000</td>\n",
       "      <td>60.000000</td>\n",
       "      <td>5.000000</td>\n",
       "    </tr>\n",
       "  </tbody>\n",
       "</table>\n",
       "</div>"
      ],
      "text/plain": [
       "           Rating  Delivery Time (min)  Customer Service Rating\n",
       "count  5000.00000          5000.000000              5000.000000\n",
       "mean      3.00290            34.962400                 2.972000\n",
       "std       1.15214            14.789656                 1.409969\n",
       "min       1.00000            10.000000                 1.000000\n",
       "25%       2.00000            22.000000                 2.000000\n",
       "50%       3.00000            35.000000                 3.000000\n",
       "75%       4.00000            48.000000                 4.000000\n",
       "max       5.00000            60.000000                 5.000000"
      ]
     },
     "execution_count": 8,
     "metadata": {},
     "output_type": "execute_result"
    }
   ],
   "source": [
    "df.describe()"
   ]
  },
  {
   "cell_type": "code",
   "execution_count": 9,
   "id": "2e6acbc8",
   "metadata": {},
   "outputs": [
    {
     "data": {
      "text/plain": [
       "Agent Name                 0\n",
       "Rating                     0\n",
       "Review Text                0\n",
       "Delivery Time (min)        0\n",
       "Location                   0\n",
       "Order Type                 0\n",
       "Customer Feedback Type     0\n",
       "Price Range                0\n",
       "Discount Applied           0\n",
       "Product Availability       0\n",
       "Customer Service Rating    0\n",
       "Order Accuracy             0\n",
       "dtype: int64"
      ]
     },
     "execution_count": 9,
     "metadata": {},
     "output_type": "execute_result"
    }
   ],
   "source": [
    "df.isnull().sum()"
   ]
  },
  {
   "cell_type": "code",
   "execution_count": 11,
   "id": "75b23fd5",
   "metadata": {},
   "outputs": [
    {
     "data": {
      "text/plain": [
       "4"
      ]
     },
     "execution_count": 11,
     "metadata": {},
     "output_type": "execute_result"
    }
   ],
   "source": [
    "#How many unique delivery agents are there?\n",
    "df['Agent Name'].nunique()"
   ]
  },
  {
   "cell_type": "code",
   "execution_count": 12,
   "id": "6711b143",
   "metadata": {},
   "outputs": [
    {
     "data": {
      "text/plain": [
       "array(['Zepto', 'JioMart', 'Blinkit', 'Swiggy Instamart'], dtype=object)"
      ]
     },
     "execution_count": 12,
     "metadata": {},
     "output_type": "execute_result"
    }
   ],
   "source": [
    "df['Agent Name'].unique()"
   ]
  },
  {
   "cell_type": "code",
   "execution_count": 13,
   "id": "9f97d70a",
   "metadata": {},
   "outputs": [
    {
     "data": {
      "text/plain": [
       "np.float64(3.0029)"
      ]
     },
     "execution_count": 13,
     "metadata": {},
     "output_type": "execute_result"
    }
   ],
   "source": [
    "#What is the average rating overall?\n",
    "df['Rating'].mean()"
   ]
  },
  {
   "cell_type": "code",
   "execution_count": 14,
   "id": "8397a144",
   "metadata": {},
   "outputs": [
    {
     "data": {
      "text/plain": [
       "Customer Feedback Type\n",
       "Negative    1727\n",
       "Positive    1648\n",
       "Neutral     1625\n",
       "Name: count, dtype: int64"
      ]
     },
     "execution_count": 14,
     "metadata": {},
     "output_type": "execute_result"
    }
   ],
   "source": [
    "#What is the distribution of Customer Feedback Type (Positive, Neutral, Negative)?\n",
    "df['Customer Feedback Type'].value_counts()"
   ]
  },
  {
   "cell_type": "code",
   "execution_count": 26,
   "id": "fea9649a",
   "metadata": {},
   "outputs": [
    {
     "data": {
      "image/png": "[encoded data removed]",
      "text/plain": [
       "<Figure size 800x500 with 1 Axes>"
      ]
     },
     "metadata": {},
     "output_type": "display_data"
    }
   ],
   "source": [
    "import matplotlib.pyplot as plt\n",
    "\n",
    "# Plotting bar chart\n",
    "df['Customer Feedback Type'].value_counts().plot(kind='bar', color='lightblue', figsize=(8,5))\n",
    "plt.title('Distribution of Customer Feedback Type')\n",
    "plt.xlabel('Feedback Type')\n",
    "plt.ylabel('Number of Reviews')\n",
    "plt.xticks(rotation=0)\n",
    "plt.grid(axis='y')\n",
    "plt.show()"
   ]
  },
  {
   "cell_type": "code",
   "execution_count": 21,
   "id": "bfefeed6",
   "metadata": {},
   "outputs": [
    {
     "data": {
      "text/plain": [
       "Location\n",
       "Kolkata      517\n",
       "Ahmedabad    515\n",
       "Pune         515\n",
       "Delhi        514\n",
       "Bangalore    513\n",
       "Mumbai       498\n",
       "Hyderabad    490\n",
       "Jaipur       489\n",
       "Chennai      478\n",
       "Lucknow      471\n",
       "Name: count, dtype: int64"
      ]
     },
     "execution_count": 21,
     "metadata": {},
     "output_type": "execute_result"
    }
   ],
   "source": [
    "#Which cities (Location) have the highest number of orders?\n",
    "df['Location'].value_counts()"
   ]
  },
  {
   "cell_type": "code",
   "execution_count": 31,
   "id": "36cbe8eb",
   "metadata": {},
   "outputs": [
    {
     "data": {
      "image/png": "[encoded data removed]",
      "text/plain": [
       "<Figure size 1400x600 with 1 Axes>"
      ]
     },
     "metadata": {},
     "output_type": "display_data"
    }
   ],
   "source": [
    "plt.figure(figsize=(14, 6))\n",
    "sns.countplot(data=df,x='Location')\n",
    "plt.show()\n"
   ]
  },
  {
   "cell_type": "code",
   "execution_count": 22,
   "id": "c5bd7932",
   "metadata": {},
   "outputs": [
    {
     "data": {
      "text/plain": [
       "Order Accuracy\n",
       "Correct      2515\n",
       "Incorrect    2485\n",
       "Name: count, dtype: int64"
      ]
     },
     "execution_count": 22,
     "metadata": {},
     "output_type": "execute_result"
    }
   ],
   "source": [
    "#How many orders were accurate vs inaccurate (Order Accuracy)?\n",
    "df['Order Accuracy'].value_counts()"
   ]
  },
  {
   "cell_type": "code",
   "execution_count": 32,
   "id": "9727d15a",
   "metadata": {},
   "outputs": [
    {
     "data": {
      "text/plain": [
       "<Axes: xlabel='Order Accuracy', ylabel='count'>"
      ]
     },
     "execution_count": 32,
     "metadata": {},
     "output_type": "execute_result"
    },
    {
     "data": {
      "image/png": "[encoded data removed]",
      "text/plain": [
       "<Figure size 640x480 with 1 Axes>"
      ]
     },
     "metadata": {},
     "output_type": "display_data"
    }
   ],
   "source": [
    "sns.countplot(data=df,x='Order Accuracy')"
   ]
  },
  {
   "cell_type": "code",
   "execution_count": 23,
   "id": "dc022011",
   "metadata": {},
   "outputs": [
    {
     "data": {
      "text/plain": [
       "Order Type\n",
       "Electronics    1008\n",
       "Food           1003\n",
       "Essentials     1001\n",
       "Grocery         995\n",
       "Pharmacy        993\n",
       "Name: count, dtype: int64"
      ]
     },
     "execution_count": 23,
     "metadata": {},
     "output_type": "execute_result"
    }
   ],
   "source": [
    "#What are the most common Order Types?\n",
    "df['Order Type'].value_counts()"
   ]
  },
  {
   "cell_type": "code",
   "execution_count": 33,
   "id": "fc0fdf46",
   "metadata": {},
   "outputs": [
    {
     "name": "stderr",
     "output_type": "stream",
     "text": [
      "C:\\Users\\KIIT\\AppData\\Local\\Temp\\ipykernel_17232\\3762671882.py:1: FutureWarning: \n",
      "\n",
      "Passing `palette` without assigning `hue` is deprecated and will be removed in v0.14.0. Assign the `x` variable to `hue` and set `legend=False` for the same effect.\n",
      "\n",
      "  sns.countplot(data=df, x='Order Type', palette='viridis')\n"
     ]
    },
    {
     "data": {
      "text/plain": [
       "<Axes: xlabel='Order Type', ylabel='count'>"
      ]
     },
     "execution_count": 33,
     "metadata": {},
     "output_type": "execute_result"
    },
    {
     "data": {
      "image/png": "[encoded data removed]",
      "text/plain": [
       "<Figure size 640x480 with 1 Axes>"
      ]
     },
     "metadata": {},
     "output_type": "display_data"
    }
   ],
   "source": [
    "sns.countplot(data=df, x='Order Type', palette='viridis')"
   ]
  },
  {
   "cell_type": "code",
   "execution_count": 36,
   "id": "5224f520",
   "metadata": {},
   "outputs": [
    {
     "data": {
      "text/plain": [
       "Agent Name\n",
       "Blinkit             34.649371\n",
       "JioMart             35.026961\n",
       "Swiggy Instamart    35.119476\n",
       "Zepto               35.061622\n",
       "Name: Delivery Time (min), dtype: float64"
      ]
     },
     "execution_count": 36,
     "metadata": {},
     "output_type": "execute_result"
    }
   ],
   "source": [
    "#What’s the average delivery time per Agent Name?\n",
    "df.groupby('Agent Name')['Delivery Time (min)'].mean()"
   ]
  },
  {
   "cell_type": "code",
   "execution_count": 43,
   "id": "1b235ad4",
   "metadata": {},
   "outputs": [
    {
     "data": {
      "text/plain": [
       "Agent Name\n",
       "Swiggy Instamart    3.018331\n",
       "Zepto               3.014509\n",
       "Blinkit             2.993239\n",
       "JioMart             2.985376\n",
       "Name: Rating, dtype: float64"
      ]
     },
     "execution_count": 43,
     "metadata": {},
     "output_type": "execute_result"
    }
   ],
   "source": [
    "#Which agent has the highest average rating?\n",
    "df.groupby('Agent Name')['Rating'].mean().sort_values(ascending=False)"
   ]
  },
  {
   "cell_type": "code",
   "execution_count": 44,
   "id": "ddcf9b97",
   "metadata": {},
   "outputs": [
    {
     "data": {
      "text/plain": [
       "Index(['Agent Name', 'Rating', 'Review Text', 'Delivery Time (min)',\n",
       "       'Location', 'Order Type', 'Customer Feedback Type', 'Price Range',\n",
       "       'Discount Applied', 'Product Availability', 'Customer Service Rating',\n",
       "       'Order Accuracy'],\n",
       "      dtype='object')"
      ]
     },
     "execution_count": 44,
     "metadata": {},
     "output_type": "execute_result"
    }
   ],
   "source": [
    "df.columns"
   ]
  },
  {
   "cell_type": "code",
   "execution_count": 45,
   "id": "4dc9d60e",
   "metadata": {},
   "outputs": [
    {
     "name": "stdout",
     "output_type": "stream",
     "text": [
      "-0.0029283615582401004\n"
     ]
    }
   ],
   "source": [
    "#Is there any correlation between delivery time and customer service rating?\n",
    "correlation=df['Delivery Time (min)'].corr(df['Customer Service Rating'])\n",
    "print(correlation)"
   ]
  },
  {
   "cell_type": "markdown",
   "id": "c66abde1",
   "metadata": {},
   "source": [
    "means no correlation between  delivery time and customer service .\n"
   ]
  },
  {
   "cell_type": "code",
   "execution_count": 47,
   "id": "ae16787e",
   "metadata": {},
   "outputs": [
    {
     "data": {
      "text/html": [
       "<div>\n",
       "<style scoped>\n",
       "    .dataframe tbody tr th:only-of-type {\n",
       "        vertical-align: middle;\n",
       "    }\n",
       "\n",
       "    .dataframe tbody tr th {\n",
       "        vertical-align: top;\n",
       "    }\n",
       "\n",
       "    .dataframe thead th {\n",
       "        text-align: right;\n",
       "    }\n",
       "</style>\n",
       "<table border=\"1\" class=\"dataframe\">\n",
       "  <thead>\n",
       "    <tr style=\"text-align: right;\">\n",
       "      <th></th>\n",
       "      <th>Agent Name</th>\n",
       "      <th>Rating</th>\n",
       "      <th>Review Text</th>\n",
       "      <th>Delivery Time (min)</th>\n",
       "      <th>Location</th>\n",
       "      <th>Order Type</th>\n",
       "      <th>Customer Feedback Type</th>\n",
       "      <th>Price Range</th>\n",
       "      <th>Discount Applied</th>\n",
       "      <th>Product Availability</th>\n",
       "      <th>Customer Service Rating</th>\n",
       "      <th>Order Accuracy</th>\n",
       "    </tr>\n",
       "  </thead>\n",
       "  <tbody>\n",
       "    <tr>\n",
       "      <th>0</th>\n",
       "      <td>Zepto</td>\n",
       "      <td>4.5</td>\n",
       "      <td>Purpose boy job cup decision girl now get job ...</td>\n",
       "      <td>58</td>\n",
       "      <td>Delhi</td>\n",
       "      <td>Essentials</td>\n",
       "      <td>Neutral</td>\n",
       "      <td>High</td>\n",
       "      <td>Yes</td>\n",
       "      <td>Out of Stock</td>\n",
       "      <td>4</td>\n",
       "      <td>Incorrect</td>\n",
       "    </tr>\n",
       "    <tr>\n",
       "      <th>1</th>\n",
       "      <td>Zepto</td>\n",
       "      <td>2.1</td>\n",
       "      <td>Prevent production able both the box school wa...</td>\n",
       "      <td>25</td>\n",
       "      <td>Lucknow</td>\n",
       "      <td>Grocery</td>\n",
       "      <td>Negative</td>\n",
       "      <td>Low</td>\n",
       "      <td>No</td>\n",
       "      <td>Out of Stock</td>\n",
       "      <td>2</td>\n",
       "      <td>Correct</td>\n",
       "    </tr>\n",
       "    <tr>\n",
       "      <th>2</th>\n",
       "      <td>JioMart</td>\n",
       "      <td>4.5</td>\n",
       "      <td>Family station listen agreement more kitchen l...</td>\n",
       "      <td>54</td>\n",
       "      <td>Ahmedabad</td>\n",
       "      <td>Essentials</td>\n",
       "      <td>Neutral</td>\n",
       "      <td>Low</td>\n",
       "      <td>No</td>\n",
       "      <td>Out of Stock</td>\n",
       "      <td>3</td>\n",
       "      <td>Correct</td>\n",
       "    </tr>\n",
       "    <tr>\n",
       "      <th>3</th>\n",
       "      <td>JioMart</td>\n",
       "      <td>2.6</td>\n",
       "      <td>World north people area everything enter beyon...</td>\n",
       "      <td>22</td>\n",
       "      <td>Chennai</td>\n",
       "      <td>Essentials</td>\n",
       "      <td>Neutral</td>\n",
       "      <td>Low</td>\n",
       "      <td>Yes</td>\n",
       "      <td>In Stock</td>\n",
       "      <td>1</td>\n",
       "      <td>Incorrect</td>\n",
       "    </tr>\n",
       "    <tr>\n",
       "      <th>4</th>\n",
       "      <td>Zepto</td>\n",
       "      <td>3.6</td>\n",
       "      <td>Hand way yourself tax whether sister anyone ef...</td>\n",
       "      <td>34</td>\n",
       "      <td>Pune</td>\n",
       "      <td>Pharmacy</td>\n",
       "      <td>Positive</td>\n",
       "      <td>High</td>\n",
       "      <td>No</td>\n",
       "      <td>In Stock</td>\n",
       "      <td>2</td>\n",
       "      <td>Incorrect</td>\n",
       "    </tr>\n",
       "  </tbody>\n",
       "</table>\n",
       "</div>"
      ],
      "text/plain": [
       "  Agent Name  Rating                                        Review Text  \\\n",
       "0      Zepto     4.5  Purpose boy job cup decision girl now get job ...   \n",
       "1      Zepto     2.1  Prevent production able both the box school wa...   \n",
       "2    JioMart     4.5  Family station listen agreement more kitchen l...   \n",
       "3    JioMart     2.6  World north people area everything enter beyon...   \n",
       "4      Zepto     3.6  Hand way yourself tax whether sister anyone ef...   \n",
       "\n",
       "   Delivery Time (min)   Location  Order Type Customer Feedback Type  \\\n",
       "0                   58      Delhi  Essentials                Neutral   \n",
       "1                   25    Lucknow     Grocery               Negative   \n",
       "2                   54  Ahmedabad  Essentials                Neutral   \n",
       "3                   22    Chennai  Essentials                Neutral   \n",
       "4                   34       Pune    Pharmacy               Positive   \n",
       "\n",
       "  Price Range Discount Applied Product Availability  Customer Service Rating  \\\n",
       "0        High              Yes         Out of Stock                        4   \n",
       "1         Low               No         Out of Stock                        2   \n",
       "2         Low               No         Out of Stock                        3   \n",
       "3         Low              Yes             In Stock                        1   \n",
       "4        High               No             In Stock                        2   \n",
       "\n",
       "  Order Accuracy  \n",
       "0      Incorrect  \n",
       "1        Correct  \n",
       "2        Correct  \n",
       "3      Incorrect  \n",
       "4      Incorrect  "
      ]
     },
     "execution_count": 47,
     "metadata": {},
     "output_type": "execute_result"
    }
   ],
   "source": [
    "df.head()"
   ]
  },
  {
   "cell_type": "code",
   "execution_count": 50,
   "id": "c693b6e4",
   "metadata": {},
   "outputs": [
    {
     "data": {
      "text/plain": [
       "Discount Applied\n",
       "No     2.985302\n",
       "Yes    3.019984\n",
       "Name: Rating, dtype: float64"
      ]
     },
     "execution_count": 50,
     "metadata": {},
     "output_type": "execute_result"
    }
   ],
   "source": [
    "#Does discount availability (Discount Applied) affect the rating?\"Is there a difference in customer ratings when a discount is applied vs. not applied?\"\n",
    "df.groupby('Discount Applied')['Rating'].mean()"
   ]
  },
  {
   "cell_type": "code",
   "execution_count": 52,
   "id": "e30e9e1a",
   "metadata": {},
   "outputs": [
    {
     "name": "stderr",
     "output_type": "stream",
     "text": [
      "C:\\Users\\KIIT\\AppData\\Local\\Temp\\ipykernel_17232\\2116193821.py:2: FutureWarning: \n",
      "\n",
      "Passing `palette` without assigning `hue` is deprecated and will be removed in v0.14.0. Assign the `x` variable to `hue` and set `legend=False` for the same effect.\n",
      "\n",
      "  sns.barplot(data=df, x='Discount Applied', y='Rating', palette='pastel')\n"
     ]
    },
    {
     "data": {
      "image/png": "[encoded data removed]",
      "text/plain": [
       "<Figure size 600x400 with 1 Axes>"
      ]
     },
     "metadata": {},
     "output_type": "display_data"
    }
   ],
   "source": [
    "plt.figure(figsize=(6, 4))\n",
    "sns.barplot(data=df, x='Discount Applied', y='Rating', palette='pastel')\n",
    "plt.xlabel('Discount Applied')\n",
    "plt.ylabel('Average Rating')\n",
    "plt.show()"
   ]
  },
  {
   "cell_type": "code",
   "execution_count": 59,
   "id": "35b518f6",
   "metadata": {},
   "outputs": [
    {
     "data": {
      "text/plain": [
       "array(['High', 'Low', 'Medium'], dtype=object)"
      ]
     },
     "execution_count": 59,
     "metadata": {},
     "output_type": "execute_result"
    }
   ],
   "source": [
    "#Which price range (Price Range) has the most negative feedback?\n",
    "df['Price Range'].unique()"
   ]
  },
  {
   "cell_type": "code",
   "execution_count": 60,
   "id": "973d8825",
   "metadata": {},
   "outputs": [
    {
     "data": {
      "text/plain": [
       "array(['Neutral', 'Negative', 'Positive'], dtype=object)"
      ]
     },
     "execution_count": 60,
     "metadata": {},
     "output_type": "execute_result"
    }
   ],
   "source": [
    "df['Customer Feedback Type'].unique()"
   ]
  },
  {
   "cell_type": "code",
   "execution_count": 66,
   "id": "b5dd1bde",
   "metadata": {},
   "outputs": [
    {
     "data": {
      "text/plain": [
       "Price Range\n",
       "Low       618\n",
       "Medium    559\n",
       "High      550\n",
       "Name: count, dtype: int64"
      ]
     },
     "execution_count": 66,
     "metadata": {},
     "output_type": "execute_result"
    }
   ],
   "source": [
    "df[df['Customer Feedback Type']=='Negative'][\"Price Range\"].value_counts()"
   ]
  },
  {
   "cell_type": "markdown",
   "id": "e36b0b45",
   "metadata": {},
   "source": [
    "means order having low price range has the most negative feedback "
   ]
  },
  {
   "cell_type": "code",
   "execution_count": 71,
   "id": "87fb1bb1",
   "metadata": {},
   "outputs": [
    {
     "data": {
      "text/plain": [
       "Product Availability\n",
       "In Stock        2.996996\n",
       "Out of Stock    3.008789\n",
       "Name: Rating, dtype: float64"
      ]
     },
     "execution_count": 71,
     "metadata": {},
     "output_type": "execute_result"
    }
   ],
   "source": [
    "# Do In Stock vs Out of Stock orders affect customer ratings?\n",
    "df.groupby('Product Availability')['Rating'].mean()"
   ]
  },
  {
   "cell_type": "code",
   "execution_count": 74,
   "id": "fc579df1",
   "metadata": {},
   "outputs": [
    {
     "name": "stderr",
     "output_type": "stream",
     "text": [
      "C:\\Users\\KIIT\\AppData\\Local\\Temp\\ipykernel_17232\\2260237481.py:2: FutureWarning: \n",
      "\n",
      "Passing `palette` without assigning `hue` is deprecated and will be removed in v0.14.0. Assign the `x` variable to `hue` and set `legend=False` for the same effect.\n",
      "\n",
      "  sns.barplot(data=df, x='Product Availability', y='Rating', palette='muted')\n"
     ]
    },
    {
     "data": {
      "image/png": "[encoded data removed]",
      "text/plain": [
       "<Figure size 600x400 with 1 Axes>"
      ]
     },
     "metadata": {},
     "output_type": "display_data"
    }
   ],
   "source": [
    "plt.figure(figsize=(6, 4))\n",
    "sns.barplot(data=df, x='Product Availability', y='Rating', palette='muted')\n",
    "\n",
    "plt.title('Customer Ratings by Stock Availability')\n",
    "plt.xlabel('Product Availability')\n",
    "plt.ylabel('Average Rating')\n",
    "plt.ylim(0, 5)\n",
    "plt.tight_layout()\n",
    "plt.show()"
   ]
  },
  {
   "cell_type": "code",
   "execution_count": 76,
   "id": "cca17555",
   "metadata": {},
   "outputs": [
    {
     "data": {
      "text/plain": [
       "Location\n",
       "Lucknow      3.121019\n",
       "Jaipur       3.042945\n",
       "Pune         3.019417\n",
       "Delhi        3.011673\n",
       "Ahmedabad    3.000000\n",
       "Kolkata      2.996132\n",
       "Mumbai       2.975904\n",
       "Chennai      2.912134\n",
       "Hyderabad    2.865306\n",
       "Bangalore    2.781676\n",
       "Name: Customer Service Rating, dtype: float64"
      ]
     },
     "execution_count": 76,
     "metadata": {},
     "output_type": "execute_result"
    }
   ],
   "source": [
    "#Which location has the best customer service ratings on average?\n",
    "df.groupby('Location')['Customer Service Rating'].mean().sort_values(ascending=False)"
   ]
  },
  {
   "cell_type": "code",
   "execution_count": 77,
   "id": "bf0693ea",
   "metadata": {},
   "outputs": [
    {
     "data": {
      "text/html": [
       "<div>\n",
       "<style scoped>\n",
       "    .dataframe tbody tr th:only-of-type {\n",
       "        vertical-align: middle;\n",
       "    }\n",
       "\n",
       "    .dataframe tbody tr th {\n",
       "        vertical-align: top;\n",
       "    }\n",
       "\n",
       "    .dataframe thead th {\n",
       "        text-align: right;\n",
       "    }\n",
       "</style>\n",
       "<table border=\"1\" class=\"dataframe\">\n",
       "  <thead>\n",
       "    <tr style=\"text-align: right;\">\n",
       "      <th></th>\n",
       "      <th>Agent Name</th>\n",
       "      <th>Rating</th>\n",
       "      <th>Review Text</th>\n",
       "      <th>Delivery Time (min)</th>\n",
       "      <th>Location</th>\n",
       "      <th>Order Type</th>\n",
       "      <th>Customer Feedback Type</th>\n",
       "      <th>Price Range</th>\n",
       "      <th>Discount Applied</th>\n",
       "      <th>Product Availability</th>\n",
       "      <th>Customer Service Rating</th>\n",
       "      <th>Order Accuracy</th>\n",
       "    </tr>\n",
       "  </thead>\n",
       "  <tbody>\n",
       "    <tr>\n",
       "      <th>0</th>\n",
       "      <td>Zepto</td>\n",
       "      <td>4.5</td>\n",
       "      <td>Purpose boy job cup decision girl now get job ...</td>\n",
       "      <td>58</td>\n",
       "      <td>Delhi</td>\n",
       "      <td>Essentials</td>\n",
       "      <td>Neutral</td>\n",
       "      <td>High</td>\n",
       "      <td>Yes</td>\n",
       "      <td>Out of Stock</td>\n",
       "      <td>4</td>\n",
       "      <td>Incorrect</td>\n",
       "    </tr>\n",
       "    <tr>\n",
       "      <th>1</th>\n",
       "      <td>Zepto</td>\n",
       "      <td>2.1</td>\n",
       "      <td>Prevent production able both the box school wa...</td>\n",
       "      <td>25</td>\n",
       "      <td>Lucknow</td>\n",
       "      <td>Grocery</td>\n",
       "      <td>Negative</td>\n",
       "      <td>Low</td>\n",
       "      <td>No</td>\n",
       "      <td>Out of Stock</td>\n",
       "      <td>2</td>\n",
       "      <td>Correct</td>\n",
       "    </tr>\n",
       "    <tr>\n",
       "      <th>2</th>\n",
       "      <td>JioMart</td>\n",
       "      <td>4.5</td>\n",
       "      <td>Family station listen agreement more kitchen l...</td>\n",
       "      <td>54</td>\n",
       "      <td>Ahmedabad</td>\n",
       "      <td>Essentials</td>\n",
       "      <td>Neutral</td>\n",
       "      <td>Low</td>\n",
       "      <td>No</td>\n",
       "      <td>Out of Stock</td>\n",
       "      <td>3</td>\n",
       "      <td>Correct</td>\n",
       "    </tr>\n",
       "    <tr>\n",
       "      <th>3</th>\n",
       "      <td>JioMart</td>\n",
       "      <td>2.6</td>\n",
       "      <td>World north people area everything enter beyon...</td>\n",
       "      <td>22</td>\n",
       "      <td>Chennai</td>\n",
       "      <td>Essentials</td>\n",
       "      <td>Neutral</td>\n",
       "      <td>Low</td>\n",
       "      <td>Yes</td>\n",
       "      <td>In Stock</td>\n",
       "      <td>1</td>\n",
       "      <td>Incorrect</td>\n",
       "    </tr>\n",
       "    <tr>\n",
       "      <th>4</th>\n",
       "      <td>Zepto</td>\n",
       "      <td>3.6</td>\n",
       "      <td>Hand way yourself tax whether sister anyone ef...</td>\n",
       "      <td>34</td>\n",
       "      <td>Pune</td>\n",
       "      <td>Pharmacy</td>\n",
       "      <td>Positive</td>\n",
       "      <td>High</td>\n",
       "      <td>No</td>\n",
       "      <td>In Stock</td>\n",
       "      <td>2</td>\n",
       "      <td>Incorrect</td>\n",
       "    </tr>\n",
       "  </tbody>\n",
       "</table>\n",
       "</div>"
      ],
      "text/plain": [
       "  Agent Name  Rating                                        Review Text  \\\n",
       "0      Zepto     4.5  Purpose boy job cup decision girl now get job ...   \n",
       "1      Zepto     2.1  Prevent production able both the box school wa...   \n",
       "2    JioMart     4.5  Family station listen agreement more kitchen l...   \n",
       "3    JioMart     2.6  World north people area everything enter beyon...   \n",
       "4      Zepto     3.6  Hand way yourself tax whether sister anyone ef...   \n",
       "\n",
       "   Delivery Time (min)   Location  Order Type Customer Feedback Type  \\\n",
       "0                   58      Delhi  Essentials                Neutral   \n",
       "1                   25    Lucknow     Grocery               Negative   \n",
       "2                   54  Ahmedabad  Essentials                Neutral   \n",
       "3                   22    Chennai  Essentials                Neutral   \n",
       "4                   34       Pune    Pharmacy               Positive   \n",
       "\n",
       "  Price Range Discount Applied Product Availability  Customer Service Rating  \\\n",
       "0        High              Yes         Out of Stock                        4   \n",
       "1         Low               No         Out of Stock                        2   \n",
       "2         Low               No         Out of Stock                        3   \n",
       "3         Low              Yes             In Stock                        1   \n",
       "4        High               No             In Stock                        2   \n",
       "\n",
       "  Order Accuracy  \n",
       "0      Incorrect  \n",
       "1        Correct  \n",
       "2        Correct  \n",
       "3      Incorrect  \n",
       "4      Incorrect  "
      ]
     },
     "execution_count": 77,
     "metadata": {},
     "output_type": "execute_result"
    }
   ],
   "source": [
    "df.head()"
   ]
  },
  {
   "cell_type": "code",
   "execution_count": 80,
   "id": "e4c3e9a2",
   "metadata": {},
   "outputs": [
    {
     "data": {
      "text/plain": [
       "np.float64(0.02934310719398732)"
      ]
     },
     "execution_count": 80,
     "metadata": {},
     "output_type": "execute_result"
    }
   ],
   "source": [
    "#How does the accuracy of the order affect overall rating?\n",
    "df['Order Accuracy'].map({\n",
    "    'Incorrect':0,\n",
    "    'Correct':1\n",
    "}).corr(df['Customer Service Rating'])"
   ]
  },
  {
   "cell_type": "markdown",
   "id": "16a1ca6a",
   "metadata": {},
   "source": [
    "as the corr relation is close to 0 there is no relationship between the 2 ."
   ]
  },
  {
   "cell_type": "code",
   "execution_count": 84,
   "id": "b611464e",
   "metadata": {},
   "outputs": [
    {
     "data": {
      "text/plain": [
       "Order Type   Location \n",
       "Food         Bangalore    2.685714\n",
       "Grocery      Bangalore    2.696970\n",
       "Food         Chennai      2.741573\n",
       "             Hyderabad    2.775000\n",
       "Grocery      Hyderabad    2.777778\n",
       "Electronics  Chennai      2.785714\n",
       "Pharmacy     Bangalore    2.796460\n",
       "Essentials   Bangalore    2.811881\n",
       "             Ahmedabad    2.846154\n",
       "             Hyderabad    2.848485\n",
       "Grocery      Mumbai       2.849462\n",
       "Electronics  Jaipur       2.881188\n",
       "Pharmacy     Chennai      2.897727\n",
       "Electronics  Kolkata      2.903846\n",
       "Pharmacy     Lucknow      2.907216\n",
       "Electronics  Mumbai       2.911111\n",
       "Essentials   Lucknow      2.916667\n",
       "Food         Delhi        2.925000\n",
       "Electronics  Bangalore    2.926316\n",
       "             Hyderabad    2.943396\n",
       "             Pune         2.951456\n",
       "Food         Kolkata      2.953704\n",
       "Pharmacy     Hyderabad    2.969072\n",
       "Food         Mumbai       2.971154\n",
       "Essentials   Kolkata      2.973451\n",
       "             Pune         2.978723\n",
       "Pharmacy     Mumbai       2.981132\n",
       "Food         Pune         2.981818\n",
       "Essentials   Delhi        2.981982\n",
       "Pharmacy     Jaipur       2.988764\n",
       "Food         Ahmedabad    2.990476\n",
       "Grocery      Delhi        3.010204\n",
       "Pharmacy     Ahmedabad    3.016529\n",
       "Grocery      Pune         3.019417\n",
       "Essentials   Chennai      3.049383\n",
       "Pharmacy     Delhi        3.050000\n",
       "Essentials   Jaipur       3.055046\n",
       "Grocery      Chennai      3.057377\n",
       "             Kolkata      3.063158\n",
       "Food         Jaipur       3.065934\n",
       "Grocery      Ahmedabad    3.067416\n",
       "Electronics  Ahmedabad    3.093750\n",
       "Pharmacy     Kolkata      3.103093\n",
       "Electronics  Delhi        3.114286\n",
       "Essentials   Mumbai       3.142857\n",
       "Pharmacy     Pune         3.161905\n",
       "Grocery      Jaipur       3.222222\n",
       "             Lucknow      3.235955\n",
       "Electronics  Lucknow      3.254545\n",
       "Food         Lucknow      3.263736\n",
       "Name: Customer Service Rating, dtype: float64"
      ]
     },
     "execution_count": 84,
     "metadata": {},
     "output_type": "execute_result"
    }
   ],
   "source": [
    "#Use groupby to find the average Customer Service Rating per Order Type and Location.\n",
    "df.groupby(['Order Type',\"Location\"])['Customer Service Rating'].mean().sort_values()"
   ]
  },
  {
   "cell_type": "code",
   "execution_count": null,
   "id": "8bdd8528",
   "metadata": {},
   "outputs": [],
   "source": []
  }
 ],
 "metadata": {
  "kernelspec": {
   "display_name": "Python (tf_env)",
   "language": "python",
   "name": "tf_env"
  },
  "language_info": {
   "codemirror_mode": {
    "name": "ipython",
    "version": 3
   },
   "file_extension": ".py",
   "mimetype": "text/x-python",
   "name": "python",
   "nbconvert_exporter": "python",
   "pygments_lexer": "ipython3",
   "version": "3.10.16"
  }
 },
 "nbformat": 4,
 "nbformat_minor": 5
}
